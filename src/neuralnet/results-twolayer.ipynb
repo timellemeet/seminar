{
 "cells": [
  {
   "cell_type": "code",
   "execution_count": 1,
   "metadata": {},
   "outputs": [],
   "source": [
    "import numpy as np\n",
    "from sympy import preview\n",
    "import results_analysis\n",
    "from performance_func import heatmatrix"
   ]
  },
  {
   "cell_type": "code",
   "execution_count": 31,
   "metadata": {},
   "outputs": [],
   "source": [
    "allmodels = results_analysis.load_models(\"Results/Base\")\n",
    "models = [allmodels[49]] + allmodels[3:11][::-1]"
   ]
  },
  {
   "cell_type": "code",
   "execution_count": 37,
   "metadata": {},
   "outputs": [
    {
     "name": "stdout",
     "output_type": "stream",
     "text": [
      "The description is  Daniel thuis - layers [100] - epochs 20 - learning_rate 0.005\n",
      "0.9757199999999999\n",
      "\n",
      "\n",
      "The description is  Baseresults - layers [100, 90] - epochs 20 - learning_rate 0.005\n",
      "0.97828\n",
      "\n",
      "\n",
      "The description is  Baseresults - layers [100, 90, 80] - epochs 20 - learning_rate 0.005\n",
      "0.9733\n",
      "\n",
      "\n",
      "The description is  Baseresults - layers [100, 90, 80, 70] - epochs 20 - learning_rate 0.005\n",
      "0.9719800000000001\n",
      "\n",
      "\n",
      "The description is  Baseresults - layers [100, 90, 80, 70, 60] - epochs 20 - learning_rate 0.005\n",
      "0.9730000000000001\n",
      "\n",
      "\n",
      "The description is  Baseresults - layers [100, 90, 80, 70, 60, 50] - epochs 20 - learning_rate 0.005\n",
      "0.9734999999999999\n",
      "\n",
      "\n",
      "The description is  Baseresults - layers [100, 90, 80, 70, 60, 50, 40] - epochs 20 - learning_rate 0.005\n",
      "0.9729000000000001\n",
      "\n",
      "\n",
      "The description is  Baseresults - layers [100, 90, 80, 70, 60, 50, 40, 30] - epochs 20 - learning_rate 0.005\n",
      "0.9747\n",
      "\n",
      "\n",
      "The description is  Baseresults - layers [100, 90, 80, 70, 60, 50, 40, 30, 20] - epochs 20 - learning_rate 0.005\n",
      "0.9730800000000001\n",
      "\n",
      "\n"
     ]
    }
   ],
   "source": [
    "#results_analysis.operations_plot(models)\n",
    "\n",
    "for val in models:\n",
    "    print(\"The description is \",val.description)\n",
    "    print(val.overall_test_accuracy)\n",
    "    print('\\n')\n"
   ]
  }
 ],
 "metadata": {
  "kernelspec": {
   "display_name": "Python 3",
   "language": "python",
   "name": "python3"
  },
  "language_info": {
   "codemirror_mode": {
    "name": "ipython",
    "version": 3
   },
   "file_extension": ".py",
   "mimetype": "text/x-python",
   "name": "python",
   "nbconvert_exporter": "python",
   "pygments_lexer": "ipython3",
   "version": "3.7.1"
  }
 },
 "nbformat": 4,
 "nbformat_minor": 2
}
