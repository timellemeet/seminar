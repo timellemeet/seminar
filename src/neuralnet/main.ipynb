{
 "cells": [
  {
   "cell_type": "markdown",
   "metadata": {},
   "source": [
    "Importing modules"
   ]
  },
  {
   "cell_type": "code",
   "execution_count": 1,
   "metadata": {},
   "outputs": [],
   "source": [
    "import numpy as np\n",
    "import os\n",
    "import matplotlib.pyplot as plt\n",
    "from sklearn.metrics import accuracy_score\n",
    "from Layer import *\n",
    "from network import Network\n",
    "from activation_func import tanh, tanh_prime, sigmoid, sigmoid_prime, softmax, softmax_prime, relu, relu_prime\n",
    "from loss_func import mse, mse_prime, cross_entropy, cross_entropy_prime\n",
    "from data_func import vectorize_labels, k_fold, import_data\n",
    "from performance_func import plot_confusion_matrix, plot_error"
   ]
  },
  {
   "cell_type": "markdown",
   "metadata": {},
   "source": [
    "Importing data"
   ]
  },
  {
   "cell_type": "code",
   "execution_count": 2,
   "metadata": {},
   "outputs": [],
   "source": [
    "# import data and initialize seed\n",
    "np.random.seed(10)\n",
    "training_size = 3000\n",
    "normalize = True\n",
    "training, labels, test, original_test_labels, test_labels = import_data(size=training_size, normalize=normalize)\n",
    "\n",
    "# specify input and output parameters\n",
    "features = 784\n",
    "output_classes = 10"
   ]
  },
  {
   "cell_type": "markdown",
   "metadata": {},
   "source": [
    "Setting configuration"
   ]
  },
  {
   "cell_type": "code",
   "execution_count": 3,
   "metadata": {},
   "outputs": [],
   "source": [
    "# hyper parameters\n",
    "learning_rate = 5e-3\n",
    "hidden_layers = [30]\n",
    "max_epochs = 10\n",
    "batch_size = 10\n",
    "weight_decay = 0.01\n",
    "momentum = False\n",
    "\n"
   ]
  },
  {
   "cell_type": "markdown",
   "metadata": {},
   "source": [
    "Train the network"
   ]
  },
  {
   "cell_type": "code",
   "execution_count": 4,
   "metadata": {},
   "outputs": [
    {
     "name": "stdout",
     "output_type": "stream",
     "text": [
      "epoch 1/10   training error=3.235184  validation error=2.029763 validation accuracy=0.345000 ETA=0:00:03 tpe=0.326923\n",
      "epoch 2/10   training error=1.597299  validation error=1.363758 validation accuracy=0.591667 ETA=0:00:03 tpe=-0.005590\n",
      "epoch 3/10   training error=1.172808  validation error=1.088734 validation accuracy=0.668333 ETA=0:00:02 tpe=0.001563\n",
      "epoch 4/10   training error=0.956478  validation error=0.929207 validation accuracy=0.706667 ETA=0:00:02 tpe=0.000615\n",
      "epoch 5/10   training error=0.818982  validation error=0.827835 validation accuracy=0.740000 ETA=0:00:02 tpe=-0.004566\n",
      "epoch 6/10   training error=0.722251  validation error=0.748260 validation accuracy=0.763333 ETA=0:00:01 tpe=0.001390\n",
      "epoch 7/10   training error=0.655422  validation error=0.693233 validation accuracy=0.781667 ETA=0:00:01 tpe=0.000760\n",
      "epoch 8/10   training error=0.607134  validation error=0.653147 validation accuracy=0.798333 ETA=0:00:01 tpe=-0.000646\n",
      "epoch 9/10   training error=0.562559  validation error=0.615833 validation accuracy=0.815000 ETA=0:00:00 tpe=-0.000555\n",
      "epoch 10/10   training error=0.531646  validation error=0.587199 validation accuracy=0.828333 ETA=0:00:00 tpe=-0.000812\n",
      "Average epoch computational time:  0.3190832376480103\n",
      "The test accuracy of the network is: 0.798\n",
      "Wall time: 3.5 s\n"
     ]
    }
   ],
   "source": [
    "%%time\n",
    "# set up the network with specified layers, loss, and activation\n",
    "net = Network()\n",
    "net.setup_net(hidden_layers, features, output_classes,\n",
    "              activation=relu, activation_prime=relu_prime,\n",
    "              loss_activation=softmax, loss_activation_prime=softmax_prime,\n",
    "              loss=cross_entropy, loss_prime=cross_entropy_prime)\n",
    "# prepare data for training\n",
    "fold_train_data, fold_train_labels, fold_val_data, fold_val_labels = k_fold(training, labels, k=5, n=5)\n",
    "\n",
    "# train the model on training data and labels using specific hyper-parameters\n",
    "errors, val_errors, val_accs = net.fit(fold_train_data, fold_train_labels, fold_val_data, fold_val_labels,\n",
    "                             max_epochs, learning_rate, batch_size, momentum, weight_decay)\n",
    "\n",
    "# print the accuracy\n",
    "print(\"The test accuracy of the network is: {}\".format(\n",
    "      net.accuracy(x=test, y_true=original_test_labels, errors=errors, val_errors=val_errors)))"
   ]
  },
  {
   "cell_type": "markdown",
   "metadata": {},
   "source": [
    "Plot results"
   ]
  },
  {
   "cell_type": "code",
   "execution_count": 5,
   "metadata": {},
   "outputs": [
    {
     "data": {
      "image/png": "[encoded data removed]",
      "text/plain": [
       "<Figure size 432x288 with 1 Axes>"
      ]
     },
     "metadata": {
      "needs_background": "light"
     },
     "output_type": "display_data"
    }
   ],
   "source": [
    "plot_error(errors, val_errors)"
   ]
  },
  {
   "cell_type": "code",
   "execution_count": null,
   "metadata": {},
   "outputs": [],
   "source": []
  }
 ],
 "metadata": {
  "kernelspec": {
   "display_name": "Python 3",
   "language": "python",
   "name": "python3"
  },
  "language_info": {
   "codemirror_mode": {
    "name": "ipython",
    "version": 3
   },
   "file_extension": ".py",
   "mimetype": "text/x-python",
   "name": "python",
   "nbconvert_exporter": "python",
   "pygments_lexer": "ipython3",
   "version": "3.7.2"
  }
 },
 "nbformat": 4,
 "nbformat_minor": 2
}
