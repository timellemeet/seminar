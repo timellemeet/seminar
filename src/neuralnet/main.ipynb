{
 "cells": [
  {
   "cell_type": "markdown",
   "metadata": {},
   "source": [
    "Importing modules"
   ]
  },
  {
   "cell_type": "code",
   "execution_count": 2,
   "metadata": {},
   "outputs": [],
   "source": [
    "import numpy as np\n",
    "import os\n",
    "import matplotlib.pyplot as plt\n",
    "# from sklearn.metrics import accuracy_score\n",
    "from Layer import *\n",
    "from network import Network\n",
    "from activation_func import tanh, tanh_prime, sigmoid, sigmoid_prime, softmax, softmax_prime, relu, relu_prime\n",
    "from loss_func import mse, mse_prime, cross_entropy, cross_entropy_prime\n",
    "from data_func import vectorize_labels, k_fold, import_data\n",
    "from performance_func import plot_error, plot_confusion_matrix\n",
    "from network_queue import Queue\n",
    "import time\n"
   ]
  },
  {
   "cell_type": "markdown",
   "metadata": {},
   "source": [
    "Importing data"
   ]
  },
  {
   "cell_type": "code",
   "execution_count": 5,
   "metadata": {},
   "outputs": [
    {
     "name": "stdout",
     "output_type": "stream",
     "text": [
      "Fitting model 1/5\n",
      "epoch 1/10   training error=0.389990  validation error=0.299796 validation accuracy=0.924000 ETA=0:01:48 tpe=11.969959\n",
      "epoch 2/10   training error=0.304210  validation error=0.286047 validation accuracy=0.929333 ETA=0:01:35 tpe=-0.111168\n",
      "epoch 3/10   training error=0.295127  validation error=0.273298 validation accuracy=0.929000 ETA=0:01:22 tpe=-0.122913\n",
      "epoch 4/10   training error=0.290385  validation error=0.291786 validation accuracy=0.922083 ETA=0:01:10 tpe=-0.006663\n",
      "epoch 5/10   training error=0.287501  validation error=0.286971 validation accuracy=0.922917 ETA=0:00:59 tpe=0.120955\n",
      "epoch 6/10   training error=0.285243  validation error=0.275193 validation accuracy=0.935083 ETA=0:00:48 tpe=0.245703\n",
      "epoch 7/10   training error=0.284218  validation error=0.269844 validation accuracy=0.934500 ETA=0:00:37 tpe=0.081131\n",
      "epoch 8/10   training error=0.283684  validation error=0.263148 validation accuracy=0.937500 ETA=0:00:25 tpe=0.112835\n",
      "epoch 9/10   training error=0.282474  validation error=0.268671 validation accuracy=0.933000 ETA=0:00:12 tpe=0.014546\n",
      "epoch 10/10   training error=0.281857  validation error=0.269363 validation accuracy=0.930167 ETA=0:00:00 tpe=0.017695\n",
      "Average epoch computational time:  12.322080659866334\n",
      "Fitting model 2/5\n",
      "epoch 1/10   training error=0.393568  validation error=0.321601 validation accuracy=0.917500 ETA=0:01:51 tpe=12.288085\n",
      "epoch 2/10   training error=0.299973  validation error=0.317455 validation accuracy=0.914167 ETA=0:01:36 tpe=-0.258792\n",
      "epoch 3/10   training error=0.291498  validation error=0.294992 validation accuracy=0.925083 ETA=0:01:24 tpe=-0.089896\n",
      "epoch 4/10   training error=0.285329  validation error=0.293187 validation accuracy=0.925167 ETA=0:01:11 tpe=-0.037727\n",
      "epoch 5/10   training error=0.283468  validation error=0.284288 validation accuracy=0.927250 ETA=0:01:00 tpe=0.003693\n",
      "epoch 6/10   training error=0.281530  validation error=0.285050 validation accuracy=0.924833 ETA=0:00:49 tpe=0.296171\n",
      "epoch 7/10   training error=0.279606  validation error=0.306491 validation accuracy=0.920917 ETA=0:00:37 tpe=0.112513\n",
      "epoch 8/10   training error=0.279161  validation error=0.301489 validation accuracy=0.921583 ETA=0:00:25 tpe=0.014185\n",
      "epoch 9/10   training error=0.279553  validation error=0.286013 validation accuracy=0.927500 ETA=0:00:13 tpe=0.372773\n",
      "epoch 10/10   training error=0.277581  validation error=0.284689 validation accuracy=0.927750 ETA=0:00:00 tpe=0.042608\n",
      "Average epoch computational time:  12.743611693382263\n",
      "Fitting model 3/5\n",
      "epoch 1/10   training error=0.376134  validation error=0.318709 validation accuracy=0.918167 ETA=0:02:04 tpe=13.795124\n",
      "epoch 2/10   training error=0.297566  validation error=0.302673 validation accuracy=0.922833 ETA=0:01:53 tpe=0.283456\n",
      "epoch 3/10   training error=0.290827  validation error=0.312648 validation accuracy=0.920833 ETA=0:01:41 tpe=0.314761\n",
      "epoch 4/10   training error=0.286017  validation error=0.315006 validation accuracy=0.914333 ETA=0:01:23 tpe=-0.479925\n",
      "epoch 5/10   training error=0.284461  validation error=0.292990 validation accuracy=0.925167 ETA=0:01:10 tpe=0.103445\n",
      "epoch 6/10   training error=0.281630  validation error=0.300107 validation accuracy=0.921250 ETA=0:00:55 tpe=-0.218145\n",
      "epoch 7/10   training error=0.280450  validation error=0.302576 validation accuracy=0.921667 ETA=0:00:41 tpe=-0.092370\n",
      "epoch 8/10   training error=0.280922  validation error=0.298112 validation accuracy=0.920833 ETA=0:00:28 tpe=0.110525\n",
      "epoch 9/10   training error=0.278891  validation error=0.305064 validation accuracy=0.920833 ETA=0:00:14 tpe=-0.037996\n",
      "epoch 10/10   training error=0.277728  validation error=0.313906 validation accuracy=0.917500 ETA=0:00:00 tpe=-0.025918\n",
      "Average epoch computational time:  13.752956295013428\n",
      "Fitting model 4/5\n",
      "epoch 1/10   training error=0.383984  validation error=0.326171 validation accuracy=0.910667 ETA=0:02:14 tpe=14.939880\n",
      "epoch 2/10   training error=0.297847  validation error=0.317795 validation accuracy=0.919000 ETA=0:01:51 tpe=-1.111466\n",
      "epoch 3/10   training error=0.288248  validation error=0.289540 validation accuracy=0.924917 ETA=0:01:35 tpe=-0.194317\n",
      "epoch 4/10   training error=0.282858  validation error=0.289548 validation accuracy=0.922750 ETA=0:01:23 tpe=0.237007\n",
      "epoch 5/10   training error=0.280947  validation error=0.295954 validation accuracy=0.923750 ETA=0:01:09 tpe=0.013869\n",
      "epoch 6/10   training error=0.278313  validation error=0.299637 validation accuracy=0.919167 ETA=0:00:55 tpe=-0.137192\n",
      "epoch 7/10   training error=0.278920  validation error=0.297043 validation accuracy=0.925083 ETA=0:00:40 tpe=-0.258670\n",
      "epoch 8/10   training error=0.276710  validation error=0.328310 validation accuracy=0.908833 ETA=0:00:27 tpe=0.067293\n",
      "epoch 9/10   training error=0.275335  validation error=0.290008 validation accuracy=0.924583 ETA=0:00:13 tpe=-0.220701\n",
      "epoch 10/10   training error=0.275978  validation error=0.293376 validation accuracy=0.922667 ETA=0:00:00 tpe=-0.089798\n",
      "Average epoch computational time:  13.245905089378358\n",
      "Fitting model 5/5\n",
      "epoch 1/10   training error=0.385494  validation error=0.287293 validation accuracy=0.928500 ETA=0:02:00 tpe=13.295460\n",
      "epoch 2/10   training error=0.303826  validation error=0.293778 validation accuracy=0.922667 ETA=0:01:47 tpe=0.029935\n",
      "epoch 3/10   training error=0.295365  validation error=0.272213 validation accuracy=0.931250 ETA=0:01:33 tpe=-0.025932\n",
      "epoch 4/10   training error=0.291824  validation error=0.269183 validation accuracy=0.934250 ETA=0:01:23 tpe=0.590386\n",
      "epoch 5/10   training error=0.289618  validation error=0.267881 validation accuracy=0.936583 ETA=0:01:10 tpe=0.044041\n",
      "epoch 6/10   training error=0.288461  validation error=0.270482 validation accuracy=0.933083 ETA=0:00:56 tpe=-0.011825\n",
      "epoch 7/10   training error=0.286085  validation error=0.264005 validation accuracy=0.934167 ETA=0:00:41 tpe=-0.385433\n",
      "epoch 8/10   training error=0.283502  validation error=0.257148 validation accuracy=0.936000 ETA=0:00:27 tpe=-0.235351\n",
      "epoch 9/10   training error=0.284715  validation error=0.254140 validation accuracy=0.940583 ETA=0:00:13 tpe=-0.206294\n",
      "epoch 10/10   training error=0.281986  validation error=0.262181 validation accuracy=0.935417 ETA=0:00:00 tpe=-0.159776\n",
      "Average epoch computational time:  12.93521146774292\n"
     ]
    }
   ],
   "source": [
    "# import data and initialize seed\n",
    "np.random.seed(10)\n",
    "\n",
    "# import data\n",
    "training_size = 60000\n",
    "normalize = True\n",
    "training, labels, test, original_test_labels, test_labels = import_data(size=training_size, normalize=normalize)\n",
    "\n",
    "# intializing queue\n",
    "queue = Queue(training, labels, test, test_labels, original_test_labels)\n",
    "\n",
    "#setting up the models\n",
    "\n",
    "architectures = [[50]]\n",
    "for layers in architectures:\n",
    "    queue.add(\n",
    "        description=\"architecture: \"+str(layers)+\" training_size: \"+str(training_size),\n",
    "        netparams={\n",
    "        \"hidden_layers\": layers,\n",
    "        \"features\": 784,\n",
    "        \"output_classes\": 10,\n",
    "        \"activation\": relu,\n",
    "        \"activation_prime\": relu_prime,\n",
    "        \"loss_activation\": softmax,\n",
    "        \"loss_activation_prime\": softmax_prime,\n",
    "        \"loss\": cross_entropy,\n",
    "        \"loss_prime\": cross_entropy_prime\n",
    "    },\n",
    "    folds=5,\n",
    "    params={\"epochs\": 10,\n",
    "            \"learning_rate\": 5e-3,\n",
    "            \"batch_size\": 1,\n",
    "            \"momentum\": False,\n",
    "            \"weight_decay\": 0.01})\n",
    "\n",
    "#execute queue\n",
    "results = queue.execute()\n",
    "np.save(\"Results/save-\"+time.strftime(\"%Y-%m-%d-%H%M%S\"), results)"
   ]
  },
  {
   "cell_type": "code",
   "execution_count": 9,
   "metadata": {},
   "outputs": [
    {
     "name": "stdout",
     "output_type": "stream",
     "text": [
      "[{'description': 'architecture: [50] training_size: 60000 - Fold 1', 'network': <network.Network object at 0x0000021C58B02E48>, 'params': {'epochs': 10, 'learning_rate': 0.005, 'batch_size': 1, 'momentum': False, 'weight_decay': 0.01}, 'results': [[0.38998996568635674, 0.30421030133877736, 0.2951273652622609, 0.29038452597430825, 0.2875005723248116, 0.28524312479866964, 0.2842180455802134, 0.2836842932159361, 0.2824744224503736, 0.2818565238548285], [0.29979629516747613, 0.28604705015211146, 0.2732977852873518, 0.2917859095199333, 0.2869710993741881, 0.2751931493612682, 0.26984356228157597, 0.2631481585676443, 0.2686708539875032, 0.2693634782356531], [0.924, 0.9293333333333333, 0.929, 0.9220833333333334, 0.9229166666666667, 0.9350833333333334, 0.9345, 0.9375, 0.933, 0.9301666666666667]], 'accuracies': 0.9307}\n",
      " {'description': 'architecture: [50] training_size: 60000 - Fold 2', 'network': <network.Network object at 0x0000021C58B02828>, 'params': {'epochs': 10, 'learning_rate': 0.005, 'batch_size': 1, 'momentum': False, 'weight_decay': 0.01}, 'results': [[0.39356751501225484, 0.2999729440923394, 0.2914980954711582, 0.28532877997568123, 0.28346802197643844, 0.28153009546961705, 0.27960566617787597, 0.27916055337893914, 0.27955253730858004, 0.2775808998067058], [0.3216011268200085, 0.3174553472316076, 0.2949918885896656, 0.2931870622516167, 0.28428835455245893, 0.2850500449644069, 0.3064907959717582, 0.3014885956378059, 0.28601270233016324, 0.2846891551345574], [0.9175, 0.9141666666666667, 0.9250833333333334, 0.9251666666666667, 0.92725, 0.9248333333333333, 0.9209166666666667, 0.9215833333333333, 0.9275, 0.92775]], 'accuracies': 0.9335}\n",
      " {'description': 'architecture: [50] training_size: 60000 - Fold 3', 'network': <network.Network object at 0x0000021C58B02A58>, 'params': {'epochs': 10, 'learning_rate': 0.005, 'batch_size': 1, 'momentum': False, 'weight_decay': 0.01}, 'results': [[0.37613414384022203, 0.297566048118173, 0.2908273028944335, 0.2860171969754617, 0.28446123441280746, 0.2816297249127608, 0.28045032997973235, 0.2809219026615187, 0.27889074761920535, 0.2777282071742348], [0.3187093513739714, 0.30267343957326903, 0.312648248510759, 0.3150061399009955, 0.29298969075720444, 0.30010737051992065, 0.3025762780188763, 0.29811245719626556, 0.3050644671825098, 0.31390624228964015], [0.9181666666666667, 0.9228333333333333, 0.9208333333333333, 0.9143333333333333, 0.9251666666666667, 0.92125, 0.9216666666666666, 0.9208333333333333, 0.9208333333333333, 0.9175]], 'accuracies': 0.9252}\n",
      " {'description': 'architecture: [50] training_size: 60000 - Fold 4', 'network': <network.Network object at 0x0000021C58B02710>, 'params': {'epochs': 10, 'learning_rate': 0.005, 'batch_size': 1, 'momentum': False, 'weight_decay': 0.01}, 'results': [[0.3839841102897741, 0.29784717176870085, 0.2882484379427915, 0.28285780652782916, 0.2809467823203614, 0.2783126624147995, 0.27892009265711365, 0.27670959724171423, 0.27533466385800953, 0.2759775139358804], [0.3261710499655621, 0.3177954728625069, 0.2895404241430455, 0.2895478191077638, 0.295954419933184, 0.2996365540755832, 0.2970425896846638, 0.3283097005082962, 0.2900082745088825, 0.2933759316169853], [0.9106666666666666, 0.919, 0.9249166666666667, 0.92275, 0.92375, 0.9191666666666667, 0.9250833333333334, 0.9088333333333334, 0.9245833333333333, 0.9226666666666666]], 'accuracies': 0.9314}\n",
      " {'description': 'architecture: [50] training_size: 60000 - Fold 5', 'network': <network.Network object at 0x0000021C55853898>, 'params': {'epochs': 10, 'learning_rate': 0.005, 'batch_size': 1, 'momentum': False, 'weight_decay': 0.01}, 'results': [[0.3854942593281237, 0.3038264586828765, 0.29536486578514076, 0.29182400498585376, 0.28961786775188675, 0.28846116758943136, 0.28608535274173313, 0.28350167667569065, 0.2847150678305742, 0.2819863392205436], [0.28729318374895, 0.29377765163438835, 0.27221346580103717, 0.26918296766859134, 0.26788143871884074, 0.2704823325579708, 0.26400453253357165, 0.2571481687978917, 0.25414016318322386, 0.26218056171346316], [0.9285, 0.9226666666666666, 0.93125, 0.93425, 0.9365833333333333, 0.9330833333333334, 0.9341666666666667, 0.936, 0.9405833333333333, 0.9354166666666667]], 'accuracies': 0.9369}]\n"
     ]
    }
   ],
   "source": [
    "data = np.load(\"Results/save-2019-04-01-155642.npy\")\n",
    "print(data)"
   ]
  }
 ],
 "metadata": {
  "kernelspec": {
   "display_name": "Python 3",
   "language": "python",
   "name": "python3"
  },
  "language_info": {
   "codemirror_mode": {
    "name": "ipython",
    "version": 3
   },
   "file_extension": ".py",
   "mimetype": "text/x-python",
   "name": "python",
   "nbconvert_exporter": "python",
   "pygments_lexer": "ipython3",
   "version": "3.7.1"
  }
 },
 "nbformat": 4,
 "nbformat_minor": 2
}
