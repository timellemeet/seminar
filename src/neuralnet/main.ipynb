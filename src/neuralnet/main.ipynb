{
 "cells": [
  {
   "cell_type": "markdown",
   "metadata": {},
   "source": [
    "Importing modules"
   ]
  },
  {
   "cell_type": "code",
   "execution_count": 23,
   "metadata": {},
   "outputs": [],
   "source": [
    "import numpy as np\n",
    "import os\n",
    "import matplotlib.pyplot as plt\n",
    "from sklearn.metrics import accuracy_score\n",
    "from Layer import *\n",
    "from network import Network\n",
    "from activation_func import tanh, tanh_prime, sigmoid, sigmoid_prime, softmax, softmax_prime, relu, relu_prime\n",
    "from loss_func import mse, mse_prime, cross_entropy, cross_entropy_prime\n",
    "from data_func import vectorize_labels, k_fold, import_data\n",
    "from performance_func import plot_confusion_matrix, plot_error"
   ]
  },
  {
   "cell_type": "markdown",
   "metadata": {},
   "source": [
    "Importing data"
   ]
  },
  {
   "cell_type": "code",
   "execution_count": 24,
   "metadata": {},
   "outputs": [],
   "source": [
    "# import data and initialize seed\n",
    "np.random.seed(10)\n",
    "training_size = 6000\n",
    "normalize = True\n",
    "training, labels, test, original_test_labels, test_labels = import_data(size=training_size, normalize=normalize)\n",
    "\n",
    "# specify input and output parameters\n",
    "features = 784\n",
    "output_classes = 10"
   ]
  },
  {
   "cell_type": "markdown",
   "metadata": {},
   "source": [
    "Setting configuration"
   ]
  },
  {
   "cell_type": "code",
   "execution_count": 25,
   "metadata": {},
   "outputs": [],
   "source": [
    "# hyper parameters\n",
    "learning_rate = 5e-3\n",
    "hidden_layers = [30]\n",
    "max_epochs = 10\n",
    "batch_size = 32\n",
    "weight_decay = 0.01\n",
    "momentum = False\n",
    "\n"
   ]
  },
  {
   "cell_type": "markdown",
   "metadata": {},
   "source": [
    "Train the network"
   ]
  },
  {
   "cell_type": "code",
   "execution_count": 26,
   "metadata": {},
   "outputs": [
    {
     "name": "stdout",
     "output_type": "stream",
     "text": [
      "epoch 1/10   training error=3.862628  validation error=2.639811 validation accuracy=0.253333\n",
      "epoch 2/10   training error=2.124332  validation error=1.810408 validation accuracy=0.432500\n",
      "epoch 3/10   training error=1.576840  validation error=1.442041 validation accuracy=0.545833\n",
      "epoch 4/10   training error=1.296489  validation error=1.237067 validation accuracy=0.615833\n",
      "epoch 5/10   training error=1.121475  validation error=1.091795 validation accuracy=0.664167\n",
      "epoch 6/10   training error=0.995594  validation error=0.987632 validation accuracy=0.690000\n",
      "epoch 7/10   training error=0.896195  validation error=0.906513 validation accuracy=0.714167\n",
      "epoch 8/10   training error=0.821555  validation error=0.840904 validation accuracy=0.730833\n",
      "epoch 9/10   training error=0.760164  validation error=0.788563 validation accuracy=0.740000\n",
      "epoch 10/10   training error=0.712207  validation error=0.747730 validation accuracy=0.753333\n"
     ]
    },
    {
     "ename": "ValueError",
     "evalue": "not enough values to unpack (expected 3, got 2)",
     "output_type": "error",
     "traceback": [
      "\u001b[1;31m---------------------------------------------------------------------------\u001b[0m",
      "\u001b[1;31mValueError\u001b[0m                                Traceback (most recent call last)",
      "\u001b[1;32m<ipython-input-26-e6a573141695>\u001b[0m in \u001b[0;36m<module>\u001b[1;34m\u001b[0m\n\u001b[0;32m     10\u001b[0m \u001b[1;31m# train the model on training data and labels using specific hyper-parameters\u001b[0m\u001b[1;33m\u001b[0m\u001b[1;33m\u001b[0m\u001b[1;33m\u001b[0m\u001b[0m\n\u001b[0;32m     11\u001b[0m errors, val_errors, val_accs = net.fit(fold_train_data, fold_train_labels, fold_val_data, fold_val_labels,\n\u001b[1;32m---> 12\u001b[1;33m                              max_epochs, learning_rate, batch_size, momentum, weight_decay)\n\u001b[0m\u001b[0;32m     13\u001b[0m \u001b[1;33m\u001b[0m\u001b[0m\n\u001b[0;32m     14\u001b[0m \u001b[1;31m# print the accuracy\u001b[0m\u001b[1;33m\u001b[0m\u001b[1;33m\u001b[0m\u001b[1;33m\u001b[0m\u001b[0m\n",
      "\u001b[1;31mValueError\u001b[0m: not enough values to unpack (expected 3, got 2)"
     ]
    }
   ],
   "source": [
    "# set up the network with specified layers, loss, and activation\n",
    "net = Network()\n",
    "net.setup_net(hidden_layers, features, output_classes,\n",
    "              activation=relu, activation_prime=relu_prime,\n",
    "              loss_activation=softmax, loss_activation_prime=softmax_prime,\n",
    "              loss=cross_entropy, loss_prime=cross_entropy_prime)\n",
    "# prepare data for training\n",
    "fold_train_data, fold_train_labels, fold_val_data, fold_val_labels = k_fold(training, labels, k=5, n=5)\n",
    "\n",
    "# train the model on training data and labels using specific hyper-parameters\n",
    "errors, val_errors, val_accs = net.fit(fold_train_data, fold_train_labels, fold_val_data, fold_val_labels,\n",
    "                             max_epochs, learning_rate, batch_size, momentum, weight_decay)\n",
    "\n",
    "# print the accuracy\n",
    "print(\"The test accuracy of the network is: {}\".format(\n",
    "      net.accuracy(x=test, y_true=original_test_labels, errors=errors, val_errors=val_errors)))"
   ]
  },
  {
   "cell_type": "markdown",
   "metadata": {},
   "source": [
    "Plot results"
   ]
  },
  {
   "cell_type": "code",
   "execution_count": 11,
   "metadata": {},
   "outputs": [
    {
     "data": {
      "image/png": "[encoded data removed]",
      "text/plain": [
       "<Figure size 432x288 with 1 Axes>"
      ]
     },
     "metadata": {
      "needs_background": "light"
     },
     "output_type": "display_data"
    }
   ],
   "source": [
    "plot_error(errors, val_errors)"
   ]
  },
  {
   "cell_type": "code",
   "execution_count": null,
   "metadata": {},
   "outputs": [],
   "source": []
  }
 ],
 "metadata": {
  "kernelspec": {
   "display_name": "Python 3",
   "language": "python",
   "name": "python3"
  },
  "language_info": {
   "codemirror_mode": {
    "name": "ipython",
    "version": 3
   },
   "file_extension": ".py",
   "mimetype": "text/x-python",
   "name": "python",
   "nbconvert_exporter": "python",
   "pygments_lexer": "ipython3",
   "version": "3.7.2"
  }
 },
 "nbformat": 4,
 "nbformat_minor": 2
}
