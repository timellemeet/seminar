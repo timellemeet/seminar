{
 "cells": [
  {
   "cell_type": "markdown",
   "metadata": {},
   "source": [
    "Importing modules"
   ]
  },
  {
   "cell_type": "code",
   "execution_count": 1,
   "metadata": {},
   "outputs": [],
   "source": [
    "import numpy as np\n",
    "import os\n",
    "import matplotlib.pyplot as plt\n",
    "# from sklearn.metrics import accuracy_score\n",
    "from Layer import *\n",
    "from network import Network\n",
    "from activation_func import tanh, tanh_prime, sigmoid, sigmoid_prime, softmax, softmax_prime, relu, relu_prime\n",
    "from loss_func import mse, mse_prime, cross_entropy, cross_entropy_prime\n",
    "from data_func import vectorize_labels, k_fold, import_data\n",
    "from performance_func import plot_error, plot_confusion_matrix\n",
    "from network_queue import Queue\n"
   ]
  },
  {
   "cell_type": "markdown",
   "metadata": {},
   "source": [
    "Importing data"
   ]
  },
  {
   "cell_type": "code",
   "execution_count": 2,
   "metadata": {},
   "outputs": [
    {
     "name": "stdout",
     "output_type": "stream",
     "text": [
      "Fitting model 1/10\n",
      "epoch 1/3   training error=4.504946  validation error=3.579496 validation accuracy=0.000000 ETA=0:00:00\n",
      "epoch 2/3   training error=2.654058  validation error=2.936414 validation accuracy=0.100000 ETA=0:00:00\n",
      "epoch 3/3   training error=2.033245  validation error=2.673691 validation accuracy=0.150000 ETA=0:00:00\n",
      "Average epoch computational time:  0.01866610844930013\n",
      "Fitting model 2/10\n",
      "epoch 1/3   training error=4.883202  validation error=3.162335 validation accuracy=0.300000 ETA=0:00:00\n",
      "epoch 2/3   training error=2.761088  validation error=2.447065 validation accuracy=0.350000 ETA=0:00:00\n",
      "epoch 3/3   training error=2.039783  validation error=2.280197 validation accuracy=0.350000 ETA=0:00:00\n",
      "Average epoch computational time:  0.010666847229003906\n",
      "Fitting model 3/10\n",
      "epoch 1/3   training error=4.093267  validation error=4.204655 validation accuracy=0.200000 ETA=0:00:00\n",
      "epoch 2/3   training error=2.356893  validation error=3.569386 validation accuracy=0.250000 ETA=0:00:00\n",
      "epoch 3/3   training error=1.850004  validation error=3.489439 validation accuracy=0.150000 ETA=0:00:00\n",
      "Average epoch computational time:  0.011999924977620443\n",
      "Fitting model 4/10\n",
      "epoch 1/3   training error=3.448868  validation error=3.292365 validation accuracy=0.150000 ETA=0:00:00\n",
      "epoch 2/3   training error=2.295802  validation error=2.878844 validation accuracy=0.300000 ETA=0:00:00\n",
      "epoch 3/3   training error=1.890195  validation error=2.583342 validation accuracy=0.350000 ETA=0:00:00\n",
      "Average epoch computational time:  0.012000799179077148\n",
      "Fitting model 5/10\n",
      "epoch 1/3   training error=4.191010  validation error=3.018692 validation accuracy=0.150000 ETA=0:00:00\n",
      "epoch 2/3   training error=2.375373  validation error=2.371158 validation accuracy=0.200000 ETA=0:00:00\n",
      "epoch 3/3   training error=1.915836  validation error=2.164591 validation accuracy=0.300000 ETA=0:00:00\n",
      "Average epoch computational time:  0.014667828877766928\n",
      "Fitting model 6/10\n",
      "epoch 1/3   training error=2.517013  validation error=2.495193 validation accuracy=0.150000 ETA=0:00:00\n",
      "epoch 2/3   training error=2.426615  validation error=2.418034 validation accuracy=0.150000 ETA=0:00:00\n",
      "epoch 3/3   training error=2.317698  validation error=2.353825 validation accuracy=0.200000 ETA=0:00:00\n",
      "Average epoch computational time:  0.01333316167195638\n",
      "Fitting model 7/10\n",
      "epoch 1/3   training error=2.616118  validation error=2.449941 validation accuracy=0.250000 ETA=0:00:00\n",
      "epoch 2/3   training error=2.348226  validation error=2.253518 validation accuracy=0.250000 ETA=0:00:00\n",
      "epoch 3/3   training error=2.150857  validation error=2.136275 validation accuracy=0.300000 ETA=0:00:00\n",
      "Average epoch computational time:  0.0160061518351237\n",
      "Fitting model 8/10\n",
      "epoch 1/3   training error=2.702870  validation error=2.791736 validation accuracy=0.050000 ETA=0:00:00\n",
      "epoch 2/3   training error=2.539009  validation error=2.652631 validation accuracy=0.000000 ETA=0:00:00\n",
      "epoch 3/3   training error=2.408028  validation error=2.559672 validation accuracy=0.000000 ETA=0:00:00\n",
      "Average epoch computational time:  0.011987765630086264\n",
      "Fitting model 9/10\n",
      "epoch 1/3   training error=2.715552  validation error=2.804392 validation accuracy=0.100000 ETA=0:00:00\n",
      "epoch 2/3   training error=2.489733  validation error=2.657313 validation accuracy=0.100000 ETA=0:00:00\n",
      "epoch 3/3   training error=2.361038  validation error=2.548165 validation accuracy=0.100000 ETA=0:00:00\n",
      "Average epoch computational time:  0.019999583562215168\n",
      "Fitting model 10/10\n",
      "epoch 1/3   training error=3.331877  validation error=2.597820 validation accuracy=0.150000 ETA=0:00:00\n",
      "epoch 2/3   training error=2.850223  validation error=2.410196 validation accuracy=0.150000 ETA=0:00:00\n",
      "epoch 3/3   training error=2.599227  validation error=2.312547 validation accuracy=0.100000 ETA=0:00:00\n",
      "Average epoch computational time:  0.011999924977620443\n"
     ]
    },
    {
     "ename": "IndexError",
     "evalue": "list index out of range",
     "output_type": "error",
     "traceback": [
      "\u001b[1;31m---------------------------------------------------------------------------\u001b[0m",
      "\u001b[1;31mIndexError\u001b[0m                                Traceback (most recent call last)",
      "\u001b[1;32m<ipython-input-2-06031ee59f13>\u001b[0m in \u001b[0;36m<module>\u001b[1;34m\u001b[0m\n\u001b[0;32m     55\u001b[0m \u001b[1;33m\u001b[0m\u001b[0m\n\u001b[0;32m     56\u001b[0m \u001b[1;31m#execute queue\u001b[0m\u001b[1;33m\u001b[0m\u001b[1;33m\u001b[0m\u001b[1;33m\u001b[0m\u001b[0m\n\u001b[1;32m---> 57\u001b[1;33m \u001b[0mresults\u001b[0m \u001b[1;33m=\u001b[0m \u001b[0mqueue\u001b[0m\u001b[1;33m.\u001b[0m\u001b[0mexecute\u001b[0m\u001b[1;33m(\u001b[0m\u001b[1;33m)\u001b[0m\u001b[1;33m\u001b[0m\u001b[1;33m\u001b[0m\u001b[0m\n\u001b[0m",
      "\u001b[1;32m~\\PycharmProjects\\seminar\\src\\neuralnet\\network_queue.py\u001b[0m in \u001b[0;36mexecute\u001b[1;34m(self)\u001b[0m\n\u001b[0;32m     75\u001b[0m                 \u001b[0mstartindex\u001b[0m \u001b[1;33m=\u001b[0m \u001b[0mendindex\u001b[0m \u001b[1;33m+\u001b[0m \u001b[1;36m1\u001b[0m\u001b[1;33m\u001b[0m\u001b[1;33m\u001b[0m\u001b[0m\n\u001b[0;32m     76\u001b[0m                 \u001b[0minfoindex\u001b[0m \u001b[1;33m+=\u001b[0m \u001b[1;36m1\u001b[0m\u001b[1;33m\u001b[0m\u001b[1;33m\u001b[0m\u001b[0m\n\u001b[1;32m---> 77\u001b[1;33m                 \u001b[0mendindex\u001b[0m \u001b[1;33m+=\u001b[0m \u001b[0mself\u001b[0m\u001b[1;33m.\u001b[0m\u001b[0minfo\u001b[0m\u001b[1;33m[\u001b[0m\u001b[0minfoindex\u001b[0m\u001b[1;33m]\u001b[0m\u001b[1;33m[\u001b[0m\u001b[1;34m\"folds\"\u001b[0m\u001b[1;33m]\u001b[0m\u001b[1;33m\u001b[0m\u001b[1;33m\u001b[0m\u001b[0m\n\u001b[0m\u001b[0;32m     78\u001b[0m \u001b[1;33m\u001b[0m\u001b[0m\n\u001b[0;32m     79\u001b[0m         \u001b[1;32mreturn\u001b[0m \u001b[0mself\u001b[0m\u001b[1;33m.\u001b[0m\u001b[0mqueue\u001b[0m\u001b[1;33m\u001b[0m\u001b[1;33m\u001b[0m\u001b[0m\n",
      "\u001b[1;31mIndexError\u001b[0m: list index out of range"
     ]
    }
   ],
   "source": [
    "\n",
    "# import data and initialize seed\n",
    "np.random.seed(10)\n",
    "\n",
    "# import data\n",
    "training_size = 100\n",
    "normalize = True\n",
    "training, labels, test, original_test_labels, test_labels = import_data(size=training_size, normalize=normalize)\n",
    "\n",
    "# intializing queue\n",
    "queue = Queue(training, labels, test, test_labels, original_test_labels)\n",
    "\n",
    "#setting up the models\n",
    "\n",
    "architectures = [[15]]\n",
    "params =  {\"epochs\": 3,\n",
    "            \"learning_rate\": 5e-3,\n",
    "            \"batch_size\": 1,\n",
    "            \"momentum\": False,\n",
    "            \"weight_decay\": 0.01}\n",
    "\n",
    "for layers in architectures:\n",
    "    queue.add(\n",
    "        description=\"relu - activation benchmark\",\n",
    "        netparams={\n",
    "        \"hidden_layers\": layers,\n",
    "        \"features\": 784,\n",
    "        \"output_classes\": 10,\n",
    "        \"activation\": relu,\n",
    "        \"activation_prime\": relu_prime,\n",
    "        \"loss_activation\": softmax,\n",
    "        \"loss_activation_prime\": softmax_prime,\n",
    "        \"loss\": cross_entropy,\n",
    "        \"loss_prime\": cross_entropy_prime,\n",
    "        \"activation_alpha\": 0.5\n",
    "    },\n",
    "    folds=5,\n",
    "    params=params)\n",
    "    queue.add(\n",
    "        description=\"sigmoid - activation benchmark\",\n",
    "        netparams={\n",
    "        \"hidden_layers\": layers,\n",
    "        \"features\": 784,\n",
    "        \"output_classes\": 10,\n",
    "        \"activation\": sigmoid,\n",
    "        \"activation_prime\": sigmoid_prime,\n",
    "        \"loss_activation\": softmax,\n",
    "        \"loss_activation_prime\": softmax_prime,\n",
    "        \"loss\": cross_entropy,\n",
    "        \"loss_prime\": cross_entropy_prime,\n",
    "        \"activation_alpha\": 0.5\n",
    "    },\n",
    "    folds=5,\n",
    "    params=params)\n",
    "\n",
    "#execute queue\n",
    "results = queue.execute()"
   ]
  },
  {
   "cell_type": "code",
   "execution_count": 4,
   "metadata": {},
   "outputs": [
    {
     "name": "stdout",
     "output_type": "stream",
     "text": [
      "8\n"
     ]
    }
   ],
   "source": [
    "# model_1 = np.load(\"Results/architecture [50, 30] training_size 60000 - 2019-04-03-135327.npy\")\n",
    "\n",
    "# print(model_1[1][])\n",
    "\n",
    "test = [\n",
    "    {\"a\":1},\n",
    "    {\"a\":1},\n",
    "    {\"a\":1},\n",
    "    {\"a\":1},\n",
    "    {\"a\":1},\n",
    "    {\"a\":1},\n",
    "    {\"a\":1},\n",
    "    {\"a\":1}\n",
    "]\n",
    "\n",
    "print(len(test))"
   ]
  }
 ],
 "metadata": {
  "kernelspec": {
   "display_name": "Python 3",
   "language": "python",
   "name": "python3"
  },
  "language_info": {
   "codemirror_mode": {
    "name": "ipython",
    "version": 3
   },
   "file_extension": ".py",
   "mimetype": "text/x-python",
   "name": "python",
   "nbconvert_exporter": "python",
   "pygments_lexer": "ipython3",
   "version": "3.7.1"
  }
 },
 "nbformat": 4,
 "nbformat_minor": 2
}
