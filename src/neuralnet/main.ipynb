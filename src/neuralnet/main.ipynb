{
 "cells": [
  {
   "cell_type": "markdown",
   "metadata": {},
   "source": [
    "Importing modules"
   ]
  },
  {
   "cell_type": "code",
   "execution_count": 1,
   "metadata": {},
   "outputs": [],
   "source": [
    "import numpy as np\n",
    "import os\n",
    "import matplotlib.pyplot as plt\n",
    "# from sklearn.metrics import accuracy_score\n",
    "from Layer import *\n",
    "from network import Network\n",
    "from activation_func import tanh, tanh_prime, sigmoid, sigmoid_prime, softmax, softmax_prime, relu, relu_prime\n",
    "from loss_func import mse, mse_prime, cross_entropy, cross_entropy_prime\n",
    "from data_func import vectorize_labels, k_fold, import_data\n",
    "from performance_func import plot_error, plot_confusion_matrix\n",
    "from network_queue import Queue\n",
    "import time\n"
   ]
  },
  {
   "cell_type": "markdown",
   "metadata": {},
   "source": [
    "Importing data"
   ]
  },
  {
   "cell_type": "code",
   "execution_count": null,
   "metadata": {},
   "outputs": [
    {
     "name": "stdout",
     "output_type": "stream",
     "text": [
      "Fitting model 1/10\n",
      "epoch 1/20   training error=1.662474  validation error=0.959025 validation accuracy=0.705000 ETA=0:00:04 tpe=0.222492\n",
      "epoch 2/20   training error=0.628579  validation error=0.701032 validation accuracy=0.790000 ETA=0:00:04 tpe=-0.003035\n",
      "epoch 3/20   training error=0.433469  validation error=0.609001 validation accuracy=0.830000 ETA=0:00:04 tpe=0.006696\n",
      "epoch 4/20   training error=0.327792  validation error=0.598477 validation accuracy=0.840000 ETA=0:00:03 tpe=-0.008409\n",
      "epoch 5/20   training error=0.266621  validation error=0.582815 validation accuracy=0.840000 ETA=0:00:03 tpe=-0.001352\n",
      "epoch 6/20   training error=0.236832  validation error=0.524892 validation accuracy=0.865000 ETA=0:00:03 tpe=-0.003978\n",
      "epoch 7/20   training error=0.198864  validation error=0.507147 validation accuracy=0.860000 ETA=0:00:03 tpe=0.000149\n",
      "epoch 8/20   training error=0.182390  validation error=0.500407 validation accuracy=0.875000 ETA=0:00:03 tpe=0.000349\n",
      "epoch 9/20   training error=0.172232  validation error=0.500812 validation accuracy=0.875000 ETA=0:00:02 tpe=-0.002163\n",
      "epoch 10/20   training error=0.157247  validation error=0.465064 validation accuracy=0.870000 ETA=0:00:02 tpe=-0.000023\n",
      "epoch 11/20   training error=0.151203  validation error=0.488075 validation accuracy=0.880000 ETA=0:00:02 tpe=-0.001245\n",
      "epoch 12/20   training error=0.142735  validation error=0.515789 validation accuracy=0.865000 ETA=0:00:02 tpe=0.001691\n",
      "epoch 13/20   training error=0.141245  validation error=0.493019 validation accuracy=0.875000 ETA=0:00:01 tpe=0.000327\n",
      "epoch 14/20   training error=0.134925  validation error=0.460910 validation accuracy=0.885000 ETA=0:00:01 tpe=-0.000304\n",
      "epoch 15/20   training error=0.129337  validation error=0.473312 validation accuracy=0.870000 ETA=0:00:01 tpe=0.000083\n",
      "epoch 16/20   training error=0.128975  validation error=0.481254 validation accuracy=0.845000 ETA=0:00:01 tpe=-0.000294\n",
      "epoch 17/20   training error=0.125113  validation error=0.447648 validation accuracy=0.880000 ETA=0:00:01 tpe=-0.000316\n",
      "epoch 18/20   training error=0.125505  validation error=0.465534 validation accuracy=0.855000 ETA=0:00:00 tpe=0.000686\n",
      "epoch 19/20   training error=0.123446  validation error=0.459672 validation accuracy=0.855000 ETA=0:00:00 tpe=-0.001256\n",
      "epoch 20/20   training error=0.121895  validation error=0.440335 validation accuracy=0.875000 ETA=0:00:00 tpe=0.000393\n",
      "Average epoch computational time:  0.2104925274848938\n",
      "Fitting model 2/10\n",
      "epoch 1/20   training error=1.781559  validation error=0.883308 validation accuracy=0.700000 ETA=0:00:04 tpe=0.205976\n",
      "epoch 2/20   training error=0.690271  validation error=0.666825 validation accuracy=0.795000 ETA=0:00:04 tpe=-0.002534\n",
      "epoch 3/20   training error=0.468137  validation error=0.573653 validation accuracy=0.845000 ETA=0:00:04 tpe=0.005097\n",
      "epoch 4/20   training error=0.362612  validation error=0.556631 validation accuracy=0.835000 ETA=0:00:03 tpe=-0.003764\n",
      "epoch 5/20   training error=0.296969  validation error=0.500537 validation accuracy=0.855000 ETA=0:00:03 tpe=0.005007\n",
      "epoch 6/20   training error=0.250602  validation error=0.483474 validation accuracy=0.880000 ETA=0:00:03 tpe=0.000520\n"
     ]
    }
   ],
   "source": [
    "# import data and initialize seed\n",
    "np.random.seed(10)\n",
    "\n",
    "# import data\n",
    "training_size = 1000\n",
    "normalize = True\n",
    "training, labels, test, original_test_labels, test_labels = import_data(size=training_size, normalize=normalize)\n",
    "\n",
    "# intializing queue\n",
    "queue = Queue(training, labels, test, test_labels, original_test_labels)\n",
    "\n",
    "#setting up the models\n",
    "\n",
    "architectures = [[50],[50,20]]\n",
    "for layers in architectures:\n",
    "    queue.add(\n",
    "        description=\"architecture: \"+str(layers)+\" training_size: \"+str(training_size),\n",
    "        netparams={\n",
    "        \"hidden_layers\": layers,\n",
    "        \"features\": 784,\n",
    "        \"output_classes\": 10,\n",
    "        \"activation\": relu,\n",
    "        \"activation_prime\": relu_prime,\n",
    "        \"loss_activation\": softmax,\n",
    "        \"loss_activation_prime\": softmax_prime,\n",
    "        \"loss\": cross_entropy,\n",
    "        \"loss_prime\": cross_entropy_prime\n",
    "    },\n",
    "    folds=5,\n",
    "    params={\"epochs\": 20,\n",
    "            \"learning_rate\": 5e-3,\n",
    "            \"batch_size\": 1,\n",
    "            \"momentum\": False,\n",
    "            \"weight_decay\": 0.01})\n",
    "\n",
    "#execute queue\n",
    "results = queue.execute()\n",
    "np.save(\"Results/save-\"+time.strftime(\"%Y-%m-%d-%H%M%S\"), results)"
   ]
  },
  {
   "cell_type": "code",
   "execution_count": 24,
   "metadata": {},
   "outputs": [
    {
     "name": "stdout",
     "output_type": "stream",
     "text": [
      "[[ 0.2815602   0.15124372 -0.32677052 ...  0.29560238 -0.05735462\n",
      "   0.12966029]\n",
      " [-0.05652346 -0.11614984  0.02806079 ...  0.1939941  -0.0237397\n",
      "  -0.07658203]\n",
      " [-0.04909428 -0.10608916  0.23867843 ...  0.08317089  0.0459401\n",
      "  -0.42170892]\n",
      " ...\n",
      " [ 0.02971912  0.13605327  0.10900585 ... -0.30526163  0.07815882\n",
      "   0.18776246]\n",
      " [ 0.25048045  0.17169374 -0.08655979 ... -0.10927675 -0.06811471\n",
      "  -0.24798482]\n",
      " [ 0.33592405 -0.16688603  0.24505714 ...  0.40041665  0.07870361\n",
      "  -0.18394998]]\n"
     ]
    }
   ],
   "source": [
    "data = np.load(\"Results/save-2019-04-01-151629.npy\")"
   ]
  },
  {
   "cell_type": "code",
   "execution_count": null,
   "metadata": {},
   "outputs": [],
   "source": []
  }
 ],
 "metadata": {
  "kernelspec": {
   "display_name": "Python 3",
   "language": "python",
   "name": "python3"
  },
  "language_info": {
   "codemirror_mode": {
    "name": "ipython",
    "version": 3
   },
   "file_extension": ".py",
   "mimetype": "text/x-python",
   "name": "python",
   "nbconvert_exporter": "python",
   "pygments_lexer": "ipython3",
   "version": "3.7.1"
  }
 },
 "nbformat": 4,
 "nbformat_minor": 2
}
