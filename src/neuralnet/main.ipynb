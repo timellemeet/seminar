{
 "cells": [
  {
   "cell_type": "markdown",
   "metadata": {},
   "source": [
    "Importing modules"
   ]
  },
  {
   "cell_type": "code",
   "execution_count": 5,
   "metadata": {},
   "outputs": [],
   "source": [
    "import numpy as np\n",
    "import os\n",
    "import matplotlib.pyplot as plt\n",
    "from sklearn.metrics import accuracy_score\n",
    "from Layer import *\n",
    "from network import Network\n",
    "from activation_func import tanh, tanh_prime, sigmoid, sigmoid_prime, softmax, softmax_prime, relu, relu_prime\n",
    "from loss_func import mse, mse_prime, cross_entropy, cross_entropy_prime\n",
    "from data_func import vectorize_labels, k_fold, import_data\n",
    "from performance_func import plot_confusion_matrix, plot_error"
   ]
  },
  {
   "cell_type": "markdown",
   "metadata": {},
   "source": [
    "Importing data"
   ]
  },
  {
   "cell_type": "code",
   "execution_count": 6,
   "metadata": {},
   "outputs": [],
   "source": [
    "# import data and initialize seed\n",
    "np.random.seed(10)\n",
    "training_size = 6000\n",
    "normalize = True\n",
    "training, labels, test, original_test_labels, test_labels = import_data(size=training_size, normalize=normalize)\n",
    "\n",
    "# specify input and output parameters\n",
    "features = 784\n",
    "output_classes = 10"
   ]
  },
  {
   "cell_type": "markdown",
   "metadata": {},
   "source": [
    "Setting configuration"
   ]
  },
  {
   "cell_type": "code",
   "execution_count": 9,
   "metadata": {},
   "outputs": [],
   "source": [
    "# hyper parameters\n",
    "learning_rate = 5e-3\n",
    "hidden_layers = [300, 200, 100]\n",
    "max_epochs = 10\n",
    "batch_size = 32\n",
    "weight_decay = 0.01\n",
    "momentum = False\n",
    "\n"
   ]
  },
  {
   "cell_type": "markdown",
   "metadata": {},
   "source": [
    "Train the network"
   ]
  },
  {
   "cell_type": "code",
   "execution_count": 10,
   "metadata": {},
   "outputs": [
    {
     "name": "stdout",
     "output_type": "stream",
     "text": [
      "epoch 1/10   training error=1.301110  validation error=0.641473 validation accuracy=0.785000\n",
      "epoch 2/10   training error=0.495587  validation error=0.504692 validation accuracy=0.840000\n",
      "epoch 3/10   training error=0.368760  validation error=0.441009 validation accuracy=0.864167\n",
      "epoch 4/10   training error=0.305300  validation error=0.393392 validation accuracy=0.885000\n",
      "epoch 5/10   training error=0.260007  validation error=0.378865 validation accuracy=0.880833\n",
      "epoch 6/10   training error=0.227129  validation error=0.344258 validation accuracy=0.893333\n",
      "epoch 7/10   training error=0.203162  validation error=0.345213 validation accuracy=0.890000\n",
      "epoch 8/10   training error=0.184184  validation error=0.316737 validation accuracy=0.905833\n",
      "epoch 9/10   training error=0.168443  validation error=0.309046 validation accuracy=0.905000\n",
      "epoch 10/10   training error=0.154835  validation error=0.306213 validation accuracy=0.902500\n",
      "The test accuracy of the network is: 0.9035\n"
     ]
    }
   ],
   "source": [
    "# set up the network with specified layers, loss, and activation\n",
    "net = Network()\n",
    "net.setup_net(hidden_layers, features, output_classes,\n",
    "              activation=relu, activation_prime=relu_prime,\n",
    "              loss_activation=softmax, loss_activation_prime=softmax_prime,\n",
    "              loss=cross_entropy, loss_prime=cross_entropy_prime)\n",
    "# prepare data for training\n",
    "fold_train_data, fold_train_labels, fold_val_data, fold_val_labels = k_fold(training, labels, k=5, n=5)\n",
    "\n",
    "# train the model on training data and labels using specific hyper-parameters\n",
    "errors, val_errors = net.fit(fold_train_data, fold_train_labels, fold_val_data, fold_val_labels,\n",
    "                             max_epochs, learning_rate, batch_size, momentum, weight_decay)\n",
    "\n",
    "# print the accuracy\n",
    "print(\"The test accuracy of the network is: {}\".format(\n",
    "      net.accuracy(x=test, y_true=original_test_labels, errors=errors, val_errors=val_errors)))"
   ]
  },
  {
   "cell_type": "markdown",
   "metadata": {},
   "source": [
    "Plot results"
   ]
  },
  {
   "cell_type": "code",
   "execution_count": null,
   "metadata": {},
   "outputs": [],
   "source": [
    "plot_error(errors, val_errors)"
   ]
  }
 ],
 "metadata": {
  "kernelspec": {
   "display_name": "Python 3",
   "language": "python",
   "name": "python3"
  },
  "language_info": {
   "codemirror_mode": {
    "name": "ipython",
    "version": 3
   },
   "file_extension": ".py",
   "mimetype": "text/x-python",
   "name": "python",
   "nbconvert_exporter": "python",
   "pygments_lexer": "ipython3",
   "version": "3.7.2"
  }
 },
 "nbformat": 4,
 "nbformat_minor": 2
}
