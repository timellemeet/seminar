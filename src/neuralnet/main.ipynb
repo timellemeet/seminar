{
 "cells": [
  {
   "cell_type": "markdown",
   "metadata": {},
   "source": [
    "Importing modules"
   ]
  },
  {
   "cell_type": "code",
   "execution_count": 1,
   "metadata": {},
   "outputs": [],
   "source": [
    "import numpy as np\n",
    "import os\n",
    "import matplotlib.pyplot as plt\n",
    "# from sklearn.metrics import accuracy_score\n",
    "from Layer import *\n",
    "from network import Network\n",
    "from activation_func import tanh, tanh_prime, sigmoid, sigmoid_prime, softmax, softmax_prime, relu, relu_prime\n",
    "from loss_func import mse, mse_prime, cross_entropy, cross_entropy_prime\n",
    "from data_func import vectorize_labels, k_fold, import_data\n",
    "from performance_func import plot_error, plot_confusion_matrix\n",
    "from network_queue import Queue\n",
    "import time\n"
   ]
  },
  {
   "cell_type": "markdown",
   "metadata": {},
   "source": [
    "Importing data"
   ]
  },
  {
   "cell_type": "code",
   "execution_count": 2,
   "metadata": {},
   "outputs": [
    {
     "name": "stdout",
     "output_type": "stream",
     "text": [
      "Fitting model 1/5\n",
      "epoch 1/10   training error=1.037944  validation error=0.523282 validation accuracy=0.875000 ETA=0:00:31\n",
      "epoch 2/10   training error=0.420582  validation error=0.473365 validation accuracy=0.855000 ETA=0:00:27\n",
      "epoch 3/10   training error=0.326298  validation error=0.398174 validation accuracy=0.875000 ETA=0:00:23\n",
      "epoch 4/10   training error=0.280570  validation error=0.377699 validation accuracy=0.895000 ETA=0:00:19\n",
      "epoch 5/10   training error=0.254714  validation error=0.355322 validation accuracy=0.901667 ETA=0:00:15\n",
      "epoch 6/10   training error=0.239113  validation error=0.345420 validation accuracy=0.905000 ETA=0:00:12\n",
      "epoch 7/10   training error=0.232559  validation error=0.341622 validation accuracy=0.896667 ETA=0:00:09\n",
      "epoch 8/10   training error=0.224602  validation error=0.333826 validation accuracy=0.906667 ETA=0:00:06\n",
      "epoch 9/10   training error=0.217410  validation error=0.333075 validation accuracy=0.910000 ETA=0:00:03\n",
      "epoch 10/10   training error=0.212112  validation error=0.316758 validation accuracy=0.915000 ETA=0:00:00\n",
      "Average epoch computational time:  2.855508589744568\n",
      "Fitting model 2/5\n",
      "epoch 1/10   training error=1.048990  validation error=0.733292 validation accuracy=0.785000 ETA=0:00:16\n",
      "epoch 2/10   training error=0.425044  validation error=0.600224 validation accuracy=0.826667 ETA=0:00:18\n",
      "epoch 3/10   training error=0.322467  validation error=0.539011 validation accuracy=0.843333 ETA=0:00:18\n",
      "epoch 4/10   training error=0.276895  validation error=0.537958 validation accuracy=0.856667 ETA=0:00:16\n",
      "epoch 5/10   training error=0.250736  validation error=0.505121 validation accuracy=0.866667 ETA=0:00:11\n",
      "epoch 6/10   training error=0.232925  validation error=0.477768 validation accuracy=0.876667 ETA=0:00:09\n",
      "epoch 7/10   training error=0.220509  validation error=0.465347 validation accuracy=0.880000 ETA=0:00:06\n",
      "epoch 8/10   training error=0.214106  validation error=0.468979 validation accuracy=0.875000 ETA=0:00:04\n",
      "epoch 9/10   training error=0.208146  validation error=0.462353 validation accuracy=0.873333 ETA=0:00:02\n",
      "epoch 10/10   training error=0.202735  validation error=0.464982 validation accuracy=0.865000 ETA=0:00:00\n",
      "Average epoch computational time:  1.6843621015548706\n",
      "Fitting model 3/5\n",
      "epoch 1/10   training error=1.033177  validation error=0.638642 validation accuracy=0.816667 ETA=0:00:11\n",
      "epoch 2/10   training error=0.425925  validation error=0.472390 validation accuracy=0.871667 ETA=0:00:10\n",
      "epoch 3/10   training error=0.323186  validation error=0.418137 validation accuracy=0.885000 ETA=0:00:09\n",
      "epoch 4/10   training error=0.275457  validation error=0.389580 validation accuracy=0.890000 ETA=0:00:07\n",
      "epoch 5/10   training error=0.251516  validation error=0.385300 validation accuracy=0.885000 ETA=0:00:06\n",
      "epoch 6/10   training error=0.234964  validation error=0.355858 validation accuracy=0.905000 ETA=0:00:04\n",
      "epoch 7/10   training error=0.225867  validation error=0.370380 validation accuracy=0.898333 ETA=0:00:03\n",
      "epoch 8/10   training error=0.215990  validation error=0.361068 validation accuracy=0.901667 ETA=0:00:02\n",
      "epoch 9/10   training error=0.210017  validation error=0.345347 validation accuracy=0.913333 ETA=0:00:01\n",
      "epoch 10/10   training error=0.208260  validation error=0.338522 validation accuracy=0.908333 ETA=0:00:00\n",
      "Average epoch computational time:  0.9878268718719483\n",
      "Fitting model 4/5\n",
      "epoch 1/10   training error=1.069236  validation error=0.460972 validation accuracy=0.855000 ETA=0:00:08\n",
      "epoch 2/10   training error=0.445798  validation error=0.338380 validation accuracy=0.895000 ETA=0:00:08\n",
      "epoch 3/10   training error=0.338866  validation error=0.338176 validation accuracy=0.891667 ETA=0:00:07\n",
      "epoch 4/10   training error=0.289974  validation error=0.329009 validation accuracy=0.886667 ETA=0:00:06\n",
      "epoch 5/10   training error=0.258502  validation error=0.294116 validation accuracy=0.918333 ETA=0:00:05\n",
      "epoch 6/10   training error=0.246191  validation error=0.274922 validation accuracy=0.925000 ETA=0:00:04\n",
      "epoch 7/10   training error=0.234369  validation error=0.268939 validation accuracy=0.931667 ETA=0:00:03\n",
      "epoch 8/10   training error=0.228461  validation error=0.274790 validation accuracy=0.926667 ETA=0:00:02\n",
      "epoch 9/10   training error=0.225269  validation error=0.278531 validation accuracy=0.931667 ETA=0:00:01\n",
      "epoch 10/10   training error=0.220541  validation error=0.270759 validation accuracy=0.918333 ETA=0:00:00\n",
      "Average epoch computational time:  1.0289362907409667\n",
      "Fitting model 5/5\n",
      "epoch 1/10   training error=0.978030  validation error=0.628434 validation accuracy=0.811667 ETA=0:00:13\n",
      "epoch 2/10   training error=0.406520  validation error=0.480138 validation accuracy=0.868333 ETA=0:00:09\n",
      "epoch 3/10   training error=0.316310  validation error=0.388961 validation accuracy=0.891667 ETA=0:00:08\n",
      "epoch 4/10   training error=0.275341  validation error=0.367377 validation accuracy=0.896667 ETA=0:00:07\n",
      "epoch 5/10   training error=0.250377  validation error=0.348434 validation accuracy=0.900000 ETA=0:00:06\n",
      "epoch 6/10   training error=0.237204  validation error=0.344337 validation accuracy=0.896667 ETA=0:00:05\n",
      "epoch 7/10   training error=0.226467  validation error=0.340708 validation accuracy=0.901667 ETA=0:00:04\n",
      "epoch 8/10   training error=0.221630  validation error=0.339991 validation accuracy=0.905000 ETA=0:00:02\n",
      "epoch 9/10   training error=0.217031  validation error=0.351755 validation accuracy=0.908333 ETA=0:00:01\n",
      "epoch 10/10   training error=0.213617  validation error=0.344305 validation accuracy=0.898333 ETA=0:00:00\n",
      "Average epoch computational time:  1.142337703704834\n"
     ]
    }
   ],
   "source": [
    "# import data and initialize seed\n",
    "np.random.seed(10)\n",
    "\n",
    "# import data\n",
    "training_size = 3000\n",
    "normalize = True\n",
    "training, labels, test, original_test_labels, test_labels = import_data(size=training_size, normalize=normalize)\n",
    "\n",
    "# intializing queue\n",
    "queue = Queue(training, labels, test, test_labels, original_test_labels)\n",
    "\n",
    "#setting up the models\n",
    "\n",
    "architectures = [[50]]\n",
    "for layers in architectures:\n",
    "    queue.add(\n",
    "        description=\"architecture: \"+str(layers)+\" training_size: \"+str(training_size),\n",
    "        netparams={\n",
    "        \"hidden_layers\": layers,\n",
    "        \"features\": 784,\n",
    "        \"output_classes\": 10,\n",
    "        \"activation\": relu,\n",
    "        \"activation_prime\": relu_prime,\n",
    "        \"loss_activation\": softmax,\n",
    "        \"loss_activation_prime\": softmax_prime,\n",
    "        \"loss\": cross_entropy,\n",
    "        \"loss_prime\": cross_entropy_prime\n",
    "    },\n",
    "    folds=5,\n",
    "    params={\"epochs\": 10,\n",
    "            \"learning_rate\": 5e-3,\n",
    "            \"batch_size\": 1,\n",
    "            \"momentum\": False,\n",
    "            \"weight_decay\": 0.01})\n",
    "\n",
    "#execute queue\n",
    "results = queue.execute()\n",
    "np.save(\"Results/save-\"+time.strftime(\"%Y-%m-%d-%H%M%S\"), results)"
   ]
  },
  {
   "cell_type": "code",
   "execution_count": 7,
   "metadata": {},
   "outputs": [
    {
     "name": "stdout",
     "output_type": "stream",
     "text": [
      "[{'description': 'architecture: [50] training_size: 3000 - Fold 1', 'network': <network.Network object at 0x00000211D14C4BA8>, 'params': {'epochs': 10, 'learning_rate': 0.005, 'batch_size': 1, 'momentum': False, 'weight_decay': 0.01}, 'results': [[1.0379437234654556, 0.42058195769259615, 0.3262979609402861, 0.2805696088713933, 0.2547138542157194, 0.23911286909472962, 0.23255933525134845, 0.2246023172937245, 0.21741021003652258, 0.2121117161156935], [0.5232817382755504, 0.4733654203822177, 0.39817447448317544, 0.37769939981687517, 0.35532181531206947, 0.3454203574592223, 0.34162223872535896, 0.33382614011725176, 0.33307454060072333, 0.3167583850876966], [0.875, 0.855, 0.875, 0.895, 0.9016666666666666, 0.905, 0.8966666666666666, 0.9066666666666666, 0.91, 0.915]], 'accuracies': 0.905}\n",
      " {'description': 'architecture: [50] training_size: 3000 - Fold 2', 'network': <network.Network object at 0x00000211D4A41D30>, 'params': {'epochs': 10, 'learning_rate': 0.005, 'batch_size': 1, 'momentum': False, 'weight_decay': 0.01}, 'results': [[1.0489895664733029, 0.4250437116929773, 0.32246720689453046, 0.2768953951644427, 0.2507358878267111, 0.2329252201572281, 0.22050881355496557, 0.21410649363874815, 0.20814582661928657, 0.20273450148156477], [0.733292034646821, 0.6002239901108467, 0.539011296221195, 0.537958000471997, 0.5051212768837355, 0.4777682119977384, 0.46534661201075184, 0.468978754150674, 0.462352519899436, 0.46498232474607193], [0.785, 0.8266666666666667, 0.8433333333333334, 0.8566666666666667, 0.8666666666666667, 0.8766666666666667, 0.88, 0.875, 0.8733333333333333, 0.865]], 'accuracies': 0.9034}\n",
      " {'description': 'architecture: [50] training_size: 3000 - Fold 3', 'network': <network.Network object at 0x00000211D48AEBA8>, 'params': {'epochs': 10, 'learning_rate': 0.005, 'batch_size': 1, 'momentum': False, 'weight_decay': 0.01}, 'results': [[1.0331767728601968, 0.4259249434162917, 0.3231856256930113, 0.2754570056925049, 0.25151603977797454, 0.23496355868195157, 0.2258674679040649, 0.21599005330741075, 0.21001703269778063, 0.20826049820459333], [0.6386419775502331, 0.47238979500266537, 0.41813726720587596, 0.38957957180252006, 0.38530000710636003, 0.3558582784640576, 0.3703798371679253, 0.3610675393400204, 0.3453473903202507, 0.33852180296134426], [0.8166666666666667, 0.8716666666666667, 0.885, 0.89, 0.885, 0.905, 0.8983333333333333, 0.9016666666666666, 0.9133333333333333, 0.9083333333333333]], 'accuracies': 0.9052}\n",
      " {'description': 'architecture: [50] training_size: 3000 - Fold 4', 'network': <network.Network object at 0x00000211D48AED30>, 'params': {'epochs': 10, 'learning_rate': 0.005, 'batch_size': 1, 'momentum': False, 'weight_decay': 0.01}, 'results': [[1.0692363130232962, 0.44579779924637003, 0.33886609456862415, 0.2899739251785117, 0.25850172487260553, 0.24619073180927495, 0.23436926854098483, 0.22846114640939078, 0.22526932454296017, 0.22054123309747675], [0.46097171851379454, 0.3383796031448508, 0.3381763793372251, 0.3290087980244128, 0.29411622168814, 0.2749218257453032, 0.26893942620255945, 0.2747901743301806, 0.27853075746678563, 0.270758941442995], [0.855, 0.895, 0.8916666666666667, 0.8866666666666667, 0.9183333333333333, 0.925, 0.9316666666666666, 0.9266666666666666, 0.9316666666666666, 0.9183333333333333]], 'accuracies': 0.9057}\n",
      " {'description': 'architecture: [50] training_size: 3000 - Fold 5', 'network': <network.Network object at 0x00000211D48AEEB8>, 'params': {'epochs': 10, 'learning_rate': 0.005, 'batch_size': 1, 'momentum': False, 'weight_decay': 0.01}, 'results': [[0.9780298299901674, 0.40652006061852136, 0.3163095356579715, 0.27534117480365355, 0.2503769165858057, 0.23720431866678302, 0.22646670628629076, 0.22162969028958907, 0.21703073668941508, 0.21361741567729406], [0.6284337571034476, 0.48013827398165354, 0.38896056043723815, 0.36737709045458866, 0.34843369084335596, 0.3443366855605517, 0.3407084768909566, 0.3399906602484939, 0.3517551391687042, 0.3443052608080274], [0.8116666666666666, 0.8683333333333333, 0.8916666666666667, 0.8966666666666666, 0.9, 0.8966666666666666, 0.9016666666666666, 0.905, 0.9083333333333333, 0.8983333333333333]], 'accuracies': 0.9017}]\n"
     ]
    }
   ],
   "source": [
    "data = np.load(\"Results/save-2019-04-02-105150.npy\")\n",
    "print(data)"
   ]
  },
  {
   "cell_type": "code",
   "execution_count": null,
   "metadata": {},
   "outputs": [],
   "source": []
  }
 ],
 "metadata": {
  "kernelspec": {
   "display_name": "Python 3",
   "language": "python",
   "name": "python3"
  },
  "language_info": {
   "codemirror_mode": {
    "name": "ipython",
    "version": 3
   },
   "file_extension": ".py",
   "mimetype": "text/x-python",
   "name": "python",
   "nbconvert_exporter": "python",
   "pygments_lexer": "ipython3",
   "version": "3.7.1"
  }
 },
 "nbformat": 4,
 "nbformat_minor": 2
}
