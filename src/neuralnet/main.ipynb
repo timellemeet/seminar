{
 "cells": [
  {
   "cell_type": "markdown",
   "metadata": {},
   "source": [
    "Importing modules"
   ]
  },
  {
   "cell_type": "code",
   "execution_count": 5,
   "metadata": {},
   "outputs": [],
   "source": [
    "import numpy as np\n",
    "import os\n",
    "import matplotlib.pyplot as plt\n",
    "# from sklearn.metrics import accuracy_score\n",
    "from Layer import *\n",
    "from network import Network\n",
    "from activation_func import tanh, tanh_prime, sigmoid, sigmoid_prime, softmax, softmax_prime, relu, relu_prime\n",
    "from loss_func import mse, mse_prime, cross_entropy, cross_entropy_prime\n",
    "from data_func import vectorize_labels, k_fold, import_data\n",
    "from performance_func import plot_error, plot_confusion_matrix\n",
    "from network_queue import Queue\n"
   ]
  },
  {
   "cell_type": "markdown",
   "metadata": {},
   "source": [
    "Importing data"
   ]
  },
  {
   "cell_type": "code",
   "execution_count": 6,
   "metadata": {},
   "outputs": [],
   "source": [
    "# import data and initialize seed\n",
    "np.random.seed(10)\n",
    "\n",
    "# import data\n",
    "training_size = 60000\n",
    "normalize = True\n",
    "training, labels, test, original_test_labels, test_labels = import_data(size=training_size, normalize=normalize)\n",
    "\n",
    "# intializing queue\n",
    "queue = Queue(training, labels, test, test_labels, original_test_labels)\n",
    "\n",
    "# specify input and output sizes\n",
    "features = 784\n",
    "output_classes = 10\n",
    "\n",
    "# hyper parameters\n",
    "learning_rate = 5e-3\n",
    "hidden_layers = [30]\n",
    "max_epochs = 5\n",
    "batch_size = 1\n",
    "weight_decay = 0.01\n",
    "momentum = False\n",
    "\n"
   ]
  },
  {
   "cell_type": "code",
   "execution_count": 10,
   "metadata": {},
   "outputs": [
    {
     "data": {
      "text/plain": [
       "<matplotlib.image.AxesImage at 0x1bf7681ac18>"
      ]
     },
     "execution_count": 10,
     "metadata": {},
     "output_type": "execute_result"
    },
    {
     "data": {
      "image/png": "[encoded data removed]",
      "text/plain": [
       "<Figure size 432x288 with 1 Axes>"
      ]
     },
     "metadata": {
      "needs_background": "light"
     },
     "output_type": "display_data"
    }
   ],
   "source": [
    "plt.imshow(training[0].reshape(28,28), cmap='gray')"
   ]
  },
  {
   "cell_type": "markdown",
   "metadata": {},
   "source": [
    "Setting configuration"
   ]
  },
  {
   "cell_type": "code",
   "execution_count": null,
   "metadata": {},
   "outputs": [
    {
     "name": "stdout",
     "output_type": "stream",
     "text": [
      "Fitting model 1/10\n",
      "epoch 1/5   training error=0.417377  validation error=0.301121 validation accuracy=0.923833 ETA=0:00:42 tpe=10.526301\n",
      "epoch 2/5   training error=0.315723  validation error=0.296067 validation accuracy=0.918667 ETA=0:00:30 tpe=-0.384569\n",
      "epoch 3/5   training error=0.306219  validation error=0.292537 validation accuracy=0.925083 ETA=0:00:20 tpe=-0.021899\n",
      "epoch 4/5   training error=0.302448  validation error=0.277206 validation accuracy=0.929500 ETA=0:00:10 tpe=-0.227346\n",
      "epoch 5/5   training error=0.298655  validation error=0.278472 validation accuracy=0.928667 ETA=0:00:00 tpe=0.307886\n",
      "Average epoch computational time:  10.200372982025147\n",
      "Fitting model 2/10\n",
      "epoch 1/5   training error=0.427320  validation error=0.337111 validation accuracy=0.915833 ETA=0:00:37 tpe=9.160388\n",
      "epoch 2/5   training error=0.320476  validation error=0.328213 validation accuracy=0.914750 ETA=0:00:27 tpe=-0.010530\n",
      "epoch 3/5   training error=0.309099  validation error=0.318637 validation accuracy=0.916000 ETA=0:00:18 tpe=0.056510\n",
      "epoch 4/5   training error=0.303319  validation error=0.317499 validation accuracy=0.917250 ETA=0:00:09 tpe=0.006331\n",
      "epoch 5/5   training error=0.301407  validation error=0.304875 validation accuracy=0.920333 ETA=0:00:00 tpe=0.042429\n",
      "Average epoch computational time:  9.255128002166748\n",
      "Fitting model 3/10\n",
      "epoch 1/5   training error=0.421885  validation error=0.313668 validation accuracy=0.917667 ETA=0:00:50 tpe=12.601885\n",
      "epoch 2/5   training error=0.309674  validation error=0.317034 validation accuracy=0.911167 ETA=0:00:33 tpe=-1.474949\n",
      "epoch 3/5   training error=0.303250  validation error=0.311906 validation accuracy=0.912083 ETA=0:00:23 tpe=0.554400\n",
      "epoch 4/5   training error=0.299939  validation error=0.310551 validation accuracy=0.916000 ETA=0:00:11 tpe=-0.502398\n",
      "epoch 5/5   training error=0.297340  validation error=0.299195 validation accuracy=0.921000 ETA=0:00:00 tpe=-0.398165\n",
      "Average epoch computational time:  10.780773401260376\n",
      "Fitting model 4/10\n",
      "epoch 1/5   training error=0.423668  validation error=0.360085 validation accuracy=0.899750 ETA=0:00:37 tpe=9.349849\n",
      "epoch 2/5   training error=0.313994  validation error=0.317856 validation accuracy=0.914583 ETA=0:00:28 tpe=-0.116601\n",
      "epoch 3/5   training error=0.303949  validation error=0.318299 validation accuracy=0.914917 ETA=0:00:18 tpe=-0.034263\n",
      "epoch 4/5   training error=0.298639  validation error=0.316045 validation accuracy=0.917917 ETA=0:00:09 tpe=0.094787\n",
      "epoch 5/5   training error=0.294349  validation error=0.312575 validation accuracy=0.917750 ETA=0:00:00 tpe=-0.021101\n",
      "Average epoch computational time:  9.272670555114747\n",
      "Fitting model 5/10\n",
      "epoch 1/5   training error=0.421834  validation error=0.296624 validation accuracy=0.924583 ETA=0:00:36 tpe=9.093081\n",
      "epoch 2/5   training error=0.315809  validation error=0.280883 validation accuracy=0.929417 ETA=0:00:27 tpe=-0.077301\n",
      "epoch 3/5   training error=0.309320  validation error=0.286681 validation accuracy=0.925250 ETA=0:00:18 tpe=0.011617\n",
      "epoch 4/5   training error=0.304276  validation error=0.292458 validation accuracy=0.924167 ETA=0:00:09 tpe=0.039071\n",
      "epoch 5/5   training error=0.300395  validation error=0.284067 validation accuracy=0.930333 ETA=0:00:00 tpe=0.062629\n",
      "Average epoch computational time:  9.129096364974975\n",
      "Fitting model 6/10\n",
      "epoch 1/5   training error=0.339553  validation error=0.272054 validation accuracy=0.931083 ETA=0:02:57 tpe=44.341120\n",
      "epoch 2/5   training error=0.289761  validation error=0.269323 validation accuracy=0.933167 ETA=0:02:12 tpe=-0.240576\n",
      "epoch 3/5   training error=0.282553  validation error=0.289649 validation accuracy=0.922500 ETA=0:01:29 tpe=0.516924\n",
      "epoch 4/5   training error=0.280664  validation error=0.285838 validation accuracy=0.924833 ETA=0:00:45 tpe=0.193754\n",
      "epoch 5/5   training error=0.280901  validation error=0.265625 validation accuracy=0.938083 ETA=0:00:00 tpe=0.332949\n",
      "Average epoch computational time:  45.14417052268982\n",
      "Fitting model 7/10\n"
     ]
    }
   ],
   "source": [
    "architectures = [[30],[100]]\n",
    "for layers in architectures:\n",
    "    queue.add(netparams={\n",
    "        \"hidden_layers\": layers,\n",
    "        \"features\": features,\n",
    "        \"output_classes\": output_classes,\n",
    "        \"activation\": relu,\n",
    "        \"activation_prime\": relu_prime,\n",
    "        \"loss_activation\": softmax,\n",
    "        \"loss_activation_prime\": softmax_prime,\n",
    "        \"loss\": cross_entropy,\n",
    "        \"loss_prime\": cross_entropy_prime\n",
    "    },\n",
    "    folds=5,\n",
    "    params={\"epochs\": 5,\n",
    "            \"learning_rate\": 5e-3,\n",
    "            \"batch_size\": 1,\n",
    "            \"momentum\": False,\n",
    "            \"weight_decay\": 0.01})\n",
    "\n",
    "results, accuracies = queue.execute()\n"
   ]
  },
  {
   "cell_type": "markdown",
   "metadata": {},
   "source": [
    "Train the network"
   ]
  },
  {
   "cell_type": "code",
   "execution_count": 4,
   "metadata": {
    "scrolled": true
   },
   "outputs": [
    {
     "data": {
      "image/png": "[encoded data removed]",
      "text/plain": [
       "<Figure size 432x288 with 1 Axes>"
      ]
     },
     "metadata": {
      "needs_background": "light"
     },
     "output_type": "display_data"
    }
   ],
   "source": [
    "plot_error(accuracies[10:], accuracies[5:10])"
   ]
  },
  {
   "cell_type": "code",
   "execution_count": 10,
   "metadata": {},
   "outputs": [
    {
     "name": "stdout",
     "output_type": "stream",
     "text": [
      "epoch 1/10   training error=3.235184  validation error=2.029763 validation accuracy=0.345000 ETA=0:00:20 tpe=2.268548\n",
      "epoch 2/10   training error=1.597299  validation error=1.363758 validation accuracy=0.591667 ETA=0:00:17 tpe=-0.106046\n",
      "epoch 3/10   training error=1.172808  validation error=1.088734 validation accuracy=0.668333 ETA=0:00:15 tpe=0.012792\n",
      "epoch 4/10   training error=0.956478  validation error=0.929207 validation accuracy=0.706667 ETA=0:00:13 tpe=0.016697\n",
      "epoch 5/10   training error=0.818982  validation error=0.827835 validation accuracy=0.740000 ETA=0:00:11 tpe=0.006900\n",
      "epoch 6/10   training error=0.722251  validation error=0.748260 validation accuracy=0.763333 ETA=0:00:09 tpe=-0.010705\n",
      "epoch 7/10   training error=0.655422  validation error=0.693233 validation accuracy=0.781667 ETA=0:00:06 tpe=-0.022834\n",
      "epoch 8/10   training error=0.607134  validation error=0.653147 validation accuracy=0.798333 ETA=0:00:04 tpe=0.007626\n",
      "epoch 9/10   training error=0.562559  validation error=0.615833 validation accuracy=0.815000 ETA=0:00:02 tpe=-0.015346\n",
      "epoch 10/10   training error=0.531646  validation error=0.587199 validation accuracy=0.828333 ETA=0:00:00 tpe=0.020964\n",
      "Average epoch computational time:  2.178597021102905\n",
      "The test accuracy of the network is: 0.798\n",
      "Wall time: 24.3 s\n"
     ]
    }
   ],
   "source": [
    "%%time\n",
    "# set up the network with specified layers, loss, and activation\n",
    "net = Network(hidden_layers, features, output_classes,\n",
    "              activation=relu, activation_prime=relu_prime,\n",
    "              loss_activation=softmax, loss_activation_prime=softmax_prime,\n",
    "              loss=cross_entropy, loss_prime=cross_entropy_prime)\n",
    "# prepare data for training\n",
    "fold_train_data, fold_train_labels, fold_val_data, fold_val_labels = k_fold(training, labels, k=5, n=5)\n",
    "\n",
    "# train the model on training data and labels using specific hyper-parameters\n",
    "errors, val_errors, val_accs = net.fit(fold_train_data, fold_train_labels, fold_val_data, fold_val_labels,\n",
    "                             max_epochs, learning_rate, batch_size, momentum, weight_decay)\n",
    "\n",
    "# print the accuracy\n",
    "print(\"The test accuracy of the network is: {}\".format(\n",
    "      net.accuracy(x=test, y_true=original_test_labels)))"
   ]
  },
  {
   "cell_type": "code",
   "execution_count": 5,
   "metadata": {},
   "outputs": [
    {
     "name": "stdout",
     "output_type": "stream",
     "text": [
      "loss: 6.367268318111211, true: 8, predicted: 7\n"
     ]
    },
    {
     "data": {
      "image/png": "[encoded data removed]",
      "text/plain": [
       "<Figure size 432x288 with 1 Axes>"
      ]
     },
     "metadata": {
      "needs_background": "light"
     },
     "output_type": "display_data"
    },
    {
     "name": "stdout",
     "output_type": "stream",
     "text": [
      "loss: 6.4201640858874205, true: 8, predicted: 4\n"
     ]
    },
    {
     "data": {
      "image/png": "[encoded data removed]",
      "text/plain": [
       "<Figure size 432x288 with 1 Axes>"
      ]
     },
     "metadata": {
      "needs_background": "light"
     },
     "output_type": "display_data"
    },
    {
     "name": "stdout",
     "output_type": "stream",
     "text": [
      "loss: 6.988013828171138, true: 9, predicted: 0\n"
     ]
    },
    {
     "data": {
      "image/png": "[encoded data removed]",
      "text/plain": [
       "<Figure size 432x288 with 1 Axes>"
      ]
     },
     "metadata": {
      "needs_background": "light"
     },
     "output_type": "display_data"
    },
    {
     "name": "stdout",
     "output_type": "stream",
     "text": [
      "loss: 7.108420759179819, true: 2, predicted: 7\n"
     ]
    },
    {
     "data": {
      "image/png": "[encoded data removed]",
      "text/plain": [
       "<Figure size 432x288 with 1 Axes>"
      ]
     },
     "metadata": {
      "needs_background": "light"
     },
     "output_type": "display_data"
    },
    {
     "name": "stdout",
     "output_type": "stream",
     "text": [
      "loss: 7.220944155288779, true: 1, predicted: 5\n"
     ]
    },
    {
     "data": {
      "image/png": "[encoded data removed]",
      "text/plain": [
       "<Figure size 432x288 with 1 Axes>"
      ]
     },
     "metadata": {
      "needs_background": "light"
     },
     "output_type": "display_data"
    },
    {
     "name": "stdout",
     "output_type": "stream",
     "text": [
      "loss: 7.229600116291275, true: 0, predicted: 7\n"
     ]
    },
    {
     "data": {
      "image/png": "[encoded data removed]",
      "text/plain": [
       "<Figure size 432x288 with 1 Axes>"
      ]
     },
     "metadata": {
      "needs_background": "light"
     },
     "output_type": "display_data"
    },
    {
     "name": "stdout",
     "output_type": "stream",
     "text": [
      "loss: 7.3521171343282505, true: 9, predicted: 6\n"
     ]
    },
    {
     "data": {
      "image/png": "[encoded data removed]",
      "text/plain": [
       "<Figure size 432x288 with 1 Axes>"
      ]
     },
     "metadata": {
      "needs_background": "light"
     },
     "output_type": "display_data"
    },
    {
     "name": "stdout",
     "output_type": "stream",
     "text": [
      "loss: 7.6499536947532745, true: 2, predicted: 7\n"
     ]
    },
    {
     "data": {
      "image/png": "[encoded data removed]",
      "text/plain": [
       "<Figure size 432x288 with 1 Axes>"
      ]
     },
     "metadata": {
      "needs_background": "light"
     },
     "output_type": "display_data"
    },
    {
     "name": "stdout",
     "output_type": "stream",
     "text": [
      "loss: 7.716066975199777, true: 3, predicted: 7\n"
     ]
    },
    {
     "data": {
      "image/png": "[encoded data removed]",
      "text/plain": [
       "<Figure size 432x288 with 1 Axes>"
      ]
     },
     "metadata": {
      "needs_background": "light"
     },
     "output_type": "display_data"
    },
    {
     "name": "stdout",
     "output_type": "stream",
     "text": [
      "loss: 9.40688901765689, true: 8, predicted: 7\n"
     ]
    },
    {
     "data": {
      "image/png": "[encoded data removed]",
      "text/plain": [
       "<Figure size 432x288 with 1 Axes>"
      ]
     },
     "metadata": {
      "needs_background": "light"
     },
     "output_type": "display_data"
    }
   ],
   "source": [
    "test_losses = net.top_losses(test, test_labels, 10)"
   ]
  },
  {
   "cell_type": "markdown",
   "metadata": {},
   "source": [
    "Plot results"
   ]
  },
  {
   "cell_type": "code",
   "execution_count": null,
   "metadata": {},
   "outputs": [],
   "source": [
    "plot_error(accuracies[:5], accuracies[5:10])\n",
    "\n"
   ]
  },
  {
   "cell_type": "code",
   "execution_count": null,
   "metadata": {},
   "outputs": [],
   "source": []
  }
 ],
 "metadata": {
  "kernelspec": {
   "display_name": "Python 3",
   "language": "python",
   "name": "python3"
  },
  "language_info": {
   "codemirror_mode": {
    "name": "ipython",
    "version": 3
   },
   "file_extension": ".py",
   "mimetype": "text/x-python",
   "name": "python",
   "nbconvert_exporter": "python",
   "pygments_lexer": "ipython3",
   "version": "3.7.1"
  }
 },
 "nbformat": 4,
 "nbformat_minor": 2
}
