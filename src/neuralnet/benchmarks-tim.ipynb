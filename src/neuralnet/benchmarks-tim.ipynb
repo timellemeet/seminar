{
 "cells": [
  {
   "cell_type": "markdown",
   "metadata": {},
   "source": [
    "Importing modules"
   ]
  },
  {
   "cell_type": "code",
   "execution_count": 1,
   "metadata": {},
   "outputs": [],
   "source": [
    "import numpy as np\n",
    "import os\n",
    "import matplotlib.pyplot as plt\n",
    "# from sklearn.metrics import accuracy_score\n",
    "from Layer import *\n",
    "from network import Network\n",
    "from activation_func import tanh, tanh_prime, sigmoid, sigmoid_prime, softmax, softmax_prime, relu, relu_prime\n",
    "from loss_func import mse, mse_prime, cross_entropy, cross_entropy_prime\n",
    "from data_func import vectorize_labels, k_fold, import_data\n",
    "from performance_func import plot_error, plot_confusion_matrix\n",
    "from network_queue import Queue\n"
   ]
  },
  {
   "cell_type": "markdown",
   "metadata": {},
   "source": [
    "Importing data"
   ]
  },
  {
   "cell_type": "code",
   "execution_count": 2,
   "metadata": {},
   "outputs": [
    {
     "name": "stdout",
     "output_type": "stream",
     "text": [
      "Fitting model 1/5\n",
      "epoch 1/3   training error=3.036148  validation error=2.702213 validation accuracy=0.100000 ETA=0:00:00\n",
      "epoch 2/3   training error=2.295832  validation error=2.626807 validation accuracy=0.100000 ETA=0:00:00\n",
      "epoch 3/3   training error=2.101312  validation error=2.583842 validation accuracy=0.100000 ETA=0:00:00\n",
      "Average epoch computational time:  0.01062615712483724\n",
      "Model accuracy  0.1486\n",
      "Fitting model 2/5\n",
      "epoch 1/3   training error=5.089516  validation error=2.445123 validation accuracy=0.250000 ETA=0:00:00\n",
      "epoch 2/3   training error=2.255179  validation error=1.941657 validation accuracy=0.450000 ETA=0:00:00\n",
      "epoch 3/3   training error=1.668219  validation error=1.707848 validation accuracy=0.500000 ETA=0:00:00\n",
      "Average epoch computational time:  0.010305325190226236\n",
      "Model accuracy  0.3006\n",
      "Fitting model 3/5\n",
      "epoch 1/3   training error=4.900150  validation error=3.400165 validation accuracy=0.100000 ETA=0:00:00\n",
      "epoch 2/3   training error=2.741884  validation error=2.590570 validation accuracy=0.250000 ETA=0:00:00\n",
      "epoch 3/3   training error=2.292443  validation error=2.367938 validation accuracy=0.250000 ETA=0:00:00\n",
      "Average epoch computational time:  0.011635859807332357\n",
      "Model accuracy  0.2103\n",
      "Fitting model 4/5\n",
      "epoch 1/3   training error=3.496806  validation error=3.053352 validation accuracy=0.100000 ETA=0:00:00\n",
      "epoch 2/3   training error=2.538548  validation error=2.790572 validation accuracy=0.200000 ETA=0:00:00\n",
      "epoch 3/3   training error=2.151249  validation error=2.662144 validation accuracy=0.200000 ETA=0:00:00\n",
      "Average epoch computational time:  0.009972333908081055\n",
      "Model accuracy  0.137\n",
      "Fitting model 5/5\n",
      "epoch 1/3   training error=3.691523  validation error=3.023380 validation accuracy=0.200000 ETA=0:00:00\n",
      "epoch 2/3   training error=2.530581  validation error=2.545158 validation accuracy=0.200000 ETA=0:00:00\n",
      "epoch 3/3   training error=2.256544  validation error=2.348924 validation accuracy=0.200000 ETA=0:00:00\n",
      "Average epoch computational time:  0.010632673899332682\n",
      "Model accuracy  0.1726\n"
     ]
    }
   ],
   "source": [
    "\n",
    "# import data and initialize seed\n",
    "np.random.seed(10)\n",
    "\n",
    "# import data\n",
    "training_size = 60000\n",
    "normalize = True\n",
    "training, labels, test, original_test_labels, test_labels = import_data(size=training_size, normalize=normalize)\n",
    "\n",
    "# intializing queue\n",
    "queue = Queue(training, labels, test, test_labels, original_test_labels)\n",
    "\n",
    "#setting up the models\n",
    "\n",
    "\n",
    "architectures = [[32], [64], [128], [64,32], [128, 64], [128, 32], [128,64,32], [256], [512]]\n",
    "for layers in architectures:\n",
    "    queue.add(\n",
    "        description=\"testing architectures\",\n",
    "        netparams={\n",
    "        \"hidden_layers\": layers,\n",
    "        \"features\": 784,\n",
    "        \"output_classes\": 10,\n",
    "        \"activation\": relu,\n",
    "        \"activation_prime\": relu_prime,\n",
    "        \"loss_activation\": softmax,\n",
    "        \"loss_activation_prime\": softmax_prime,\n",
    "        \"loss\": cross_entropy,\n",
    "        \"loss_prime\": cross_entropy_prime,\n",
    "        \"activation_alpha\": 0.5\n",
    "    },\n",
    "    folds=5,\n",
    "    params={\"epochs\": 20,\n",
    "            \"learning_rate\": 5e-3,\n",
    "            \"batch_size\": 1,\n",
    "            \"momentum\": False,\n",
    "            \"weight_decay\": 0.01})\n",
    "    \n",
    "#execute queue\n",
    "results = queue.execute(folder=\"Results/TimsGroteBenchmark\")"
   ]
  }
 ],
 "metadata": {
  "kernelspec": {
   "display_name": "Python 3",
   "language": "python",
   "name": "python3"
  },
  "language_info": {
   "codemirror_mode": {
    "name": "ipython",
    "version": 3
   },
   "file_extension": ".py",
   "mimetype": "text/x-python",
   "name": "python",
   "nbconvert_exporter": "python",
   "pygments_lexer": "ipython3",
   "version": "3.7.1"
  }
 },
 "nbformat": 4,
 "nbformat_minor": 2
}
