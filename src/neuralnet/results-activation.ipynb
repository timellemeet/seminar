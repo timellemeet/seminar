{
 "cells": [
  {
   "cell_type": "code",
   "execution_count": 1,
   "metadata": {},
   "outputs": [
    {
     "name": "stdout",
     "output_type": "stream",
     "text": [
      "[10, 10] has 8070 operations\n",
      "[100, 100] has 89610 operations\n",
      "[100, 50] has 84060 operations\n",
      "[100, 90, 80, 70, 60, 50, 40, 30, 20] has 111950 operations\n",
      "[100, 90, 80, 70, 60, 50, 40, 30] has 111430 operations\n",
      "[100, 90, 80, 70, 60, 50, 40] has 110300 operations\n",
      "[100, 90, 80, 70, 60, 50] has 108360 operations\n",
      "[100, 90, 80, 70, 60] has 105410 operations\n",
      "[100, 90, 80, 70] has 101250 operations\n",
      "[100, 90, 80] has 95680 operations\n",
      "[100, 90] has 88500 operations\n",
      "[10] has 7960 operations\n",
      "[120, 60] has 102070 operations\n",
      "[140, 70] has 120480 operations\n",
      "[160, 80] has 139290 operations\n",
      "[180, 90] has 158500 operations\n",
      "[20, 10] has 16020 operations\n",
      "[20, 20] has 16330 operations\n",
      "[20] has 15910 operations\n",
      "[30, 20] has 24380 operations\n",
      "[30, 30] has 24790 operations\n",
      "[30] has 23860 operations\n",
      "[40, 20] has 32430 operations\n",
      "[40, 30, 20] has 33460 operations\n",
      "[40, 30] has 32940 operations\n",
      "[40, 40] has 33450 operations\n",
      "[40] has 31810 operations\n",
      "[50, 40, 30, 20] has 43350 operations\n",
      "[50, 40] has 41700 operations\n",
      "[50, 50] has 42310 operations\n",
      "[50] has 39760 operations\n",
      "[60, 30] has 49240 operations\n",
      "[60, 50, 40, 30, 20] has 54250 operations\n",
      "[60, 50] has 50660 operations\n",
      "[60, 60] has 51370 operations\n",
      "[60] has 47710 operations\n",
      "[70, 60, 50, 40, 30, 20] has 66360 operations\n",
      "[70, 60] has 59820 operations\n",
      "[70, 70] has 60630 operations\n",
      "[70] has 55660 operations\n",
      "[80, 40] has 66450 operations\n",
      "[80, 70, 60, 50, 40, 30, 20] has 79880 operations\n",
      "[80, 70] has 69180 operations\n",
      "[80, 80] has 70090 operations\n",
      "[80] has 63610 operations\n",
      "[90, 80, 70, 60, 50, 40, 30, 20] has 95010 operations\n",
      "[90, 80] has 78740 operations\n",
      "[90, 90] has 79750 operations\n",
      "[90] has 71560 operations\n",
      "[100] has 79510 operations\n",
      "[200] has 159010 operations\n",
      "[300] has 238510 operations\n",
      "[400] has 318010 operations\n",
      "[500] has 397510 operations\n",
      "[600] has 477010 operations\n",
      "[700] has 556510 operations\n",
      "[800] has 636010 operations\n"
     ]
    },
    {
     "data": {
      "text/plain": [
       "<Figure size 1500x1000 with 1 Axes>"
      ]
     },
     "metadata": {},
     "output_type": "display_data"
    }
   ],
   "source": [
    "#!pip install adjustText\n",
    "from results_analysis import Model\n",
    "relu = Model(\"Results/Base/ActivationFunc/Reloid/ActivationFunc - Relu - layers [200, 100, 50, 30] - training_size 30000 - epochs 20 - learning_rate 0.005 - 2019-04-11-123328.npy\")\n",
    "reloid = Model(\"Results/Base/ActivationFunc/Reloid/ActivationFunc - Reloid - layers [200, 100, 50, 30] - training_size 30000 - epochs 20 - learning_rate 0.005 - 2019-04-10-201315.npy\")"
   ]
  },
  {
   "cell_type": "code",
   "execution_count": 2,
   "metadata": {},
   "outputs": [
    {
     "name": "stdout",
     "output_type": "stream",
     "text": [
      "ActivationFunc - Relu - layers [200, 100, 50, 30] - epochs 20 - learning_rate 0.005\n",
      "Average_training_error: [0.38567709 0.17049528 0.11826681 0.08824767 0.06634373 0.05528293\n",
      " 0.04723628 0.03771304 0.03110098 0.0277872  0.02360561 0.01887654\n",
      " 0.02147582 0.01968771 0.01360334 0.01342704 0.01512511 0.01364346\n",
      " 0.01222157 0.01299215] \n",
      " Average validation error: [0.23999977 0.18211074 0.16865411 0.17115433 0.15753128 0.1623649\n",
      " 0.15996168 0.15995662 0.15817929 0.17032149 0.17311753 0.17813896\n",
      " 0.18814391 0.19572858 0.1684825  0.17076844 0.17663743 0.17458709\n",
      " 0.19719403 0.18820995] \n",
      " Average validation accuracy: [0.92913333 0.94756667 0.95216667 0.95213333 0.95973333 0.9576\n",
      " 0.95976667 0.962      0.96493333 0.9625     0.96423333 0.9644\n",
      " 0.96186667 0.9635     0.9666     0.96726667 0.96676667 0.9676\n",
      " 0.964      0.96693333] \n",
      "Average test_accuracy: 0.96824\n",
      "Overall average epoch time:  0:01:13\n",
      "\n",
      "\n",
      "ActivationFunc - Reloid - layers [200, 100, 50, 30] - epochs 20 - learning_rate 0.005\n",
      "Average_training_error: [0.39155871 0.17071936 0.1183136  0.08834396 0.0684205  0.05684984\n",
      " 0.04595284 0.0371502  0.03325319 0.02969351 0.02439659 0.01982315\n",
      " 0.01903596 0.01769384 0.01974235 0.01135071 0.01799313 0.01415715\n",
      " 0.01016389 0.00983075] \n",
      " Average validation error: [0.2714699  0.17740924 0.17026646 0.17077277 0.16886501 0.18646042\n",
      " 0.16578556 0.16872596 0.17061648 0.1556555  0.16992762 0.18311785\n",
      " 0.1842176  0.17446117 0.18255974 0.18084013 0.18614057 0.20615569\n",
      " 0.21949957 0.19399183] \n",
      " Average validation accuracy: [0.91993333 0.94836667 0.95143333 0.9524     0.9548     0.95353333\n",
      " 0.9604     0.95956667 0.95953333 0.96526667 0.96366667 0.9626\n",
      " 0.9632     0.96533333 0.96486667 0.9665     0.9652     0.9649\n",
      " 0.96366667 0.96733333] \n",
      "Average test_accuracy: 0.96806\n",
      "Overall average epoch time:  0:01:14\n",
      "\n",
      "\n"
     ]
    }
   ],
   "source": [
    "relu.summary()\n",
    "reloid.summary()"
   ]
  }
 ],
 "metadata": {
  "kernelspec": {
   "display_name": "Python 3",
   "language": "python",
   "name": "python3"
  },
  "language_info": {
   "codemirror_mode": {
    "name": "ipython",
    "version": 3
   },
   "file_extension": ".py",
   "mimetype": "text/x-python",
   "name": "python",
   "nbconvert_exporter": "python",
   "pygments_lexer": "ipython3",
   "version": "3.7.1"
  }
 },
 "nbformat": 4,
 "nbformat_minor": 2
}
