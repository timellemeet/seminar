{
 "cells": [
  {
   "cell_type": "code",
   "execution_count": 5,
   "metadata": {},
   "outputs": [],
   "source": [
    "!pip install adjustText\n",
    "from results_analysis import Model, \n",
    "relu = Model(\"Results/Base/ActivationFunc/Reloid/ActivationFunc - Relu - layers [200, 100, 50, 30] - training_size 30000 - epochs 20 - learning_rate 0.005 - 2019-04-11-123328.npy\")\n",
    "reloid = Model(\"Results/Base/ActivationFunc/Reloid/ActivationFunc - Reloid - layers [200, 100, 50, 30] - training_size 30000 - epochs 20 - learning_rate 0.005 - 2019-04-10-201315.npy\")"
   ]
  },
  {
   "cell_type": "code",
   "execution_count": 7,
   "metadata": {},
   "outputs": [
    {
     "name": "stdout",
     "output_type": "stream",
     "text": [
      "0.96824\n",
      "0.96806\n"
     ]
    }
   ],
   "source": [
    "\n",
    "print(relu.overall_test_accuracy)\n",
    "print(reloid.overall_test_accuracy)"
   ]
  }
 ],
 "metadata": {
  "kernelspec": {
   "display_name": "Python 3",
   "language": "python",
   "name": "python3"
  },
  "language_info": {
   "codemirror_mode": {
    "name": "ipython",
    "version": 3
   },
   "file_extension": ".py",
   "mimetype": "text/x-python",
   "name": "python",
   "nbconvert_exporter": "python",
   "pygments_lexer": "ipython3",
   "version": "3.7.1"
  }
 },
 "nbformat": 4,
 "nbformat_minor": 2
}
