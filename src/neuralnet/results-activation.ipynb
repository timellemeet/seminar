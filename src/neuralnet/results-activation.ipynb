{
 "cells": [
  {
   "cell_type": "code",
   "execution_count": 2,
   "metadata": {},
   "outputs": [],
   "source": [
    "from results_analysis import *\n",
    "from activation_func import *\n",
    "models = load_models('../neuralnet/Results/Base/ActivationFunc/Reloid')"
   ]
  },
  {
   "cell_type": "code",
   "execution_count": 10,
   "metadata": {},
   "outputs": [
    {
     "name": "stdout",
     "output_type": "stream",
     "text": [
      "ActivationFunc - Reloid - layers [200, 100, 50, 30] - epochs 20 - learning_rate 0.005\n",
      "3.19\n",
      "0:01:14\n",
      "\n",
      "\n",
      "ActivationFunc - Reloid 0.25 - layers [200, 100, 50, 30] - epochs 20 - learning_rate 0.005\n",
      "2.92\n",
      "0:01:48\n",
      "\n",
      "\n",
      "ActivationFunc - Reloid 0.25 - layers [200, 100] - epochs 20 - learning_rate 0.005\n",
      "2.69\n",
      "0:01:27\n",
      "\n",
      "\n",
      "ActivationFunc - Reloid 0.25 - layers [500] - epochs 20 - learning_rate 0.005\n",
      "2.43\n",
      "0:02:30\n",
      "\n",
      "\n",
      "ActivationFunc - Reloid 0.5 - layers [200, 100] - epochs 20 - learning_rate 0.005\n",
      "2.61\n",
      "0:01:32\n",
      "\n",
      "\n",
      "ActivationFunc - Reloid 0.5 - layers [500] - epochs 20 - learning_rate 0.005\n",
      "2.51\n",
      "0:02:35\n",
      "\n",
      "\n",
      "ActivationFunc - Reloid 0.75 - layers [200, 100] - epochs 20 - learning_rate 0.005\n",
      "2.66\n",
      "0:01:22\n",
      "\n",
      "\n",
      "ActivationFunc - Reloid 0.75 - layers [500] - epochs 20 - learning_rate 0.005\n",
      "2.6\n",
      "0:02:33\n",
      "\n",
      "\n",
      "ActivationFunc - Relu - layers [200, 100, 50, 30] - epochs 20 - learning_rate 0.005\n",
      "3.18\n",
      "0:01:13\n",
      "\n",
      "\n",
      "ActivationFunc - Relu - layers [200, 100] - epochs 20 - learning_rate 0.005\n",
      "2.56\n",
      "0:01:31\n",
      "\n",
      "\n",
      "ActivationFunc - Relu - layers [500] - epochs 20 - learning_rate 0.005\n",
      "2.44\n",
      "0:02:48\n",
      "\n",
      "\n",
      "ActivationFunc - Sigmoid - layers [200, 100, 50, 30] - epochs 20 - learning_rate 0.005\n",
      "4.26\n",
      "0:01:14\n",
      "\n",
      "\n",
      "ActivationFunc - Sigmoid - layers [200, 100] - epochs 20 - learning_rate 0.005\n",
      "3.46\n",
      "0:01:36\n",
      "\n",
      "\n"
     ]
    }
   ],
   "source": [
    "for val in models:\n",
    "    print(val.description)\n",
    "    print(round((1-val.overall_test_accuracy)*100, 2))\n",
    "    print(val.overall_apt)\n",
    "    print('\\n')"
   ]
  }
 ],
 "metadata": {
  "kernelspec": {
   "display_name": "Python 3",
   "language": "python",
   "name": "python3"
  },
  "language_info": {
   "codemirror_mode": {
    "name": "ipython",
    "version": 3
   },
   "file_extension": ".py",
   "mimetype": "text/x-python",
   "name": "python",
   "nbconvert_exporter": "python",
   "pygments_lexer": "ipython3",
   "version": "3.7.1"
  }
 },
 "nbformat": 4,
 "nbformat_minor": 2
}
