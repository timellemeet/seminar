{
 "cells": [
  {
   "cell_type": "code",
   "execution_count": 6,
   "metadata": {},
   "outputs": [],
   "source": [
    "import numpy as np\n",
    "from sympy import preview\n",
    "from results_analysis import Model\n",
    "from performance_func import heatmatrix"
   ]
  },
  {
   "cell_type": "code",
   "execution_count": 14,
   "metadata": {},
   "outputs": [
    {
     "name": "stdout",
     "output_type": "stream",
     "text": [
      "\\begin{table}[h!]\n",
      "\\centering\n",
      "\\captionof{table}{Table Title} \n",
      "\\begin{tabular}{cccccc}\n",
      " & 10 & 20 & 30 & 40 & 50\\\\ \n",
      "10 & \\cellcolor{black!26} \\textcolor{white}{0.932} & \\cellcolor{black!30} \\textcolor{white}{0.935} & \\cellcolor{black!30} \\textcolor{white}{0.935} & \\cellcolor{black!30} \\textcolor{white}{0.935} & \\cellcolor{black!32} \\textcolor{white}{0.937}\\\\ \n",
      "20 & \\cellcolor{black!49} \\textcolor{white}{0.949} & \\cellcolor{black!47} \\textcolor{white}{0.948} & \\cellcolor{black!54} \\textcolor{white}{0.953} & \\cellcolor{black!52} \\textcolor{white}{0.951} & \\cellcolor{black!56} \\textcolor{white}{0.954}\\\\ \n",
      "30 & \\cellcolor{black!61} \\textcolor{white}{0.958} & \\cellcolor{black!61} \\textcolor{white}{0.958} & \\cellcolor{black!60} \\textcolor{white}{0.957} & \\cellcolor{black!63} \\textcolor{white}{0.959} & \\cellcolor{black!67} \\textcolor{white}{0.962}\\\\ \n",
      "40 & \\cellcolor{black!68} \\textcolor{white}{0.963} & \\cellcolor{black!67} \\textcolor{white}{0.962} & \\cellcolor{black!67} \\textcolor{white}{0.962} & \\cellcolor{black!67} \\textcolor{white}{0.962} & \\cellcolor{black!69} \\textcolor{white}{0.964}\\\\ \n",
      "50 & \\cellcolor{black!68} \\textcolor{white}{0.963} & \\cellcolor{black!68} \\textcolor{white}{0.963} & \\cellcolor{black!72} \\textcolor{white}{0.966} & \\cellcolor{black!73} \\textcolor{white}{0.967} & \\cellcolor{black!73} \\textcolor{white}{0.967}\\\\ \n",
      "\\end{tabular}\n",
      "\\end{table}\n"
     ]
    }
   ],
   "source": [
    "p = \"Results/Crossplot/\"\n",
    "Results = {\n",
    "    #50s\n",
    "    \"5010\": Model(p+\"confusion - layers [50, 10] - training_size 60000 - epochs 20 - learning_rate 0.005 - 2019-04-08-123145.npy\"),\n",
    "    \"5020\": Model(p+\"confusion - layers [50, 20] - training_size 60000 - epochs 20 - learning_rate 0.005 - 2019-04-08-125515.npy\"),\n",
    "    \"5030\": Model(p+\"confusion - layers [50, 30] - training_size 60000 - epochs 20 - learning_rate 0.005 - 2019-04-08-123219.npy\"),\n",
    "    \"5040\": Model(p+\"Baseresults - layers [50, 40] - training_size 60000 - epochs 20 - learning_rate 0.005 - 2019-04-06-002804.npy\"),\n",
    "    \"5050\": Model(p+\"Baseresults - layers [50, 50] - training_size 60000 - epochs 20 - learning_rate 0.005 - 2019-04-05-195904.npy\"),\n",
    "    \n",
    "    #40s\n",
    "    \"4010\": Model(p+\"confusion - layers [40, 10] - training_size 60000 - epochs 20 - learning_rate 0.005 - 2019-04-08-125215.npy\"),\n",
    "    \"4020\": Model(p+\"/Baseresults - layers [40, 20] - training_size 60000 - epochs 20 - learning_rate 0.005 - 2019-04-06-031706.npy\"),\n",
    "    \"4030\": Model(p+\"Baseresults - layers [40, 30] - training_size 60000 - epochs 20 - learning_rate 0.005 - 2019-04-06-000232.npy\"),\n",
    "    \"4040\": Model(p+\"Baseresults - layers [40, 40] - training_size 60000 - epochs 20 - learning_rate 0.005 - 2019-04-05-193445.npy\"),\n",
    "    \"4050\": Model(p+\"confusion - layers [40, 50] - training_size 60000 - epochs 20 - learning_rate 0.005 - 2019-04-09-132012.npy\"),\n",
    "  \n",
    "    #30s\n",
    "    \"3010\": Model(p+\"confusion - layers [30, 10] - training_size 60000 - epochs 20 - learning_rate 0.005 - 2019-04-08-130737.npy\"),\n",
    "    \"3020\": Model(p+\"Baseresults - layers [30, 20] - training_size 60000 - epochs 20 - learning_rate 0.005 - 2019-04-05-233706.npy\"),\n",
    "    \"3030\": Model(p+\"Baseresults - layers [30, 30] - training_size 60000 - epochs 20 - learning_rate 0.005 - 2019-04-05-191320.npy\"),\n",
    "    \"3040\": Model(p+\"confusion - layers [30, 40] - training_size 60000 - epochs 20 - learning_rate 0.005 - 2019-04-09-123827.npy\"),\n",
    "    \"3050\": Model(p+\"confusion - layers [30, 50] - training_size 60000 - epochs 20 - learning_rate 0.005 - 2019-04-09-125818.npy\"),\n",
    "\n",
    "    #20s\n",
    "    \"2010\": Model(p+\"Baseresults - layers [20, 10] - training_size 60000 - epochs 20 - learning_rate 0.005 - 2019-04-05-231446.npy\"),\n",
    "    \"2020\": Model(p+\"Baseresults - layers [20, 20] - training_size 60000 - epochs 20 - learning_rate 0.005 - 2019-04-05-185412.npy\"),\n",
    "    \"2030\": Model(p+\"confusion - layers [20, 30] - training_size 60000 - epochs 20 - learning_rate 0.005 - 2019-04-09-133354.npy\"),\n",
    "    \"2040\": Model(p+\"confusion - layers [20, 40] - training_size 60000 - epochs 20 - learning_rate 0.005 - 2019-04-09-134728.npy\"),\n",
    "    \"2050\": Model(p+\"confusion - layers [20, 50] - training_size 60000 - epochs 20 - learning_rate 0.005 - 2019-04-09-140113.npy\"),\n",
    "    \n",
    "    #10s\n",
    "    \"1010\": Model(p+\"Baseresults - layers [10, 10] - training_size 60000 - epochs 20 - learning_rate 0.005 - 2019-04-05-183742.npy\"),\n",
    "    \"1020\": Model(p+\"confusion - layers [10, 20] - training_size 60000 - epochs 20 - learning_rate 0.005 - 2019-04-09-123411.npy\"),\n",
    "    \"1030\": Model(p+\"confusion - layers [10, 30] - training_size 60000 - epochs 20 - learning_rate 0.005 - 2019-04-09-124926.npy\"),\n",
    "    \"1040\": Model(p+\"confusion - layers [10, 40] - training_size 60000 - epochs 20 - learning_rate 0.005 - 2019-04-09-130450.npy\"),\n",
    "    \"1050\": Model(p+\"confusion - layers [10, 50] - training_size 60000 - epochs 20 - learning_rate 0.005 - 2019-04-09-132024.npy\")\n",
    "}\n",
    "\n",
    "tablevals = [\n",
    "    [\"1010\", \"1020\", \"1030\", \"1040\",\"1050\"],\n",
    "    [\"2010\", \"2020\", \"2030\", \"2040\",\"2050\"],\n",
    "    [\"3010\", \"3020\", \"3030\", \"3040\",\"3050\"],\n",
    "    [\"4010\", \"4020\", \"4030\", \"4040\",\"4050\"],\n",
    "    [\"5010\", \"5020\", \"5030\", \"5040\",\"5050\"]]\n",
    "\n",
    "def cellvalue(x):\n",
    "        return round(Results[x].overall_test_accuracy,3)\n",
    "\n",
    "data = np.vectorize(cellvalue)(tablevals)\n",
    "\n",
    "# #50s\n",
    "#tablevals[0,0] = round(Results[\"5050\"].overall_test_accuracy,3)\n",
    "# tablevals[1,0] = round(Results[\"5040\"].overall_test_accuracy,3)\n",
    "# tablevals[2,0] = round(Results[\"5030\"].overall_test_accuracy,3)\n",
    "# tablevals[3,0] = round(Results[\"5020\"].overall_test_accuracy,3)\n",
    "# tablevals[4,0] = round(Results[\"5010\"].overall_test_accuracy,3)\n",
    "\n",
    "# #40s\n",
    "# tablevals[1,1] = round(Results[\"4040\"].overall_test_accuracy,3)\n",
    "# tablevals[2,1] = round(Results[\"4030\"].overall_test_accuracy,3)\n",
    "# tablevals[3,1] = round(Results[\"4020\"].overall_test_accuracy,3)\n",
    "# tablevals[4,1] = round(Results[\"4010\"].overall_test_accuracy,3)\n",
    "\n",
    "# #30s\n",
    "# tablevals[2,2] = round(Results[\"3030\"].overall_test_accuracy,3)\n",
    "# tablevals[3,2] = round(Results[\"3020\"].overall_test_accuracy,3)\n",
    "# tablevals[4,2] = round(Results[\"3010\"].overall_test_accuracy,3)\n",
    "\n",
    "# #20s\n",
    "# tablevals[3,3] = round(Results[\"2020\"].overall_test_accuracy,3)\n",
    "# tablevals[4,3] = round(Results[\"2010\"].overall_test_accuracy,3)\n",
    "\n",
    "# #10\n",
    "# tablevals[4,4] = round(Results[\"1010\"].overall_test_accuracy,3)\n",
    "\n",
    "labels = [\"50\",\"40\",\"30\",\"20\",\"10\"]\n",
    "\n",
    "heatmatrix(data, labels[::-1], labels[::-1])"
   ]
  },
  {
   "cell_type": "code",
   "execution_count": null,
   "metadata": {},
   "outputs": [],
   "source": []
  }
 ],
 "metadata": {
  "kernelspec": {
   "display_name": "Python 3",
   "language": "python",
   "name": "python3"
  },
  "language_info": {
   "codemirror_mode": {
    "name": "ipython",
    "version": 3
   },
   "file_extension": ".py",
   "mimetype": "text/x-python",
   "name": "python",
   "nbconvert_exporter": "python",
   "pygments_lexer": "ipython3",
   "version": "3.7.1"
  }
 },
 "nbformat": 4,
 "nbformat_minor": 2
}
