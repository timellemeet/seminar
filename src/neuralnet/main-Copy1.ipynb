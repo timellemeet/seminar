{
 "cells": [
  {
   "cell_type": "markdown",
   "metadata": {},
   "source": [
    "Importing modules"
   ]
  },
  {
   "cell_type": "code",
   "execution_count": 1,
   "metadata": {},
   "outputs": [],
   "source": [
    "import numpy as np\n",
    "import os\n",
    "import matplotlib.pyplot as plt\n",
    "# from sklearn.metrics import accuracy_score\n",
    "from Layer import *\n",
    "from network import Network\n",
    "from activation_func import tanh, tanh_prime, sigmoid, sigmoid_prime, softmax, softmax_prime, relu, relu_prime\n",
    "from loss_func import mse, mse_prime, cross_entropy, cross_entropy_prime\n",
    "from data_func import vectorize_labels, k_fold, import_data\n",
    "from performance_func import plot_error, plot_confusion_matrix\n",
    "from network_queue import Queue\n"
   ]
  },
  {
   "cell_type": "markdown",
   "metadata": {},
   "source": [
    "Importing data"
   ]
  },
  {
   "cell_type": "code",
   "execution_count": null,
   "metadata": {},
   "outputs": [
    {
     "name": "stdout",
     "output_type": "stream",
     "text": [
      "Fitting model 1/5\n",
      "epoch 1/25   training error=0.292771  validation error=0.262440 validation accuracy=0.931250 ETA=3:42:27\n",
      "epoch 2/25   training error=0.278194  validation error=0.269958 validation accuracy=0.929750 ETA=3:33:09\n",
      "epoch 3/25   training error=0.278142  validation error=0.276274 validation accuracy=0.931333 ETA=3:22:41\n",
      "epoch 4/25   training error=0.275238  validation error=0.285738 validation accuracy=0.926583 ETA=3:12:09\n",
      "epoch 5/25   training error=0.276171  validation error=0.269575 validation accuracy=0.935167 ETA=3:04:51\n",
      "epoch 6/25   training error=0.275707  validation error=0.261901 validation accuracy=0.933167 ETA=2:55:52\n",
      "epoch 7/25   training error=0.275646  validation error=0.262690 validation accuracy=0.937917 ETA=2:46:19\n"
     ]
    }
   ],
   "source": [
    "\n",
    "# import data and initialize seed\n",
    "np.random.seed(10)\n",
    "\n",
    "# import data\n",
    "training_size = 60000\n",
    "normalize = True\n",
    "training, labels, test, original_test_labels, test_labels = import_data(size=training_size, normalize=normalize)\n",
    "\n",
    "# intializing queue\n",
    "queue = Queue(training, labels, test, test_labels, original_test_labels)\n",
    "\n",
    "#setting up the models\n",
    "\n",
    "architectures = [[800]]\n",
    "params =  {\"epochs\": 25,\n",
    "            \"learning_rate\": 5e-3,\n",
    "            \"batch_size\": 1,\n",
    "            \"momentum\": False,\n",
    "            \"weight_decay\": 0.01}\n",
    "\n",
    "for layers in architectures:\n",
    "    queue.add(\n",
    "        description=\"tering groot\",\n",
    "        netparams={\n",
    "        \"hidden_layers\": layers,\n",
    "        \"features\": 784,\n",
    "        \"output_classes\": 10,\n",
    "        \"activation\": relu,\n",
    "        \"activation_prime\": relu_prime,\n",
    "        \"loss_activation\": softmax,\n",
    "        \"loss_activation_prime\": softmax_prime,\n",
    "        \"loss\": cross_entropy,\n",
    "        \"loss_prime\": cross_entropy_prime,\n",
    "        \"activation_alpha\": 0.5\n",
    "    },\n",
    "    folds=5,\n",
    "    params=params)\n",
    "#     queue.add(\n",
    "#         description=\"sigmoid - activation benchmark\",\n",
    "#         netparams={\n",
    "#         \"hidden_layers\": layers,\n",
    "#         \"features\": 784,\n",
    "#         \"output_classes\": 10,\n",
    "#         \"activation\": sigmoid,\n",
    "#         \"activation_prime\": sigmoid_prime,\n",
    "#         \"loss_activation\": softmax,\n",
    "#         \"loss_activation_prime\": softmax_prime,\n",
    "#         \"loss\": cross_entropy,\n",
    "#         \"loss_prime\": cross_entropy_prime,\n",
    "#         \"activation_alpha\": 0.5\n",
    "#     },\n",
    "#     folds=5,\n",
    "#     params=params)\n",
    "\n",
    "#execute queue\n",
    "results = queue.execute()"
   ]
  },
  {
   "cell_type": "code",
   "execution_count": 3,
   "metadata": {},
   "outputs": [
    {
     "name": "stdout",
     "output_type": "stream",
     "text": [
      "{'errors': [4.504945856678249, 2.654057861297256, 2.033245059134], 'val_errors': [3.5794959758391505, 2.9364143614687492, 2.673691072437511], 'val_accs': [0.0, 0.1, 0.15], 'apt': 0.011998414993286133}\n"
     ]
    }
   ],
   "source": [
    "print(results[0][\"results\"])"
   ]
  }
 ],
 "metadata": {
  "kernelspec": {
   "display_name": "Python 3",
   "language": "python",
   "name": "python3"
  },
  "language_info": {
   "codemirror_mode": {
    "name": "ipython",
    "version": 3
   },
   "file_extension": ".py",
   "mimetype": "text/x-python",
   "name": "python",
   "nbconvert_exporter": "python",
   "pygments_lexer": "ipython3",
   "version": "3.7.1"
  }
 },
 "nbformat": 4,
 "nbformat_minor": 2
}
