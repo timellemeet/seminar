{
 "cells": [
  {
   "cell_type": "markdown",
   "metadata": {},
   "source": [
    "Importing modules"
   ]
  },
  {
   "cell_type": "code",
   "execution_count": 1,
   "metadata": {},
   "outputs": [
    {
     "name": "stdout",
     "output_type": "stream",
     "text": [
      "Requirement already satisfied: pathvalidate in c:\\users\\tim\\anaconda3\\lib\\site-packages (0.26.0)\n",
      "Requirement already satisfied: setuptools>=38.3.0 in c:\\users\\tim\\anaconda3\\lib\\site-packages (from pathvalidate) (40.8.0)\n"
     ]
    }
   ],
   "source": [
    "!pip install pathvalidate\n",
    "import numpy as np\n",
    "import os\n",
    "import matplotlib.pyplot as plt\n",
    "# from sklearn.metrics import accuracy_score\n",
    "from Layer import *\n",
    "from network import Network\n",
    "from activation_func import tanh, tanh_prime, sigmoid, sigmoid_prime, softmax, softmax_prime, relu, relu_prime\n",
    "from loss_func import mse, mse_prime, cross_entropy, cross_entropy_prime\n",
    "from data_func import vectorize_labels, k_fold, import_data\n",
    "from performance_func import plot_error, plot_confusion_matrix\n",
    "from network_queue import Queue\n"
   ]
  },
  {
   "cell_type": "markdown",
   "metadata": {},
   "source": [
    "Importing data"
   ]
  },
  {
   "cell_type": "code",
   "execution_count": null,
   "metadata": {},
   "outputs": [
    {
     "name": "stdout",
     "output_type": "stream",
     "text": [
      "Fitting model 1/175 Weightdecay 0.0005 - Fold 1 Layers: [100, 100]\n",
      "epoch 1/20   training error=0.275258  validation error=0.207042 validation accuracy=0.935750 ETA=0:12:31\n"
     ]
    }
   ],
   "source": [
    "\n",
    "# import data and initialize seed\n",
    "np.random.seed(10)\n",
    "\n",
    "# import data\n",
    "training_size = 60000\n",
    "normalize = True\n",
    "training, labels, test, original_test_labels, test_labels = import_data(size=training_size, normalize=normalize)\n",
    "\n",
    "# intializing queue\n",
    "queue = Queue(training, labels, test, test_labels, original_test_labels)\n",
    "\n",
    "#setting up the models\n",
    "\n",
    "\n",
    "architectures = [\n",
    "    #[60],[70],[80],[90],[100], #single layer\n",
    "    #[10, 10],[20, 20],[30, 30],[40, 40],[50, 50],[60, 60],[70, 70],[80, 80],[90, 90],\n",
    "    [100, 100], #double layer same\n",
    "    [20, 10],[30, 20],[40,30],[50, 40],\n",
    "    [60, 50],[70, 60],[80, 70],[90, 80],[100, 90], #double layer plus 10\n",
    "    #[40, 20],[60,30],[80, 40],[100, 50],[120, 60],[140, 70],[160, 80],[180, 90], #double layer double size\n",
    "    #[40,30,20],[50,40,30,20],[60,50,40,30,20],[70,60,50,40,30,20],[80,70,60,50,40,30,20],[90,80,70,60,50,40,30,20], # deeper counting up\n",
    "    #[100,90,80],[100,90,80,70],[100,90,80,70,60],[100,90,80,70,60,50],[100,90,80,70,60,50,40],[100,90,80,70,60,50,40,30],[100,90,80,70,60,50,40,30,20] #deeper counting down\n",
    "    ]\n",
    "for layers in architectures:\n",
    "    queue.add(\n",
    "        description=\"Weightdecay 0.005\",\n",
    "        netparams={\n",
    "        \"hidden_layers\": layers,\n",
    "        \"features\": 784,\n",
    "        \"output_classes\": 10,\n",
    "        \"activation\": relu,\n",
    "        \"activation_prime\": relu_prime,\n",
    "        \"loss_activation\": softmax,\n",
    "        \"loss_activation_prime\": softmax_prime,\n",
    "        \"loss\": cross_entropy,\n",
    "        \"loss_prime\": cross_entropy_prime,\n",
    "        \"activation_alpha\": 0.5\n",
    "    },\n",
    "    folds=5,\n",
    "    params={\"epochs\": 20,\n",
    "            \"learning_rate\": 5e-3,\n",
    "            \"batch_size\": 1,\n",
    "            \"momentum\": False,\n",
    "            \"weight_decay\": 0.005})\n",
    "    queue.add(\n",
    "        description=\"Weightdecay 0.0005\",\n",
    "        netparams={\n",
    "        \"hidden_layers\": layers,\n",
    "        \"features\": 784,\n",
    "        \"output_classes\": 10,\n",
    "        \"activation\": relu,\n",
    "        \"activation_prime\": relu_prime,\n",
    "        \"loss_activation\": softmax,\n",
    "        \"loss_activation_prime\": softmax_prime,\n",
    "        \"loss\": cross_entropy,\n",
    "        \"loss_prime\": cross_entropy_prime,\n",
    "        \"activation_alpha\": 0.5\n",
    "    },\n",
    "    folds=5,\n",
    "    params={\"epochs\": 20,\n",
    "            \"learning_rate\": 5e-3,\n",
    "            \"batch_size\": 1,\n",
    "            \"momentum\": False,\n",
    "            \"weight_decay\": 0.0005})\n",
    "    \n",
    "queue.queue = queue.queue[5:]\n",
    "#execute queue\n",
    "results = queue.execute(folder=\"Results/Base/WeightDecay\")"
   ]
  }
 ],
 "metadata": {
  "kernelspec": {
   "display_name": "Python 3",
   "language": "python",
   "name": "python3"
  },
  "language_info": {
   "codemirror_mode": {
    "name": "ipython",
    "version": 3
   },
   "file_extension": ".py",
   "mimetype": "text/x-python",
   "name": "python",
   "nbconvert_exporter": "python",
   "pygments_lexer": "ipython3",
   "version": "3.7.3"
  }
 },
 "nbformat": 4,
 "nbformat_minor": 2
}
