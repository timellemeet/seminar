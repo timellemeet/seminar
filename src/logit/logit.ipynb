{
 "cells": [
  {
   "cell_type": "code",
   "execution_count": 2,
   "metadata": {},
   "outputs": [],
   "source": [
    "%reload_ext autoreload\n",
    "%autoreload 2\n",
    "%matplotlib inline\n"
   ]
  },
  {
   "cell_type": "code",
   "execution_count": 7,
   "metadata": {},
   "outputs": [],
   "source": [
    "from sklearn import  linear_model, datasets\n",
    "from numpy import *\n",
    "import matplotlib.pyplot as plt\n",
    "from sklearn.metrics import confusion_matrix, accuracy_score\n",
    "import os\n",
    "from sklearn.utils.multiclass import unique_labels\n"
   ]
  },
  {
   "cell_type": "markdown",
   "metadata": {},
   "source": [
    "Check working directory, probably in knearest folder. Change to cwd to src to acces the data easily"
   ]
  },
  {
   "cell_type": "code",
   "execution_count": 2,
   "metadata": {},
   "outputs": [
    {
     "data": {
      "text/plain": [
       "'/home/ec2-user/SageMaker/src/logit'"
      ]
     },
     "execution_count": 2,
     "metadata": {},
     "output_type": "execute_result"
    }
   ],
   "source": [
    "os.getcwd()"
   ]
  },
  {
   "cell_type": "markdown",
   "metadata": {},
   "source": [
    "Load the data into numpy arrays"
   ]
  },
  {
   "cell_type": "code",
   "execution_count": 3,
   "metadata": {},
   "outputs": [
    {
     "name": "stdout",
     "output_type": "stream",
     "text": [
      "CPU times: user 52 s, sys: 2 s, total: 54 s\n",
      "Wall time: 53.9 s\n"
     ]
    }
   ],
   "source": [
    "%%time\n",
    "img = np.genfromtxt('../data/training-images.csv', delimiter=',')\n",
    "test = np.genfromtxt('../data/test-images.csv', delimiter=',')\n",
    "\n",
    "labels = np.genfromtxt('../data/training-labels.csv', delimiter=',')\n",
    "test_labels = np.genfromtxt('../data/test-labels.csv', delimiter=',')"
   ]
  },
  {
   "cell_type": "markdown",
   "metadata": {},
   "source": [
    "Create classifier instance, and train + predict the test data"
   ]
  },
  {
   "cell_type": "code",
   "execution_count": 10,
   "metadata": {},
   "outputs": [
    {
     "name": "stdout",
     "output_type": "stream",
     "text": [
      "[[0. 0. 0. ... 0. 0. 0.]\n",
      " [0. 0. 0. ... 0. 0. 0.]\n",
      " [0. 0. 0. ... 0. 0. 0.]\n",
      " ...\n",
      " [0. 0. 0. ... 0. 0. 0.]\n",
      " [0. 0. 0. ... 0. 0. 0.]\n",
      " [0. 0. 0. ... 0. 0. 0.]]\n",
      "CPU times: user 1.04 ms, sys: 19 µs, total: 1.06 ms\n",
      "Wall time: 859 µs\n"
     ]
    }
   ],
   "source": [
    "%%time\n",
    "\n",
    "print(img)\n",
    "\n",
    "# log = linear_model.LogisticRegressionCV(Cs=logspace(-4,4,20), cv=5, n_jobs=-1, multi_class='multinomial', solver='lbfgs', verbose=2)\n",
    "# log.fit(img,labels)\n",
    "# predicted = log.predict(test)"
   ]
  },
  {
   "cell_type": "markdown",
   "metadata": {},
   "source": [
    "Create confusion matrix plotter @scilearndocs"
   ]
  },
  {
   "cell_type": "code",
   "execution_count": 15,
   "metadata": {},
   "outputs": [],
   "source": [
    "def plot_confusion_matrix(y_true, y_pred, classes,\n",
    "                          normalize=False,\n",
    "                          title=None,\n",
    "                          cmap=plt.cm.Blues):\n",
    "    \"\"\"\n",
    "    This function prints and plots the confusion matrix.\n",
    "    Normalization can be applied by setting `normalize=True`.\n",
    "    \"\"\"\n",
    "    if not title:\n",
    "        if normalize:\n",
    "            title = 'Normalized confusion matrix'\n",
    "        else:\n",
    "            title = 'Confusion matrix, without normalization'\n",
    "\n",
    "    # Compute confusion matrix\n",
    "    cm = confusion_matrix(y_true, y_pred)\n",
    "    # Only use the labels that appear in the data\n",
    "#     classes = classes[unique_labels(y_true, y_pred)]\n",
    "    if normalize:\n",
    "        cm = cm.astype('float') / cm.sum(axis=1)[:, np.newaxis]\n",
    "        print(\"Normalized confusion matrix\")\n",
    "    else:\n",
    "        print('Confusion matrix, without normalization')\n",
    "\n",
    "    print(cm)\n",
    "\n",
    "    fig, ax = plt.subplots()\n",
    "    im = ax.imshow(cm, interpolation='nearest', cmap=cmap)\n",
    "    ax.figure.colorbar(im, ax=ax)\n",
    "    # We want to show all ticks...\n",
    "    ax.set(xticks=np.arange(cm.shape[1]),\n",
    "           yticks=np.arange(cm.shape[0]),\n",
    "           # ... and label them with the respective list entries\n",
    "           xticklabels=classes, yticklabels=classes,\n",
    "           title=title,\n",
    "           ylabel='True label',\n",
    "           xlabel='Predicted label')\n",
    "\n",
    "    # Rotate the tick labels and set their alignment.\n",
    "    plt.setp(ax.get_xticklabels(), rotation=45, ha=\"right\",\n",
    "             rotation_mode=\"anchor\")\n",
    "\n",
    "    # Loop over data dimensions and create text annotations.\n",
    "    fmt = '.2f' if normalize else 'd'\n",
    "    thresh = cm.max() / 2.\n",
    "    for i in range(cm.shape[0]):\n",
    "        for j in range(cm.shape[1]):\n",
    "            ax.text(j, i, format(cm[i, j], fmt),\n",
    "                    ha=\"center\", va=\"center\",\n",
    "                    color=\"white\" if cm[i, j] > thresh else \"black\")\n",
    "    fig.tight_layout()\n",
    "    return ax\n"
   ]
  },
  {
   "cell_type": "code",
   "execution_count": 16,
   "metadata": {
    "scrolled": true
   },
   "outputs": [
    {
     "name": "stdout",
     "output_type": "stream",
     "text": [
      "Normalized confusion matrix\n",
      "[[9.62376238e-01 0.00000000e+00 1.28712871e-02 0.00000000e+00\n",
      "  1.98019802e-03 3.96039604e-03 5.94059406e-03 0.00000000e+00\n",
      "  5.94059406e-03 6.93069307e-03]\n",
      " [8.33333333e-04 9.43333333e-01 1.00000000e-02 2.50000000e-03\n",
      "  9.16666667e-03 0.00000000e+00 3.33333333e-03 2.25000000e-02\n",
      "  3.33333333e-03 5.00000000e-03]\n",
      " [1.00000000e-03 2.00000000e-03 9.82000000e-01 3.00000000e-03\n",
      "  0.00000000e+00 0.00000000e+00 0.00000000e+00 4.00000000e-03\n",
      "  5.00000000e-03 3.00000000e-03]\n",
      " [0.00000000e+00 0.00000000e+00 1.98412698e-03 9.68253968e-01\n",
      "  0.00000000e+00 1.19047619e-02 0.00000000e+00 0.00000000e+00\n",
      "  1.09126984e-02 6.94444444e-03]\n",
      " [0.00000000e+00 0.00000000e+00 1.03626943e-03 1.03626943e-03\n",
      "  9.74093264e-01 1.03626943e-03 3.10880829e-03 2.07253886e-03\n",
      "  7.25388601e-03 1.03626943e-02]\n",
      " [2.24971879e-03 0.00000000e+00 0.00000000e+00 1.12485939e-02\n",
      "  0.00000000e+00 9.70753656e-01 2.24971879e-03 0.00000000e+00\n",
      "  1.01237345e-02 3.37457818e-03]\n",
      " [3.10880829e-03 1.03626943e-03 2.07253886e-03 1.03626943e-03\n",
      "  4.14507772e-03 6.21761658e-03 9.77202073e-01 0.00000000e+00\n",
      "  4.14507772e-03 1.03626943e-03]\n",
      " [9.73709834e-04 0.00000000e+00 1.65530672e-02 6.81596884e-03\n",
      "  9.73709834e-04 9.73709834e-04 0.00000000e+00 9.57156767e-01\n",
      "  6.81596884e-03 9.73709834e-03]\n",
      " [0.00000000e+00 0.00000000e+00 3.23624595e-03 6.47249191e-03\n",
      "  1.07874865e-03 1.07874865e-03 0.00000000e+00 0.00000000e+00\n",
      "  9.85976268e-01 2.15749730e-03]\n",
      " [0.00000000e+00 0.00000000e+00 0.00000000e+00 2.97324083e-03\n",
      "  2.27948464e-02 3.96432111e-03 0.00000000e+00 1.18929633e-02\n",
      "  6.93756194e-03 9.51437066e-01]]\n"
     ]
    },
    {
     "data": {
      "image/png": "[encoded data removed]",
      "text/plain": [
       "<Figure size 432x288 with 2 Axes>"
      ]
     },
     "metadata": {},
     "output_type": "display_data"
    }
   ],
   "source": [
    "#plot results\n",
    "# Plot normalized confusion matrix\n",
    "plot_confusion_matrix(predicted, test_labels, classes=np.array([0,1,2,3,4,5,6,7,8,9]), normalize=True,\n",
    "                      title='Normalized confusion matrix')\n",
    "plt.show()"
   ]
  },
  {
   "cell_type": "code",
   "execution_count": 17,
   "metadata": {},
   "outputs": [
    {
     "name": "stdout",
     "output_type": "stream",
     "text": [
      "The accuracy of the model is 0.9665\n"
     ]
    }
   ],
   "source": [
    "print(\"The accuracy of the model is {}\".format(accuracy_score(predicted,test_labels)))"
   ]
  },
  {
   "cell_type": "code",
   "execution_count": null,
   "metadata": {},
   "outputs": [],
   "source": []
  },
  {
   "cell_type": "code",
   "execution_count": null,
   "metadata": {},
   "outputs": [],
   "source": []
  }
 ],
 "metadata": {
  "kernelspec": {
   "display_name": "conda_amazonei_tensorflow_p36",
   "language": "python",
   "name": "conda_amazonei_tensorflow_p36"
  },
  "language_info": {
   "codemirror_mode": {
    "name": "ipython",
    "version": 3
   },
   "file_extension": ".py",
   "mimetype": "text/x-python",
   "name": "python",
   "nbconvert_exporter": "python",
   "pygments_lexer": "ipython3",
   "version": "3.6.5"
  },
  "nbdime-conflicts": {
   "local_diff": [
    {
     "diff": [
      {
       "diff": [
        {
         "key": 0,
         "length": 1,
         "op": "removerange"
        }
       ],
       "key": "version",
       "op": "patch"
      }
     ],
     "key": "language_info",
     "op": "patch"
    }
   ],
   "remote_diff": [
    {
     "diff": [
      {
       "diff": [
        {
         "diff": [
          {
           "key": 4,
           "op": "addrange",
           "valuelist": "2"
          },
          {
           "key": 4,
           "length": 1,
           "op": "removerange"
          }
         ],
         "key": 0,
         "op": "patch"
        }
       ],
       "key": "version",
       "op": "patch"
      }
     ],
     "key": "language_info",
     "op": "patch"
    }
   ]
  }
 },
 "nbformat": 4,
 "nbformat_minor": 2
}
