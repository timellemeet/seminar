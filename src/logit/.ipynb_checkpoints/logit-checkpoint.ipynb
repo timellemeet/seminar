{
 "cells": [
  {
   "cell_type": "code",
   "execution_count": 2,
   "metadata": {},
   "outputs": [],
   "source": [
    "%reload_ext autoreload\n",
    "%autoreload 2\n",
    "%matplotlib inline\n"
   ]
  },
  {
   "cell_type": "code",
   "execution_count": 3,
   "metadata": {},
   "outputs": [],
   "source": [
    "from sklearn import  linear_model, datasets\n",
    "import numpy as np\n",
    "import matplotlib.pyplot as plt\n",
    "from sklearn.metrics import confusion_matrix, accuracy_score\n",
    "import os\n",
    "from sklearn.utils.multiclass import unique_labels\n"
   ]
  },
  {
   "cell_type": "markdown",
   "metadata": {},
   "source": [
    "Check working directory, probably in knearest folder. Change to cwd to src to acces the data easily"
   ]
  },
  {
   "cell_type": "code",
   "execution_count": 3,
   "metadata": {},
   "outputs": [
    {
     "data": {
      "text/plain": [
       "'/home/ec2-user/SageMaker/src/logit'"
      ]
     },
     "execution_count": 3,
     "metadata": {},
     "output_type": "execute_result"
    }
   ],
   "source": [
    "os.getcwd()"
   ]
  },
  {
   "cell_type": "markdown",
   "metadata": {},
   "source": [
    "Load the data into numpy arrays"
   ]
  },
  {
   "cell_type": "code",
   "execution_count": 13,
   "metadata": {},
   "outputs": [
    {
     "name": "stdout",
     "output_type": "stream",
     "text": [
      "CPU times: user 43.9 s, sys: 1.34 s, total: 45.2 s\n",
      "Wall time: 45.2 s\n"
     ]
    }
   ],
   "source": [
    "%%time\n",
    "img = np.genfromtxt('../data/training-images.csv', delimiter=',')\n",
    "test = np.genfromtxt('../data/test-images.csv', delimiter=',')\n",
    "\n",
    "labels = np.genfromtxt('../data/training-labels.csv', delimiter=',')\n",
    "test_labels = np.genfromtxt('../data/test-labels.csv', delimiter=',')"
   ]
  },
  {
   "cell_type": "markdown",
   "metadata": {},
   "source": [
    "Create classifier instance, and train + predict the test data"
   ]
  },
  {
   "cell_type": "markdown",
   "metadata": {},
   "source": [
    "Define k-fold crossvalidation"
   ]
  },
  {
   "cell_type": "code",
   "execution_count": 5,
   "metadata": {},
   "outputs": [],
   "source": [
    "def k_fold(training_data,training_labels, k, n):\n",
    "    observations = training_labels.size\n",
    "    if observations%k != 0:\n",
    "        print(\"Difficult division\")\n",
    "        return None\n",
    "    foldsize = int(observations/k)\n",
    "    validation_data = training_data[(n-1)*foldsize:n*foldsize]\n",
    "    validation_labels = training_labels[(n-1)*foldsize:n*foldsize]\n",
    "    new_training_data = np.concatenate((training_data[n*foldsize:],training_data[:(n-1)*foldsize]))\n",
    "    new_training_labels = np.concatenate((training_labels[n*foldsize:],training_labels[:(n-1)*foldsize]))\n",
    "    return validation_data, validation_labels, new_training_data, new_training_labels\n"
   ]
  },
  {
   "cell_type": "code",
   "execution_count": 18,
   "metadata": {},
   "outputs": [
    {
     "name": "stdout",
     "output_type": "stream",
     "text": [
      "Set:  1\n",
      "The hitrate for set  1  is  0.9215\n",
      "Set:  2\n",
      "The hitrate for set  2  is  0.9149166666666667\n",
      "Set:  3\n",
      "The hitrate for set  3  is  0.919\n",
      "Set:  4\n",
      "The hitrate for set  4  is  0.9128333333333334\n",
      "Set:  5\n",
      "The hitrate for set  5  is  0.9254166666666667\n",
      "[0.9215, 0.9149166666666667, 0.919, 0.9128333333333334, 0.9254166666666667]\n",
      "The best hitrate is found for set  5\n",
      "CPU times: user 3 µs, sys: 0 ns, total: 3 µs\n",
      "Wall time: 6.68 µs\n",
      "The accuracy of the model is 0.9242\n",
      "CPU times: user 4min 54s, sys: 6.98 s, total: 5min 1s\n",
      "Wall time: 2min 51s\n"
     ]
    }
   ],
   "source": [
    "%%time\n",
    "\n",
    "#hyperparameter\n",
    "n_folds = 5\n",
    "\n",
    "#initialization\n",
    "hitrates = []\n",
    "\n",
    "#k fold loop, changing number of neighbors for every fold\n",
    "for i in range(n_folds):\n",
    "    test_fold,test_labels_fold,img_fold,labels_fold = k_fold(img,labels,n_folds,i+1)\n",
    "    print(\"Set: \",i+1)\n",
    "    log = linear_model.LogisticRegression(random_state=0, solver='lbfgs', multi_class='multinomial')\n",
    "    log.fit(img_fold,labels_fold)\n",
    "    predicted_fold = log.predict(test_fold)\n",
    "    hitrate = accuracy_score(predicted_fold,test_labels_fold)\n",
    "    print(\"The hitrate for set \",i+1,\" is \",hitrate)\n",
    "    hitrates.append(hitrate)\n",
    "\n",
    "best_fold = np.argmax(hitrates)\n",
    "print(hitrates)\n",
    "print(\"The best hitrate is found for set \",best_fold+1)    \n",
    "\n",
    "\n",
    "#accuracy for test set\n",
    "test_fold,test_labels_fold,img_fold,labels_fold = k_fold(img,labels,n_folds,best_fold+1)\n",
    "log = linear_model.LogisticRegression(random_state=0, solver='lbfgs', multi_class='multinomial').fit(img_fold,labels_fold)\n",
    "predicted = log.predict(test)\n",
    "print(\"The accuracy of submodel model is {}\".format(accuracy_score(predicted,test_labels)))\n",
    "\n",
    "alllog = linear_model.LogisticRegression(random_state=0, solver='lbfgs', multi_class='multinomial')\n",
    "alllog.fit(img,labels)\n",
    "allpredicted = alllog.predict(test)\n",
    "print(\"The accuracy of the model is {}\".format(accuracy_score(allpredicted,test_labels)))"
   ]
  },
  {
   "cell_type": "markdown",
   "metadata": {},
   "source": [
    "Create confusion matrix plotter @scilearndocs"
   ]
  },
  {
   "cell_type": "code",
   "execution_count": 6,
   "metadata": {},
   "outputs": [
    {
     "name": "stdout",
     "output_type": "stream",
     "text": [
      "Normalized confusion matrix\n",
      "[[9.55357143e-01 0.00000000e+00 3.96825397e-03 3.96825397e-03\n",
      "  9.92063492e-04 1.09126984e-02 7.93650794e-03 9.92063492e-04\n",
      "  7.93650794e-03 7.93650794e-03]\n",
      " [0.00000000e+00 9.63636364e-01 9.52380952e-03 8.65800866e-04\n",
      "  8.65800866e-04 1.73160173e-03 2.59740260e-03 5.19480519e-03\n",
      "  8.65800866e-03 6.92640693e-03]\n",
      " [0.00000000e+00 4.01606426e-03 9.27710843e-01 2.00803213e-02\n",
      "  7.02811245e-03 2.00803213e-03 8.03212851e-03 2.40963855e-02\n",
      "  7.02811245e-03 0.00000000e+00]\n",
      " [1.97044335e-03 1.97044335e-03 1.67487685e-02 9.01477833e-01\n",
      "  2.95566502e-03 3.34975369e-02 2.95566502e-03 4.92610837e-03\n",
      "  2.36453202e-02 9.85221675e-03]\n",
      " [1.02986612e-03 0.00000000e+00 6.17919670e-03 1.02986612e-03\n",
      "  9.38208033e-01 9.26879506e-03 8.23892894e-03 6.17919670e-03\n",
      "  6.17919670e-03 2.36869207e-02]\n",
      " [4.65116279e-03 1.16279070e-03 4.65116279e-03 3.48837209e-02\n",
      "  0.00000000e+00 9.02325581e-01 1.86046512e-02 1.16279070e-03\n",
      "  2.55813953e-02 6.97674419e-03]\n",
      " [5.18134715e-03 3.10880829e-03 1.34715026e-02 3.10880829e-03\n",
      "  1.03626943e-02 1.24352332e-02 9.40932642e-01 0.00000000e+00\n",
      "  1.13989637e-02 0.00000000e+00]\n",
      " [3.89483934e-03 1.94741967e-03 8.76338851e-03 8.76338851e-03\n",
      "  6.81596884e-03 6.81596884e-03 1.94741967e-03 9.25998053e-01\n",
      "  1.07108082e-02 2.43427459e-02]\n",
      " [1.00704935e-03 1.00704935e-02 4.12890232e-02 1.91339376e-02\n",
      "  1.00704935e-02 3.32326284e-02 2.01409869e-03 3.02114804e-03\n",
      "  8.72104733e-01 8.05639476e-03]\n",
      " [0.00000000e+00 0.00000000e+00 2.97029703e-03 7.92079208e-03\n",
      "  3.16831683e-02 5.94059406e-03 0.00000000e+00 3.06930693e-02\n",
      "  8.91089109e-03 9.11881188e-01]]\n"
     ]
    },
    {
     "data": {
      "image/png": "[encoded data removed]",
      "text/plain": [
       "<Figure size 432x288 with 2 Axes>"
      ]
     },
     "metadata": {},
     "output_type": "display_data"
    }
   ],
   "source": [
    "def plot_confusion_matrix(y_true, y_pred, classes,\n",
    "                          normalize=False,\n",
    "                          title=None,\n",
    "                          cmap=plt.cm.Blues):\n",
    "    \"\"\"\n",
    "    This function prints and plots the confusion matrix.\n",
    "    Normalization can be applied by setting `normalize=True`.\n",
    "    \"\"\"\n",
    "    if not title:\n",
    "        if normalize:\n",
    "            title = 'Normalized confusion matrix'\n",
    "        else:\n",
    "            title = 'Confusion matrix, without normalization'\n",
    "\n",
    "    # Compute confusion matrix\n",
    "    cm = confusion_matrix(y_true, y_pred)\n",
    "    # Only use the labels that appear in the data\n",
    "#     classes = classes[unique_labels(y_true, y_pred)]\n",
    "    if normalize:\n",
    "        cm = cm.astype('float') / cm.sum(axis=1)[:, np.newaxis]\n",
    "        print(\"Normalized confusion matrix\")\n",
    "    else:\n",
    "        print('Confusion matrix, without normalization')\n",
    "\n",
    "    print(cm)\n",
    "\n",
    "    fig, ax = plt.subplots()\n",
    "    im = ax.imshow(cm, interpolation='nearest', cmap=cmap)\n",
    "    ax.figure.colorbar(im, ax=ax)\n",
    "    # We want to show all ticks...\n",
    "    ax.set(xticks=np.arange(cm.shape[1]),\n",
    "           yticks=np.arange(cm.shape[0]),\n",
    "           # ... and label them with the respective list entries\n",
    "           xticklabels=classes, yticklabels=classes,\n",
    "           title=title,\n",
    "           ylabel='True label',\n",
    "           xlabel='Predicted label')\n",
    "\n",
    "    # Rotate the tick labels and set their alignment.\n",
    "    plt.setp(ax.get_xticklabels(), rotation=45, ha=\"right\",\n",
    "             rotation_mode=\"anchor\")\n",
    "\n",
    "    # Loop over data dimensions and create text annotations.\n",
    "    fmt = '.2f' if normalize else 'd'\n",
    "    thresh = cm.max() / 2.\n",
    "    for i in range(cm.shape[0]):\n",
    "        for j in range(cm.shape[1]):\n",
    "            ax.text(j, i, format(cm[i, j], fmt),\n",
    "                    ha=\"center\", va=\"center\",\n",
    "                    color=\"white\" if cm[i, j] > thresh else \"black\")\n",
    "    fig.tight_layout()\n",
    "    return ax\n",
    "\n",
    "#plot results\n",
    "# Plot normalized confusion matrix\n",
    "plot_confusion_matrix(predicted, test_labels, classes=np.array([0,1,2,3,4,5,6,7,8,9]), normalize=True,\n",
    "                      title='Normalized confusion matrix')\n",
    "plt.show()"
   ]
  },
  {
   "cell_type": "code",
   "execution_count": null,
   "metadata": {},
   "outputs": [],
   "source": []
  }
 ],
 "metadata": {
  "kernelspec": {
   "display_name": "conda_amazonei_tensorflow_p36",
   "language": "python",
   "name": "conda_amazonei_tensorflow_p36"
  },
  "language_info": {
   "codemirror_mode": {
    "name": "ipython",
    "version": 3
   },
   "file_extension": ".py",
   "mimetype": "text/x-python",
   "name": "python",
   "nbconvert_exporter": "python",
   "pygments_lexer": "ipython3",
   "version": "3.6.5"
  },
  "nbdime-conflicts": {
   "local_diff": [
    {
     "diff": [
      {
       "diff": [
        {
         "key": 0,
         "length": 1,
         "op": "removerange"
        }
       ],
       "key": "version",
       "op": "patch"
      }
     ],
     "key": "language_info",
     "op": "patch"
    }
   ],
   "remote_diff": [
    {
     "diff": [
      {
       "diff": [
        {
         "diff": [
          {
           "key": 4,
           "op": "addrange",
           "valuelist": "2"
          },
          {
           "key": 4,
           "length": 1,
           "op": "removerange"
          }
         ],
         "key": 0,
         "op": "patch"
        }
       ],
       "key": "version",
       "op": "patch"
      }
     ],
     "key": "language_info",
     "op": "patch"
    }
   ]
  }
 },
 "nbformat": 4,
 "nbformat_minor": 2
}
