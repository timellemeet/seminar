{
 "cells": [
  {
   "cell_type": "code",
   "execution_count": 1,
   "metadata": {},
   "outputs": [],
   "source": [
    "%reload_ext autoreload\n",
    "%autoreload 2\n",
    "%matplotlib inline\n"
   ]
  },
  {
   "cell_type": "code",
   "execution_count": 2,
   "metadata": {},
   "outputs": [],
   "source": [
    "from IPython.display import HTML\n",
    "from sklearn import neighbors, datasets\n",
    "import numpy as np\n",
    "import matplotlib.pyplot as plt\n",
    "from sklearn.metrics import confusion_matrix, accuracy_score\n",
    "import os\n",
    "from sklearn.utils.multiclass import unique_labels\n",
    "\n",
    "n_neighbors = 10"
   ]
  },
  {
   "cell_type": "markdown",
   "metadata": {},
   "source": [
    "Check working directory, probably in knearest folder. Change to cwd to src to acces the data easily"
   ]
  },
  {
   "cell_type": "code",
   "execution_count": 3,
   "metadata": {},
   "outputs": [
    {
     "data": {
      "text/plain": [
       "'/home/ec2-user/SageMaker/src/knearest'"
      ]
     },
     "execution_count": 3,
     "metadata": {},
     "output_type": "execute_result"
    }
   ],
   "source": [
    "os.getcwd()"
   ]
  },
  {
   "cell_type": "markdown",
   "metadata": {},
   "source": [
    "Move up one directory"
   ]
  },
  {
   "cell_type": "markdown",
   "metadata": {},
   "source": [
    "Load the data into numpy arrays"
   ]
  },
  {
   "cell_type": "code",
   "execution_count": 5,
   "metadata": {},
   "outputs": [
    {
     "name": "stdout",
     "output_type": "stream",
     "text": [
      "CPU times: user 52.4 s, sys: 1.95 s, total: 54.3 s\n",
      "Wall time: 54.2 s\n"
     ]
    }
   ],
   "source": [
    "%%time\n",
    "img = np.genfromtxt('../data/training-images.csv', delimiter=',')\n",
    "test = np.genfromtxt('../data/test-images.csv', delimiter=',')\n",
    "\n",
    "labels = np.genfromtxt('../data/training-labels.csv', delimiter=',')\n",
    "test_labels = np.genfromtxt('../data/test-labels.csv', delimiter=',')"
   ]
  },
  {
   "cell_type": "markdown",
   "metadata": {},
   "source": [
    "Apply k-fold crossvalidation"
   ]
  },
  {
   "cell_type": "code",
   "execution_count": 6,
   "metadata": {},
   "outputs": [
    {
     "name": "stdout",
     "output_type": "stream",
     "text": [
      "(12000, 784)\n",
      "(48000, 784)\n"
     ]
    }
   ],
   "source": [
    "def k_fold(training_data,training_labels, k, n):\n",
    "    observations = training_labels.size\n",
    "    if observations%k != 0:\n",
    "        print(\"Difficult division\")\n",
    "        return None\n",
    "    foldsize = int(observations/k)\n",
    "    validation_data = training_data[(n-1)*foldsize:n*foldsize]\n",
    "    validation_labels = training_labels[(n-1)*foldsize:n*foldsize]\n",
    "    new_training_data = np.concatenate((training_data[n*foldsize:],training_data[:(n-1)*foldsize]))\n",
    "    new_training_labels = np.concatenate((training_labels[n*foldsize:],training_labels[:(n-1)*foldsize]))\n",
    "    return validation_data, validation_labels, new_training_data, new_training_labels\n",
    "fold1_val_data,fold1_val_labels,fold1_train_data, fold1_train_labels=k_fold(img,labels,5,5)\n",
    "\n",
    "print(fold1_val_data.shape)\n",
    "print(fold1_train_data.shape)\n",
    "\n"
   ]
  },
  {
   "cell_type": "code",
   "execution_count": 8,
   "metadata": {},
   "outputs": [
    {
     "data": {
      "text/html": [
       "<script src=\"https://ajax.googleapis.com/ajax/libs/jquery/3.3.1/jquery.min.js\"></script><script>\n",
       "    code_show=true; \n",
       "    IPython.OutputArea.prototype._should_scroll = function(lines) {\n",
       "        return false;\n",
       "    }\n",
       "    function code_toggle() {\n",
       "        if (code_show){\n",
       "            $('div.cell.code_cell.rendered.selected div.input').hide();\n",
       "        } else {\n",
       "            $('div.cell.code_cell.rendered.selected div.input').show();\n",
       "        }\n",
       "        code_show = !code_show\n",
       "    }     \n",
       "    $( document ).ready(code_toggle);\n",
       "</script>\n",
       "<a href=\"javascript:code_toggle()\"><h4>Auxiliary progress bar and plotting function</h4></a>\n"
      ],
      "text/plain": [
       "<IPython.core.display.HTML object>"
      ]
     },
     "metadata": {},
     "output_type": "display_data"
    }
   ],
   "source": [
    "def log_progress(sequence, every=None, size=None, name='Folds'):\n",
    "    from ipywidgets import IntProgress, HTML, VBox\n",
    "    from IPython.display import display\n",
    "\n",
    "    is_iterator = False\n",
    "    if size is None:\n",
    "        try:\n",
    "            size = len(sequence)\n",
    "        except TypeError:\n",
    "            is_iterator = True\n",
    "    if size is not None:\n",
    "        if every is None:\n",
    "            if size <= 200:\n",
    "                every = 1\n",
    "            else:\n",
    "                every = int(size / 200)     # every 0.5%\n",
    "    else:\n",
    "        assert every is not None, 'sequence is iterator, set every'\n",
    "\n",
    "    if is_iterator:\n",
    "        progress = IntProgress(min=0, max=1, value=1)\n",
    "        progress.bar_style = 'info'\n",
    "    else:\n",
    "        progress = IntProgress(min=0, max=size, value=0)\n",
    "    label = HTML()\n",
    "    box = VBox(children=[label, progress])\n",
    "    display(box)\n",
    "\n",
    "    index = 0\n",
    "    try:\n",
    "        for index, record in enumerate(sequence, 1):\n",
    "            if index == 1 or index % every == 0:\n",
    "                if is_iterator:\n",
    "                    label.value = '{name}: {index} / ?'.format(\n",
    "                        name=name,\n",
    "                        index=index\n",
    "                    )\n",
    "                else:\n",
    "                    progress.value = index\n",
    "                    label.value = u'{name}: {index} / {size}'.format(\n",
    "                        name=name,\n",
    "                        index=index,\n",
    "                        size=size\n",
    "                    )\n",
    "            yield record\n",
    "    except:\n",
    "        progress.bar_style = 'danger'\n",
    "        raise\n",
    "    else:\n",
    "        progress.bar_style = 'success'\n",
    "        progress.value = index\n",
    "        label.value = \"{name}: {index}\".format(\n",
    "            name=name,\n",
    "            index=str(index or '?')\n",
    "        )\n",
    "def plot_confusion_matrix(y_true, y_pred, classes,\n",
    "                          normalize=False,\n",
    "                          title=None,\n",
    "                          cmap=plt.cm.Blues):\n",
    "    \"\"\"\n",
    "    This function prints and plots the confusion matrix.\n",
    "    Normalization can be applied by setting `normalize=True`.\n",
    "    \"\"\"\n",
    "    if not title:\n",
    "        if normalize:\n",
    "            title = 'Normalized confusion matrix'\n",
    "        else:\n",
    "            title = 'Confusion matrix, without normalization'\n",
    "\n",
    "    # Compute confusion matrix\n",
    "    cm = confusion_matrix(y_true, y_pred)\n",
    "    # Only use the labels that appear in the data\n",
    "#     classes = classes[unique_labels(y_true, y_pred)]\n",
    "    if normalize:\n",
    "        cm = cm.astype('float') / cm.sum(axis=1)[:, np.newaxis]\n",
    "        print(\"Normalized confusion matrix\")\n",
    "    else:\n",
    "        print('Confusion matrix, without normalization')\n",
    "\n",
    "    print(cm)\n",
    "\n",
    "    fig, ax = plt.subplots()\n",
    "    im = ax.imshow(cm, interpolation='nearest', cmap=cmap)\n",
    "    ax.figure.colorbar(im, ax=ax)\n",
    "    # We want to show all ticks...\n",
    "    ax.set(xticks=np.arange(cm.shape[1]),\n",
    "           yticks=np.arange(cm.shape[0]),\n",
    "           # ... and label them with the respective list entries\n",
    "           xticklabels=classes, yticklabels=classes,\n",
    "           title=title,\n",
    "           ylabel='True label',\n",
    "           xlabel='Predicted label')\n",
    "\n",
    "    # Rotate the tick labels and set their alignment.\n",
    "    plt.setp(ax.get_xticklabels(), rotation=45, ha=\"right\",\n",
    "             rotation_mode=\"anchor\")\n",
    "\n",
    "    # Loop over data dimensions and create text annotations.\n",
    "    fmt = '.2f' if normalize else 'd'\n",
    "    thresh = cm.max() / 2.\n",
    "    for i in range(cm.shape[0]):\n",
    "        for j in range(cm.shape[1]):\n",
    "            ax.text(j, i, format(cm[i, j], fmt),\n",
    "                    ha=\"center\", va=\"center\",\n",
    "                    color=\"white\" if cm[i, j] > thresh else \"black\")\n",
    "    fig.tight_layout()\n",
    "    return ax\n",
    "\n",
    "tag = HTML('''<script src=\"https://ajax.googleapis.com/ajax/libs/jquery/3.3.1/jquery.min.js\"></script><script>\n",
    "    code_show=true; \n",
    "    IPython.OutputArea.prototype._should_scroll = function(lines) {\n",
    "        return false;\n",
    "    }\n",
    "    function code_toggle() {\n",
    "        if (code_show){\n",
    "            $('div.cell.code_cell.rendered.selected div.input').hide();\n",
    "        } else {\n",
    "            $('div.cell.code_cell.rendered.selected div.input').show();\n",
    "        }\n",
    "        code_show = !code_show\n",
    "    }     \n",
    "    $( document ).ready(code_toggle);\n",
    "</script>\n",
    "<a href=\"javascript:code_toggle()\"><h4>Auxiliary progress bar and plotting function</h4></a>\n",
    "''')\n",
    "display(tag)"
   ]
  },
  {
   "cell_type": "markdown",
   "metadata": {},
   "source": [
    "Create classifier instance, and train + predict the test data"
   ]
  },
  {
   "cell_type": "code",
   "execution_count": null,
   "metadata": {
    "scrolled": true
   },
   "outputs": [],
   "source": [
    "%%time\n",
    "\n",
    "\n",
    "n_folds = 5\n",
    "best_k = 1\n",
    "best_hitrate = 0\n",
    "for i in log_progress(range(n_folds)):\n",
    "    %time\n",
    "    n_neighbors = (i+1)\n",
    "    test_fold,test_labels_fold,img_fold,labels_fold = k_fold(img,labels,n_folds,i+1)\n",
    "    knn = neighbors.KNeighborsClassifier(n_neighbors, weights='uniform')\n",
    "    knn.fit(img_fold,labels_fold)\n",
    "    predicted_fold = knn.predict(test_fold)\n",
    "    hitrate = accuracy_score(predicted_fold,test_labels_fold)\n",
    "    if hitrate> best_hitrate:\n",
    "        best_hitrate = hitrate\n",
    "        best_k = n_neighbors\n",
    "print(\"Optimal number of neighbors:\",best_k)\n",
    "print(\"Corresponding hitrate\",best_hitrate)\n",
    "\n",
    "#Fit on regular training and test set using optimal k\n",
    "        "
   ]
  },
  {
   "cell_type": "code",
   "execution_count": null,
   "metadata": {},
   "outputs": [],
   "source": [
    "%%time\n",
    "knn = neighbors.KNeighborsClassifier(best_k,, weights='uniform',n_jobs=-1)\n",
    "knn.fit(img,labels)\n",
    "predicted = knn.predict(test)"
   ]
  },
  {
   "cell_type": "markdown",
   "metadata": {},
   "source": [
    "Create confusion matrix plotter @scilearndocs"
   ]
  },
  {
   "cell_type": "code",
   "execution_count": null,
   "metadata": {
    "scrolled": true
   },
   "outputs": [
    {
     "name": "stderr",
     "output_type": "stream",
     "text": [
      "<<<<<<< local\n"
     ]
    },
    {
     "name": "stdout",
     "output_type": "stream",
     "text": [
      "Normalized confusion matrix\n",
      "[[9.62376238e-01 0.00000000e+00 1.28712871e-02 0.00000000e+00\n",
      "  1.98019802e-03 3.96039604e-03 5.94059406e-03 0.00000000e+00\n",
      "  5.94059406e-03 6.93069307e-03]\n",
      " [8.33333333e-04 9.43333333e-01 1.00000000e-02 2.50000000e-03\n",
      "  9.16666667e-03 0.00000000e+00 3.33333333e-03 2.25000000e-02\n",
      "  3.33333333e-03 5.00000000e-03]\n",
      " [1.00000000e-03 2.00000000e-03 9.82000000e-01 3.00000000e-03\n",
      "  0.00000000e+00 0.00000000e+00 0.00000000e+00 4.00000000e-03\n",
      "  5.00000000e-03 3.00000000e-03]\n",
      " [0.00000000e+00 0.00000000e+00 1.98412698e-03 9.68253968e-01\n",
      "  0.00000000e+00 1.19047619e-02 0.00000000e+00 0.00000000e+00\n",
      "  1.09126984e-02 6.94444444e-03]\n",
      " [0.00000000e+00 0.00000000e+00 1.03626943e-03 1.03626943e-03\n",
      "  9.74093264e-01 1.03626943e-03 3.10880829e-03 2.07253886e-03\n",
      "  7.25388601e-03 1.03626943e-02]\n",
      " [2.24971879e-03 0.00000000e+00 0.00000000e+00 1.12485939e-02\n",
      "  0.00000000e+00 9.70753656e-01 2.24971879e-03 0.00000000e+00\n",
      "  1.01237345e-02 3.37457818e-03]\n",
      " [3.10880829e-03 1.03626943e-03 2.07253886e-03 1.03626943e-03\n",
      "  4.14507772e-03 6.21761658e-03 9.77202073e-01 0.00000000e+00\n",
      "  4.14507772e-03 1.03626943e-03]\n",
      " [9.73709834e-04 0.00000000e+00 1.65530672e-02 6.81596884e-03\n",
      "  9.73709834e-04 9.73709834e-04 0.00000000e+00 9.57156767e-01\n",
      "  6.81596884e-03 9.73709834e-03]\n",
      " [0.00000000e+00 0.00000000e+00 3.23624595e-03 6.47249191e-03\n",
      "  1.07874865e-03 1.07874865e-03 0.00000000e+00 0.00000000e+00\n",
      "  9.85976268e-01 2.15749730e-03]\n",
      " [0.00000000e+00 0.00000000e+00 0.00000000e+00 2.97324083e-03\n",
      "  2.27948464e-02 3.96432111e-03 0.00000000e+00 1.18929633e-02\n",
      "  6.93756194e-03 9.51437066e-01]]\n"
     ]
    },
    {
     "data": {
      "image/png": "[encoded data removed]",
      "text/plain": [
       "<Figure size 432x288 with 2 Axes>"
      ]
     },
     "metadata": {},
     "output_type": "display_data"
    },
    {
     "name": "stderr",
     "output_type": "stream",
     "text": [
      "=======\n"
     ]
    },
    {
     "name": "stdout",
     "output_type": "stream",
     "text": [
      "Normalized confusion matrix\n",
      "[[9.35140368e-01 0.00000000e+00 1.64569216e-02 2.90416263e-03\n",
      "  9.68054211e-04 6.77637948e-03 9.68054211e-03 0.00000000e+00\n",
      "  2.03291384e-02 7.74443369e-03]\n",
      " [7.89265983e-04 8.91870560e-01 2.84135754e-02 3.94632991e-03\n",
      "  1.57853197e-02 6.31412786e-03 6.31412786e-03 3.23599053e-02\n",
      "  7.10339384e-03 7.10339384e-03]\n",
      " [0.00000000e+00 1.05042017e-03 9.76890756e-01 6.30252101e-03\n",
      "  2.10084034e-03 1.05042017e-03 0.00000000e+00 2.10084034e-03\n",
      "  9.45378151e-03 1.05042017e-03]\n",
      " [0.00000000e+00 1.99004975e-03 8.95522388e-03 9.37313433e-01\n",
      "  0.00000000e+00 2.28855721e-02 0.00000000e+00 0.00000000e+00\n",
      "  2.18905473e-02 6.96517413e-03]\n",
      " [0.00000000e+00 1.03842160e-03 2.07684320e-03 1.03842160e-03\n",
      "  9.41848390e-01 6.23052960e-03 5.19210800e-03 8.30737279e-03\n",
      "  1.03842160e-02 2.38836968e-02]\n",
      " [2.25988701e-03 0.00000000e+00 1.12994350e-03 2.71186441e-02\n",
      "  0.00000000e+00 9.29943503e-01 4.51977401e-03 1.12994350e-03\n",
      "  2.93785311e-02 4.51977401e-03]\n",
      " [9.19305414e-03 1.02145046e-03 6.12870276e-03 2.04290092e-03\n",
      "  1.02145046e-02 1.22574055e-02 9.50970378e-01 0.00000000e+00\n",
      "  7.15015322e-03 1.02145046e-03]\n",
      " [9.80392157e-04 0.00000000e+00 2.35294118e-02 1.07843137e-02\n",
      "  1.96078431e-03 9.80392157e-04 0.00000000e+00 9.34313725e-01\n",
      "  1.07843137e-02 1.66666667e-02]\n",
      " [1.15473441e-03 0.00000000e+00 8.08314088e-03 1.27020785e-02\n",
      "  1.15473441e-03 3.46420323e-03 0.00000000e+00 0.00000000e+00\n",
      "  9.68822171e-01 4.61893764e-03]\n",
      " [0.00000000e+00 0.00000000e+00 0.00000000e+00 4.85436893e-03\n",
      "  3.78640777e-02 7.76699029e-03 0.00000000e+00 2.23300971e-02\n",
      "  1.94174757e-02 9.07766990e-01]]\n"
     ]
    },
    {
     "data": {
      "image/png": "[encoded data removed]",
      "text/plain": [
       "<Figure size 432x288 with 2 Axes>"
      ]
     },
     "metadata": {
      "needs_background": "light"
     },
     "output_type": "display_data"
    },
    {
     "name": "stderr",
     "output_type": "stream",
     "text": [
      ">>>>>>> remote\n"
     ]
    },
    {
     "data": {
      "image/png": "[encoded data removed]",
      "text/plain": [
       "<Figure size 432x288 with 2 Axes>"
      ]
     },
     "metadata": {
      "needs_background": "light"
     },
     "output_type": "display_data"
    }
   ],
   "source": [
    "#plot results\n",
    "# Plot normalized confusion matrix\n",
    "plot_confusion_matrix(predicted, test_labels, classes=np.array([0,1,2,3,4,5,6,7,8,9]), normalize=True,\n",
    "                      title='Normalized confusion matrix')\n",
    "plt.show()"
   ]
  },
  {
   "cell_type": "code",
   "execution_count": null,
   "metadata": {},
   "outputs": [
    {
     "name": "stderr",
     "output_type": "stream",
     "text": [
      "<<<<<<< local <modified: >\n"
     ]
    },
    {
     "name": "stdout",
     "output_type": "stream",
     "text": [
      "The accuracy of the model is 0.9665\n"
     ]
    },
    {
     "name": "stderr",
     "output_type": "stream",
     "text": [
      "=======\n"
     ]
    },
    {
     "name": "stdout",
     "output_type": "stream",
     "text": [
      "The accuracy of the model is 0.9356\n"
     ]
    },
    {
     "name": "stderr",
     "output_type": "stream",
     "text": [
      ">>>>>>> remote <modified: >\n"
     ]
    }
   ],
   "source": [
    "print(\"The accuracy of the model is {}\".format(accuracy_score(predicted,test_labels)))"
   ]
  },
  {
   "cell_type": "code",
   "execution_count": null,
   "metadata": {},
   "outputs": [],
   "source": []
  },
  {
   "cell_type": "code",
   "execution_count": null,
   "metadata": {},
   "outputs": [],
   "source": []
  }
 ],
 "metadata": {
  "kernelspec": {
   "display_name": "conda_amazonei_tensorflow_p36",
   "language": "python",
   "name": "conda_amazonei_tensorflow_p36"
  },
  "language_info": {
   "codemirror_mode": {
    "name": "ipython",
    "version": 3
   },
   "file_extension": ".py",
   "mimetype": "text/x-python",
   "name": "python",
   "nbconvert_exporter": "python",
   "pygments_lexer": "ipython3",
   "version": "3.6.5"
  },
  "nbdime-conflicts": {
   "local_diff": [
    {
     "diff": [
      {
       "diff": [
        {
         "key": 0,
         "length": 1,
         "op": "removerange"
        }
       ],
       "key": "version",
       "op": "patch"
      }
     ],
     "key": "language_info",
     "op": "patch"
    }
   ],
   "remote_diff": [
    {
     "diff": [
      {
       "diff": [
        {
         "diff": [
          {
           "key": 4,
           "op": "addrange",
           "valuelist": "2"
          },
          {
           "key": 4,
           "length": 1,
           "op": "removerange"
          }
         ],
         "key": 0,
         "op": "patch"
        }
       ],
       "key": "version",
       "op": "patch"
      }
     ],
     "key": "language_info",
     "op": "patch"
    }
   ]
  }
 },
 "nbformat": 4,
 "nbformat_minor": 2
}
