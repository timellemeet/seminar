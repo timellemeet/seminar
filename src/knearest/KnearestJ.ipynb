{
 "cells": [
  {
   "cell_type": "code",
   "execution_count": 16,
   "metadata": {},
   "outputs": [],
   "source": [
    "%reload_ext autoreload\n",
    "%autoreload 2\n",
    "%matplotlib inline\n"
   ]
  },
  {
   "cell_type": "code",
   "execution_count": 105,
   "metadata": {},
   "outputs": [],
   "source": [
    "from IPython.display import HTML\n",
    "from sklearn import neighbors, datasets\n",
    "import numpy as np\n",
    "import matplotlib.pyplot as plt\n",
    "from sklearn.metrics import confusion_matrix, accuracy_score\n",
    "import os\n",
    "from sklearn.utils.multiclass import unique_labels\n",
    "\n",
    "n_neighbors = 10"
   ]
  },
  {
   "cell_type": "markdown",
   "metadata": {},
   "source": [
    "Check working directory, probably in knearest folder. Change to cwd to src to acces the data easily"
   ]
  },
  {
   "cell_type": "code",
   "execution_count": 18,
   "metadata": {},
   "outputs": [
    {
     "data": {
      "text/plain": [
       "'C:\\\\Users\\\\danie\\\\Documents\\\\seminar\\\\src'"
      ]
     },
     "execution_count": 18,
     "metadata": {},
     "output_type": "execute_result"
    }
   ],
   "source": [
    "os.getcwd()"
   ]
  },
  {
   "cell_type": "markdown",
   "metadata": {},
   "source": [
    "Move up one directory"
   ]
  },
  {
   "cell_type": "code",
   "execution_count": 5,
   "metadata": {},
   "outputs": [
    {
     "name": "stdout",
     "output_type": "stream",
     "text": [
      "C:\\Users\\danie\\Documents\\seminar\\src\n"
     ]
    }
   ],
   "source": [
    "%cd .."
   ]
  },
  {
   "cell_type": "markdown",
   "metadata": {},
   "source": [
    "Load the data into numpy arrays"
   ]
  },
  {
   "cell_type": "code",
   "execution_count": 124,
   "metadata": {},
   "outputs": [
    {
     "name": "stdout",
     "output_type": "stream",
     "text": [
      "Wall time: 42.7 s\n"
     ]
    }
   ],
   "source": [
    "%%time\n",
    "img = np.genfromtxt('data\\images.csv', delimiter=',')\n",
    "test = np.genfromtxt('data\\images_test.csv', delimiter=',')\n",
    "\n",
    "labels = np.genfromtxt('data\\labels.csv', delimiter=',')\n",
    "test_labels = np.genfromtxt('data\\labels_test.csv', delimiter=',')"
   ]
  },
  {
   "cell_type": "markdown",
   "metadata": {},
   "source": [
    "Apply k-fold crossvalidation"
   ]
  },
  {
   "cell_type": "code",
   "execution_count": 125,
   "metadata": {},
   "outputs": [
    {
     "name": "stdout",
     "output_type": "stream",
     "text": [
      "(12000, 784)\n",
      "(48000, 784)\n"
     ]
    }
   ],
   "source": [
    "def k_fold(training_data,training_labels, k, n):\n",
    "    observations = training_labels.size\n",
    "    if observations%k != 0:\n",
    "        print(\"Difficult division\")\n",
    "        return None\n",
    "    foldsize = int(observations/k)\n",
    "    validation_data = training_data[(n-1)*foldsize:n*foldsize]\n",
    "    validation_labels = training_labels[(n-1)*foldsize:n*foldsize]\n",
    "    new_training_data = np.concatenate((training_data[n*foldsize:],training_data[:(n-1)*foldsize]))\n",
    "    new_training_labels = np.concatenate((training_labels[n*foldsize:],training_labels[:(n-1)*foldsize]))\n",
    "    return validation_data, validation_labels, new_training_data, new_training_labels\n",
    "fold1_val_data,fold1_val_labels,fold1_train_data, fold1_train_labels=k_fold(img,labels,5,5)\n",
    "\n",
    "print(fold1_val_data.shape)\n",
    "print(fold1_train_data.shape)\n",
    "\n"
   ]
  },
  {
   "cell_type": "code",
   "execution_count": 126,
   "metadata": {},
   "outputs": [
    {
     "data": {
      "text/html": [
       "<script>\n",
       "    code_show=true; \n",
       "    IPython.OutputArea.prototype._should_scroll = function(lines) {\n",
       "        return false;\n",
       "    }\n",
       "    function code_toggle() {\n",
       "        if (code_show){\n",
       "            $('div.cell.code_cell.rendered.selected div.input').hide();\n",
       "        } else {\n",
       "            $('div.cell.code_cell.rendered.selected div.input').show();\n",
       "        }\n",
       "        code_show = !code_show\n",
       "    }     \n",
       "    $( document ).ready(code_toggle);\n",
       "</script>\n",
       "<a href=\"javascript:code_toggle()\"><h4>Auxiliary progress bar and plotting function</h4></a>\n"
      ],
      "text/plain": [
       "<IPython.core.display.HTML object>"
      ]
     },
     "metadata": {},
     "output_type": "display_data"
    }
   ],
   "source": [
    "def log_progress(sequence, every=None, size=None, name='Folds'):\n",
    "    from ipywidgets import IntProgress, HTML, VBox\n",
    "    from IPython.display import display\n",
    "\n",
    "    is_iterator = False\n",
    "    if size is None:\n",
    "        try:\n",
    "            size = len(sequence)\n",
    "        except TypeError:\n",
    "            is_iterator = True\n",
    "    if size is not None:\n",
    "        if every is None:\n",
    "            if size <= 200:\n",
    "                every = 1\n",
    "            else:\n",
    "                every = int(size / 200)     # every 0.5%\n",
    "    else:\n",
    "        assert every is not None, 'sequence is iterator, set every'\n",
    "\n",
    "    if is_iterator:\n",
    "        progress = IntProgress(min=0, max=1, value=1)\n",
    "        progress.bar_style = 'info'\n",
    "    else:\n",
    "        progress = IntProgress(min=0, max=size, value=0)\n",
    "    label = HTML()\n",
    "    box = VBox(children=[label, progress])\n",
    "    display(box)\n",
    "\n",
    "    index = 0\n",
    "    try:\n",
    "        for index, record in enumerate(sequence, 1):\n",
    "            if index == 1 or index % every == 0:\n",
    "                if is_iterator:\n",
    "                    label.value = '{name}: {index} / ?'.format(\n",
    "                        name=name,\n",
    "                        index=index\n",
    "                    )\n",
    "                else:\n",
    "                    progress.value = index\n",
    "                    label.value = u'{name}: {index} / {size}'.format(\n",
    "                        name=name,\n",
    "                        index=index,\n",
    "                        size=size\n",
    "                    )\n",
    "            yield record\n",
    "    except:\n",
    "        progress.bar_style = 'danger'\n",
    "        raise\n",
    "    else:\n",
    "        progress.bar_style = 'success'\n",
    "        progress.value = index\n",
    "        label.value = \"{name}: {index}\".format(\n",
    "            name=name,\n",
    "            index=str(index or '?')\n",
    "        )\n",
    "def plot_confusion_matrix(y_true, y_pred, classes,\n",
    "                          normalize=False,\n",
    "                          title=None,\n",
    "                          cmap=plt.cm.Blues):\n",
    "    \"\"\"\n",
    "    This function prints and plots the confusion matrix.\n",
    "    Normalization can be applied by setting `normalize=True`.\n",
    "    \"\"\"\n",
    "    if not title:\n",
    "        if normalize:\n",
    "            title = 'Normalized confusion matrix'\n",
    "        else:\n",
    "            title = 'Confusion matrix, without normalization'\n",
    "\n",
    "    # Compute confusion matrix\n",
    "    cm = confusion_matrix(y_true, y_pred)\n",
    "    # Only use the labels that appear in the data\n",
    "#     classes = classes[unique_labels(y_true, y_pred)]\n",
    "    if normalize:\n",
    "        cm = cm.astype('float') / cm.sum(axis=1)[:, np.newaxis]\n",
    "        print(\"Normalized confusion matrix\")\n",
    "    else:\n",
    "        print('Confusion matrix, without normalization')\n",
    "\n",
    "    print(cm)\n",
    "\n",
    "    fig, ax = plt.subplots()\n",
    "    im = ax.imshow(cm, interpolation='nearest', cmap=cmap)\n",
    "    ax.figure.colorbar(im, ax=ax)\n",
    "    # We want to show all ticks...\n",
    "    ax.set(xticks=np.arange(cm.shape[1]),\n",
    "           yticks=np.arange(cm.shape[0]),\n",
    "           # ... and label them with the respective list entries\n",
    "           xticklabels=classes, yticklabels=classes,\n",
    "           title=title,\n",
    "           ylabel='True label',\n",
    "           xlabel='Predicted label')\n",
    "\n",
    "    # Rotate the tick labels and set their alignment.\n",
    "    plt.setp(ax.get_xticklabels(), rotation=45, ha=\"right\",\n",
    "             rotation_mode=\"anchor\")\n",
    "\n",
    "    # Loop over data dimensions and create text annotations.\n",
    "    fmt = '.2f' if normalize else 'd'\n",
    "    thresh = cm.max() / 2.\n",
    "    for i in range(cm.shape[0]):\n",
    "        for j in range(cm.shape[1]):\n",
    "            ax.text(j, i, format(cm[i, j], fmt),\n",
    "                    ha=\"center\", va=\"center\",\n",
    "                    color=\"white\" if cm[i, j] > thresh else \"black\")\n",
    "    fig.tight_layout()\n",
    "    return ax\n",
    "\n",
    "tag = HTML('''<script>\n",
    "    code_show=true; \n",
    "    IPython.OutputArea.prototype._should_scroll = function(lines) {\n",
    "        return false;\n",
    "    }\n",
    "    function code_toggle() {\n",
    "        if (code_show){\n",
    "            $('div.cell.code_cell.rendered.selected div.input').hide();\n",
    "        } else {\n",
    "            $('div.cell.code_cell.rendered.selected div.input').show();\n",
    "        }\n",
    "        code_show = !code_show\n",
    "    }     \n",
    "    $( document ).ready(code_toggle);\n",
    "</script>\n",
    "<a href=\"javascript:code_toggle()\"><h4>Auxiliary progress bar and plotting function</h4></a>\n",
    "''')\n",
    "display(tag)"
   ]
  },
  {
   "cell_type": "markdown",
   "metadata": {},
   "source": [
    "Create classifier instance, and train + predict the test data"
   ]
  },
  {
   "cell_type": "code",
   "execution_count": 127,
   "metadata": {
    "scrolled": true
   },
   "outputs": [
    {
     "data": {
      "application/vnd.jupyter.widget-view+json": {
       "model_id": "dbc5f4cb2c1e454f9b99fd1b96e29ee7",
       "version_major": 2,
       "version_minor": 0
      },
      "text/plain": [
       "VBox(children=(HTML(value=''), IntProgress(value=0, max=5)))"
      ]
     },
     "metadata": {},
     "output_type": "display_data"
    },
    {
     "name": "stdout",
     "output_type": "stream",
     "text": [
      "Optimal number of neighbors: 1\n",
      "Corresponding hitrate 0.97\n",
      "Wall time: 1h 5min 16s\n"
     ]
    }
   ],
   "source": [
    "%%time\n",
    "\n",
    "#hyperparameter\n",
    "n_folds = 5\n",
    "\n",
    "#initialization\n",
    "best_k = 1\n",
    "best_hitrate = 0\n",
    "\n",
    "#k fold loop, changing number of neighbors for every fold\n",
    "for i in log_progress(range(n_folds)):\n",
    "    n_neighbors = (i+1)\n",
    "    test_fold,test_labels_fold,img_fold,labels_fold = k_fold(img,labels,n_folds,i+1)\n",
    "    knn = neighbors.KNeighborsClassifier(n_neighbors, weights='uniform')\n",
    "    knn.fit(img_fold,labels_fold)\n",
    "    predicted_fold = knn.predict(test_fold)\n",
    "    hitrate = accuracy_score(predicted_fold,test_labels_fold)\n",
    "    if hitrate> best_hitrate:\n",
    "        best_hitrate = hitrate\n",
    "        best_k = n_neighbors\n",
    "print(\"Optimal number of neighbors:\",best_k)\n",
    "print(\"Corresponding hitrate\",best_hitrate)\n",
    "\n",
    "\n",
    "        "
   ]
  },
  {
   "cell_type": "code",
   "execution_count": 128,
   "metadata": {},
   "outputs": [
    {
     "name": "stdout",
     "output_type": "stream",
     "text": [
      "Wall time: 12min 45s\n"
     ]
    }
   ],
   "source": [
    "%%time\n",
    "#Fit on regular training and test set using optimal k\n",
    "knn = neighbors.KNeighborsClassifier(best_k, weights='uniform')\n",
    "knn.fit(img,labels)\n",
    "predicted = knn.predict(test)"
   ]
  },
  {
   "cell_type": "markdown",
   "metadata": {},
   "source": [
    "Create confusion matrix plotter @scilearndocs"
   ]
  },
  {
   "cell_type": "code",
   "execution_count": 129,
   "metadata": {
    "scrolled": true
   },
   "outputs": [
    {
     "name": "stdout",
     "output_type": "stream",
     "text": [
      "Normalized confusion matrix\n",
      "[[9.79859013e-01 0.00000000e+00 7.04934542e-03 0.00000000e+00\n",
      "  0.00000000e+00 1.00704935e-03 4.02819738e-03 0.00000000e+00\n",
      "  6.04229607e-03 2.01409869e-03]\n",
      " [8.56898029e-04 9.67437875e-01 5.14138817e-03 8.56898029e-04\n",
      "  5.99828620e-03 8.56898029e-04 1.71379606e-03 1.19965724e-02\n",
      "  8.56898029e-04 4.28449015e-03]\n",
      " [9.92063492e-04 2.97619048e-03 9.84126984e-01 1.98412698e-03\n",
      "  0.00000000e+00 0.00000000e+00 0.00000000e+00 5.95238095e-03\n",
      "  2.97619048e-03 9.92063492e-04]\n",
      " [0.00000000e+00 0.00000000e+00 4.95540139e-03 9.61347869e-01\n",
      "  0.00000000e+00 1.18929633e-02 0.00000000e+00 1.98216056e-03\n",
      "  1.38751239e-02 5.94648167e-03]\n",
      " [0.00000000e+00 1.02986612e-03 1.02986612e-03 1.02986612e-03\n",
      "  9.72193615e-01 2.05973223e-03 3.08959835e-03 4.11946447e-03\n",
      "  5.14933059e-03 1.02986612e-02]\n",
      " [1.10619469e-03 1.10619469e-03 0.00000000e+00 2.10176991e-02\n",
      "  0.00000000e+00 9.51327434e-01 5.53097345e-03 0.00000000e+00\n",
      "  1.43805310e-02 5.53097345e-03]\n",
      " [3.11850312e-03 1.03950104e-03 2.07900208e-03 0.00000000e+00\n",
      "  3.11850312e-03 5.19750520e-03 9.81288981e-01 0.00000000e+00\n",
      "  3.11850312e-03 1.03950104e-03]\n",
      " [9.64320154e-04 0.00000000e+00 1.54291225e-02 6.75024108e-03\n",
      "  4.82160077e-03 9.64320154e-04 0.00000000e+00 9.56605593e-01\n",
      "  3.85728062e-03 1.06075217e-02]\n",
      " [0.00000000e+00 0.00000000e+00 3.19829424e-03 7.46268657e-03\n",
      "  1.06609808e-03 6.39658849e-03 0.00000000e+00 0.00000000e+00\n",
      "  9.80810235e-01 1.06609808e-03]\n",
      " [0.00000000e+00 0.00000000e+00 0.00000000e+00 2.96735905e-03\n",
      "  2.17606330e-02 3.95647873e-03 0.00000000e+00 9.89119683e-03\n",
      "  4.94559842e-03 9.56478734e-01]]\n"
     ]
    },
    {
     "data": {
      "image/png": "[encoded data removed]",
      "text/plain": [
       "<Figure size 432x288 with 2 Axes>"
      ]
     },
     "metadata": {
      "needs_background": "light"
     },
     "output_type": "display_data"
    }
   ],
   "source": [
    "#plot results\n",
    "# Plot normalized confusion matrix\n",
    "plot_confusion_matrix(predicted, test_labels, classes=np.array([0,1,2,3,4,5,6,7,8,9]), normalize=True,\n",
    "                      title='Normalized confusion matrix')\n",
    "plt.show()"
   ]
  },
  {
   "cell_type": "code",
   "execution_count": 130,
   "metadata": {},
   "outputs": [
    {
     "name": "stdout",
     "output_type": "stream",
     "text": [
      "The accuracy of the model is 0.9691\n"
     ]
    }
   ],
   "source": [
    "print(\"The accuracy of the model is {}\".format(accuracy_score(predicted,test_labels)))"
   ]
  },
  {
   "cell_type": "code",
   "execution_count": null,
   "metadata": {},
   "outputs": [],
   "source": []
  },
  {
   "cell_type": "code",
   "execution_count": null,
   "metadata": {},
   "outputs": [],
   "source": []
  }
 ],
 "metadata": {
  "kernelspec": {
   "display_name": "Python 3",
   "language": "python",
   "name": "python3"
  },
  "language_info": {
   "codemirror_mode": {
    "name": "ipython",
    "version": 3
   },
   "file_extension": ".py",
   "mimetype": "text/x-python",
   "name": "python",
   "nbconvert_exporter": "python",
   "pygments_lexer": "ipython3",
   "version": "3.7.2"
  }
 },
 "nbformat": 4,
 "nbformat_minor": 2
}
