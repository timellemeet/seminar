{
 "cells": [
  {
   "cell_type": "code",
   "execution_count": 2,
   "metadata": {},
   "outputs": [],
   "source": [
    "%reload_ext autoreload\n",
    "%autoreload 2\n",
    "%matplotlib inline"
   ]
  },
  {
   "cell_type": "code",
   "execution_count": 1,
   "metadata": {},
   "outputs": [],
   "source": [
    "\n",
    "from sklearn import neighbors, datasets\n",
    "import numpy as np\n",
    "import matplotlib.pyplot as plt\n",
    "from sklearn.metrics import confusion_matrix, accuracy_score\n",
    "import os\n",
    "from sklearn.utils.multiclass import unique_labels\n",
    "\n",
    "n_neighbors = 3"
   ]
  },
  {
   "cell_type": "markdown",
   "metadata": {},
   "source": [
    "Check working directory, probably in knearest folder. Change to cwd to src to acces the data easily"
   ]
  },
  {
   "cell_type": "code",
   "execution_count": 3,
   "metadata": {},
   "outputs": [
    {
     "data": {
      "text/plain": [
       "'C:\\\\Users\\\\niels\\\\gitlab\\\\seminar\\\\src\\\\knearest'"
      ]
     },
     "execution_count": 3,
     "metadata": {},
     "output_type": "execute_result"
    }
   ],
   "source": [
    "os.getcwd()"
   ]
  },
  {
   "cell_type": "markdown",
   "metadata": {},
   "source": [
    "Move up one directory"
   ]
  },
  {
   "cell_type": "code",
   "execution_count": 4,
   "metadata": {},
   "outputs": [
    {
     "name": "stdout",
     "output_type": "stream",
     "text": [
      "C:\\Users\\niels\\gitlab\\seminar\\src\n"
     ]
    }
   ],
   "source": [
    "%cd .."
   ]
  },
  {
   "cell_type": "markdown",
   "metadata": {},
   "source": [
    "Load the data into numpy arrays"
   ]
  },
  {
   "cell_type": "code",
   "execution_count": 5,
   "metadata": {},
   "outputs": [],
   "source": [
    "\n",
    "img = np.genfromtxt('data\\images.csv', delimiter=',')\n",
    "test = np.genfromtxt('data\\images_test.csv', delimiter=',')\n",
    "\n",
    "labels = np.genfromtxt('data\\labels.csv', delimiter=',')\n",
    "test_labels = np.genfromtxt('data\\labels_test.csv', delimiter=',')"
   ]
  },
  {
   "cell_type": "markdown",
   "metadata": {},
   "source": [
    "Create classifier instance, and train + predict the test data"
   ]
  },
  {
   "cell_type": "code",
   "execution_count": 6,
   "metadata": {},
   "outputs": [],
   "source": [
    "knn = neighbors.KNeighborsClassifier(n_neighbors, weights='distance')\n",
    "knn.fit(img,labels)\n",
    "predicted = knn.predict(test)"
   ]
  },
  {
   "cell_type": "markdown",
   "metadata": {},
   "source": [
    "Create confusion matrix plotter @scilearndocs"
   ]
  },
  {
   "cell_type": "code",
   "execution_count": 7,
   "metadata": {},
   "outputs": [],
   "source": [
    "def plot_confusion_matrix(y_true, y_pred, classes,\n",
    "                          normalize=False,\n",
    "                          title=None,\n",
    "                          cmap=plt.cm.Blues):\n",
    "    \"\"\"\n",
    "    This function prints and plots the confusion matrix.\n",
    "    Normalization can be applied by setting `normalize=True`.\n",
    "    \"\"\"\n",
    "    if not title:\n",
    "        if normalize:\n",
    "            title = 'Normalized confusion matrix'\n",
    "        else:\n",
    "            title = 'Confusion matrix, without normalization'\n",
    "\n",
    "    # Compute confusion matrix\n",
    "    cm = confusion_matrix(y_true, y_pred)\n",
    "    # Only use the labels that appear in the data\n",
    "#     classes = classes[unique_labels(y_true, y_pred)]\n",
    "    if normalize:\n",
    "        cm = cm.astype('float') / cm.sum(axis=1)[:, np.newaxis]\n",
    "        print(\"Normalized confusion matrix\")\n",
    "    else:\n",
    "        print('Confusion matrix, without normalization')\n",
    "\n",
    "    print(cm)\n",
    "\n",
    "    fig, ax = plt.subplots()\n",
    "    im = ax.imshow(cm, interpolation='nearest', cmap=cmap)\n",
    "    ax.figure.colorbar(im, ax=ax)\n",
    "    # We want to show all ticks...\n",
    "    ax.set(xticks=np.arange(cm.shape[1]),\n",
    "           yticks=np.arange(cm.shape[0]),\n",
    "           # ... and label them with the respective list entries\n",
    "           xticklabels=classes, yticklabels=classes,\n",
    "           title=title,\n",
    "           ylabel='True label',\n",
    "           xlabel='Predicted label')\n",
    "\n",
    "    # Rotate the tick labels and set their alignment.\n",
    "    plt.setp(ax.get_xticklabels(), rotation=45, ha=\"right\",\n",
    "             rotation_mode=\"anchor\")\n",
    "\n",
    "    # Loop over data dimensions and create text annotations.\n",
    "    fmt = '.2f' if normalize else 'd'\n",
    "    thresh = cm.max() / 2.\n",
    "    for i in range(cm.shape[0]):\n",
    "        for j in range(cm.shape[1]):\n",
    "            ax.text(j, i, format(cm[i, j], fmt),\n",
    "                    ha=\"center\", va=\"center\",\n",
    "                    color=\"white\" if cm[i, j] > thresh else \"black\")\n",
    "    fig.tight_layout()\n",
    "    return ax\n"
   ]
  },
  {
   "cell_type": "code",
   "execution_count": 8,
   "metadata": {
    "scrolled": true
   },
   "outputs": [
    {
     "name": "stdout",
     "output_type": "stream",
     "text": [
      "Normalized confusion matrix\n",
      "[[9.73026973e-01 0.00000000e+00 8.99100899e-03 0.00000000e+00\n",
      "  0.00000000e+00 3.99600400e-03 3.99600400e-03 0.00000000e+00\n",
      "  6.99300699e-03 2.99700300e-03]\n",
      " [8.52514919e-04 9.65899403e-01 5.96760443e-03 8.52514919e-04\n",
      "  4.26257460e-03 8.52514919e-04 2.55754476e-03 1.53452685e-02\n",
      "  0.00000000e+00 3.41005968e-03]\n",
      " [9.87166831e-04 1.97433366e-03 9.84205331e-01 3.94866732e-03\n",
      "  0.00000000e+00 0.00000000e+00 0.00000000e+00 3.94866732e-03\n",
      "  2.96150049e-03 1.97433366e-03]\n",
      " [0.00000000e+00 0.00000000e+00 1.98216056e-03 9.66303271e-01\n",
      "  0.00000000e+00 1.18929633e-02 0.00000000e+00 0.00000000e+00\n",
      "  1.28840436e-02 6.93756194e-03]\n",
      " [0.00000000e+00 0.00000000e+00 0.00000000e+00 1.02986612e-03\n",
      "  9.76313079e-01 2.05973223e-03 4.11946447e-03 2.05973223e-03\n",
      "  5.14933059e-03 9.26879506e-03]\n",
      " [1.12107623e-03 0.00000000e+00 0.00000000e+00 1.45739910e-02\n",
      "  0.00000000e+00 9.64125561e-01 3.36322870e-03 0.00000000e+00\n",
      "  1.23318386e-02 4.48430493e-03]\n",
      " [2.07900208e-03 0.00000000e+00 1.03950104e-03 1.03950104e-03\n",
      "  5.19750520e-03 5.19750520e-03 9.81288981e-01 0.00000000e+00\n",
      "  3.11850312e-03 1.03950104e-03]\n",
      " [9.68054211e-04 0.00000000e+00 1.35527590e-02 6.77637948e-03\n",
      "  3.87221684e-03 9.68054211e-04 0.00000000e+00 9.62245886e-01\n",
      "  3.87221684e-03 7.74443369e-03]\n",
      " [0.00000000e+00 0.00000000e+00 2.13903743e-03 4.27807487e-03\n",
      "  1.06951872e-03 3.20855615e-03 0.00000000e+00 0.00000000e+00\n",
      "  9.87165775e-01 2.13903743e-03]\n",
      " [0.00000000e+00 0.00000000e+00 0.00000000e+00 3.95647873e-03\n",
      "  1.87932740e-02 3.95647873e-03 0.00000000e+00 9.89119683e-03\n",
      "  4.94559842e-03 9.58456973e-01]]\n"
     ]
    },
    {
     "data": {
      "image/png": "[encoded data removed]",
      "text/plain": [
       "<Figure size 432x288 with 2 Axes>"
      ]
     },
     "metadata": {
      "needs_background": "light"
     },
     "output_type": "display_data"
    }
   ],
   "source": [
    "#plot results\n",
    "# Plot normalized confusion matrix\n",
    "plot_confusion_matrix(predicted, test_labels, classes=np.array([0,1,2,3,4,5,6,7,8,9]), normalize=True,\n",
    "                      title='Normalized confusion matrix')\n",
    "plt.show()"
   ]
  },
  {
   "cell_type": "code",
   "execution_count": 9,
   "metadata": {},
   "outputs": [
    {
     "name": "stdout",
     "output_type": "stream",
     "text": [
      "The accuracy of the model is 0.9717\n"
     ]
    }
   ],
   "source": [
    "print(\"The accuracy of the model is {}\".format(accuracy_score(predicted,test_labels)))"
   ]
  }
 ],
 "metadata": {
  "kernelspec": {
   "display_name": "Python 3",
   "language": "python",
   "name": "python3"
  },
  "language_info": {
   "codemirror_mode": {
    "name": "ipython",
    "version": 3
   },
   "file_extension": ".py",
   "mimetype": "text/x-python",
   "name": "python",
   "nbconvert_exporter": "python",
   "pygments_lexer": "ipython3",
   "version": "3.7.0"
  }
 },
 "nbformat": 4,
 "nbformat_minor": 2
}
